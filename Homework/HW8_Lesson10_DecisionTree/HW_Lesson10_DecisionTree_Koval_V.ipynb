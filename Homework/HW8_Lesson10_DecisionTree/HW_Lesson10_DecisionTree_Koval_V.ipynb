{
 "cells": [
  {
   "cell_type": "markdown",
   "id": "3accae64",
   "metadata": {},
   "source": [
    "<font color = green >\n",
    "    \n",
    "# Home Task \n",
    "\n",
    "</font>"
   ]
  },
  {
   "cell_type": "markdown",
   "id": "d18bfd93",
   "metadata": {},
   "source": [
    "<font color = green>\n",
    "\n",
    "##  Loading Brest cancer  dataset\n",
    "</font>\n"
   ]
  },
  {
   "cell_type": "code",
   "execution_count": 20,
   "id": "c6e214c1",
   "metadata": {},
   "outputs": [],
   "source": [
    "import matplotlib.pyplot as plt\n",
    "import pandas as pd \n",
    "import numpy as np \n",
    "import os"
   ]
  },
  {
   "cell_type": "markdown",
   "id": "ecda0019",
   "metadata": {},
   "source": [
    "<font color = green>\n",
    "\n",
    "##  Sklearn init\n",
    "</font>"
   ]
  },
  {
   "cell_type": "code",
   "execution_count": 7,
   "id": "1837e0c5",
   "metadata": {},
   "outputs": [],
   "source": [
    "from sklearn.tree import DecisionTreeClassifier\n",
    "from sklearn import tree\n",
    "from sklearn.ensemble import RandomForestClassifier\n",
    "from sklearn.ensemble import GradientBoostingClassifier\n",
    "from xgboost import XGBClassifier\n",
    "\n",
    "import graphviz\n",
    "from sklearn.model_selection import train_test_split"
   ]
  },
  {
   "cell_type": "code",
   "execution_count": 8,
   "id": "f40fc515",
   "metadata": {},
   "outputs": [
    {
     "name": "stdout",
     "output_type": "stream",
     "text": [
      "labels: ['malignant' 'benign']\n",
      "features: ['mean radius' 'mean texture' 'mean perimeter' 'mean area'\n",
      " 'mean smoothness' 'mean compactness' 'mean concavity'\n",
      " 'mean concave points' 'mean symmetry' 'mean fractal dimension'\n",
      " 'radius error' 'texture error' 'perimeter error' 'area error'\n",
      " 'smoothness error' 'compactness error' 'concavity error'\n",
      " 'concave points error' 'symmetry error' 'fractal dimension error'\n",
      " 'worst radius' 'worst texture' 'worst perimeter' 'worst area'\n",
      " 'worst smoothness' 'worst compactness' 'worst concavity'\n",
      " 'worst concave points' 'worst symmetry' 'worst fractal dimension']\n"
     ]
    }
   ],
   "source": [
    "from sklearn.datasets import load_breast_cancer\n",
    "cancer = load_breast_cancer()\n",
    "X, y, labels, features = cancer.data, cancer.target, cancer.target_names, cancer.feature_names\n",
    "print ('labels:',labels)\n",
    "print ('features:', features)\n",
    "\n",
    "X_train, X_test, y_train, y_test = train_test_split(X, y, random_state = 0)"
   ]
  },
  {
   "cell_type": "code",
   "execution_count": 13,
   "id": "e5f68a17",
   "metadata": {},
   "outputs": [],
   "source": [
    "dict_names = {i:v for i,v in enumerate(labels)}"
   ]
  },
  {
   "cell_type": "code",
   "execution_count": 65,
   "id": "b53772b0",
   "metadata": {},
   "outputs": [
    {
     "data": {
      "text/plain": [
       "array(['mean radius', 'mean texture', 'mean perimeter', 'mean area',\n",
       "       'mean smoothness', 'mean compactness', 'mean concavity',\n",
       "       'mean concave points', 'mean symmetry', 'mean fractal dimension',\n",
       "       'radius error', 'texture error', 'perimeter error', 'area error',\n",
       "       'smoothness error', 'compactness error', 'concavity error',\n",
       "       'concave points error', 'symmetry error',\n",
       "       'fractal dimension error', 'worst radius', 'worst texture',\n",
       "       'worst perimeter', 'worst area', 'worst smoothness',\n",
       "       'worst compactness', 'worst concavity', 'worst concave points',\n",
       "       'worst symmetry', 'worst fractal dimension'], dtype='<U23')"
      ]
     },
     "execution_count": 65,
     "metadata": {},
     "output_type": "execute_result"
    }
   ],
   "source": [
    "features"
   ]
  },
  {
   "cell_type": "markdown",
   "id": "4df87821",
   "metadata": {},
   "source": [
    "<font color = green>\n",
    "\n",
    "##  DecisionTree \n",
    "\n",
    "</font>\n"
   ]
  },
  {
   "cell_type": "code",
   "execution_count": 18,
   "id": "19145c37",
   "metadata": {},
   "outputs": [
    {
     "name": "stdout",
     "output_type": "stream",
     "text": [
      "train accuracy= 97.653%\n",
      "test accuracy= 95.105%\n",
      "train accuracy= 97.653%\n",
      "test accuracy= 95.105%\n"
     ]
    },
    {
     "data": {
      "text/plain": [
       "'Source.gv.pdf'"
      ]
     },
     "execution_count": 18,
     "metadata": {},
     "output_type": "execute_result"
    }
   ],
   "source": [
    "# YOUR_CODE.  create the classifier and train it \n",
    "# START_CODE \n",
    "# clf = None\n",
    "max_depth = 3\n",
    "clf = DecisionTreeClassifier(\n",
    "    criterion=  'entropy',\n",
    "    random_state=20,        \n",
    "    max_depth=max_depth,    \n",
    "#     max_leaf_nodes=4,\n",
    ").fit(X_train, y_train)\n",
    "print(\"train accuracy= {:.3%}\".format(clf.score (X_train, y_train)))\n",
    "print(\"test accuracy= {:.3%}\".format(clf.score (X_test, y_test)))\n",
    "\n",
    "# END_CODE \n",
    "\n",
    "print(\"train accuracy= {:.3%}\".format(clf.score (X_train, y_train)))\n",
    "print(\"test accuracy= {:.3%}\".format(clf.score (X_test, y_test)))\n",
    "graph_viz = tree.export_graphviz(clf, out_file=None,feature_names=features, class_names=labels, filled = True)\n",
    "graph = graphviz.Source(graph_viz)\n",
    "graph.view(cleanup =True) # cleanup (bool) – Delete the source file after rendering."
   ]
  },
  {
   "cell_type": "code",
   "execution_count": 21,
   "id": "9fcf7b7f",
   "metadata": {},
   "outputs": [
    {
     "data": {
      "image/png": "[encoded data removed]",
      "text/plain": [
       "<Figure size 480x480 with 1 Axes>"
      ]
     },
     "metadata": {
      "needs_background": "light"
     },
     "output_type": "display_data"
    }
   ],
   "source": [
    "def plot_feature_importances(clf, features):\n",
    "    plt.figure(figsize=(6, 6), dpi=80)\n",
    "    c_features = len(features)\n",
    "    plt.barh(range(c_features), clf.feature_importances_)\n",
    "    plt.xlabel(\"Feature importance\")\n",
    "    plt.ylabel(\"Feature name\")\n",
    "    plt.yticks(np.arange(c_features), features)\n",
    "\n",
    "plot_feature_importances(clf, features)"
   ]
  },
  {
   "cell_type": "markdown",
   "id": "4b99e250",
   "metadata": {},
   "source": [
    "<font color = green>\n",
    "\n",
    "##  RandomForest\n",
    "\n",
    "</font>"
   ]
  },
  {
   "cell_type": "code",
   "execution_count": 61,
   "id": "600aba0e",
   "metadata": {},
   "outputs": [
    {
     "name": "stdout",
     "output_type": "stream",
     "text": [
      "\n",
      "======Random Forest\n",
      "\n",
      "max_features = 20:\n",
      "\t accuracy_train = 100.000%\n",
      "\t accuracy_test = 96.503%\n",
      "max_features = 12:\n",
      "\t accuracy_train = 100.000%\n",
      "\t accuracy_test = 97.203%\n",
      "max_features = 10:\n",
      "\t accuracy_train = 100.000%\n",
      "\t accuracy_test = 97.203%\n",
      "max_features = 8:\n",
      "\t accuracy_train = 100.000%\n",
      "\t accuracy_test = 97.203%\n",
      "max_features = 6:\n",
      "\t accuracy_train = 100.000%\n",
      "\t accuracy_test = 96.503%\n",
      "max_features = 4:\n",
      "\t accuracy_train = 100.000%\n",
      "\t accuracy_test = 97.203%\n",
      "max_features = 3:\n",
      "\t accuracy_train = 100.000%\n",
      "\t accuracy_test = 96.503%\n",
      "max_features = 2:\n",
      "\t accuracy_train = 100.000%\n",
      "\t accuracy_test = 95.105%\n",
      "max_features = 1:\n",
      "\t accuracy_train = 100.000%\n",
      "\t accuracy_test = 95.804%\n",
      "max_features is = 12\n",
      "train accuracy= 1.0\n",
      "test accuracy= 0.972027972027972\n"
     ]
    }
   ],
   "source": [
    "# YOUR_CODE.  create the classifier and train it \n",
    "# START_CODE \n",
    "print(f\"\\n======Random Forest\\n\")\n",
    "clf = None\n",
    "accuracy_train=[]\n",
    "accuracy_test=[]\n",
    "\n",
    "max_features_list = [20,12,10,8,6,4,3,2,1]    \n",
    "for i, max_features in enumerate(max_features_list):\n",
    "    clf = RandomForestClassifier(\n",
    "        random_state=0,        \n",
    "        max_features= max_features,    \n",
    "    ).fit(X_train, y_train)\n",
    "    accuracy_train.append(clf.score(X_train, y_train))\n",
    "    accuracy_test.append(clf.score(X_test, y_test))\n",
    "    print ('max_features = {}:\\n\\t accuracy_train = {:.3%}\\n\\t accuracy_test = {:.3%}'.format (\n",
    "        max_features_list[i], accuracy_train[i], accuracy_test[i]))\n",
    "    \n",
    "# END_CODE \n",
    "\n",
    "idx_max=np.argmax(accuracy_test)\n",
    "\n",
    "print(f\"max_features is = {max_features_list[idx_max]}\")\n",
    "print(f\"train accuracy= {accuracy_train[idx_max]}\")\n",
    "print(f\"test accuracy= {accuracy_test[idx_max]}\")"
   ]
  },
  {
   "cell_type": "markdown",
   "id": "f348faa6",
   "metadata": {},
   "source": [
    "<font color = green>\n",
    "\n",
    "##  Gradient Boosting Decision Trees (GBDT)\n",
    "\n",
    "</font>\n"
   ]
  },
  {
   "cell_type": "code",
   "execution_count": 63,
   "id": "722bee3d",
   "metadata": {},
   "outputs": [
    {
     "name": "stdout",
     "output_type": "stream",
     "text": [
      "\n",
      "=======Gradient Boosting Decision Trees \n",
      "\n",
      "The Depth = 1\n",
      "\ttrain accuracy= 92.723%\n",
      "\ttest accuracy= 95.804%\n",
      "The Depth = 2\n",
      "\ttrain accuracy= 97.418%\n",
      "\ttest accuracy= 96.503%\n",
      "The Depth = 3\n",
      "\ttrain accuracy= 98.826%\n",
      "\ttest accuracy= 95.804%\n",
      "The Depth = 4\n",
      "\ttrain accuracy= 99.531%\n",
      "\ttest accuracy= 92.308%\n",
      "The Depth = 5\n",
      "\ttrain accuracy= 99.531%\n",
      "\ttest accuracy= 92.308%\n"
     ]
    }
   ],
   "source": [
    "# YOUR_CODE.  create the classifier and train it \n",
    "# START_CODE \n",
    "print('\\n=======Gradient Boosting Decision Trees \\n')\n",
    "for i in range(1,6):\n",
    "    clf = GradientBoostingClassifier(learning_rate=0.01,max_depth=i).fit(X_train, y_train)\n",
    "\n",
    "# END_CODE \n",
    "    print(f'The Depth = {i}')\n",
    "    print(\"\\ttrain accuracy= {:.3%}\".format(clf.score(X_train, y_train)))\n",
    "    print(\"\\ttest accuracy= {:.3%}\".format(clf.score(X_test, y_test)))"
   ]
  },
  {
   "cell_type": "markdown",
   "id": "cafb3b11",
   "metadata": {},
   "source": [
    "<font color = green>\n",
    "\n",
    "##  XGBoost\n",
    "\n",
    "</font>"
   ]
  },
  {
   "cell_type": "code",
   "execution_count": 66,
   "id": "351c2fe1",
   "metadata": {},
   "outputs": [
    {
     "name": "stdout",
     "output_type": "stream",
     "text": [
      "train accuracy= 100.000%\n",
      "test accuracy= 98.601%\n"
     ]
    }
   ],
   "source": [
    "# YOUR_CODE.  create the classifier and train it \n",
    "# START_CODE \n",
    "from xgboost import XGBClassifier\n",
    "clf = XGBClassifier(use_label_encoder=False, eval_metric= 'logloss')\n",
    "clf.fit(X_train, y_train)\n",
    "\n",
    "# END_CODE \n",
    "\n",
    "print(\"train accuracy= {:.3%}\".format(clf.score (X_train, y_train)))\n",
    "print(\"test accuracy= {:.3%}\".format(clf.score (X_test, y_test)))"
   ]
  }
 ],
 "metadata": {
  "kernelspec": {
   "display_name": "Python 3",
   "language": "python",
   "name": "python3"
  },
  "language_info": {
   "codemirror_mode": {
    "name": "ipython",
    "version": 3
   },
   "file_extension": ".py",
   "mimetype": "text/x-python",
   "name": "python",
   "nbconvert_exporter": "python",
   "pygments_lexer": "ipython3",
   "version": "3.8.5"
  }
 },
 "nbformat": 4,
 "nbformat_minor": 5
}
