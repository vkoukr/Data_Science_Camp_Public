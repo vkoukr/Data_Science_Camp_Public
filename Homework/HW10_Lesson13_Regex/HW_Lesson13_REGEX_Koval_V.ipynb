{
 "cells": [
  {
   "cell_type": "markdown",
   "id": "bb828b1f-7e75-4b8f-9a0e-4fe221eed7ec",
   "metadata": {},
   "source": [
    "<font color = green >\n",
    "\n",
    "## HOMEWORK - WORKING WITH REGEX\n",
    "\n",
    "</font>"
   ]
  },
  {
   "cell_type": "code",
   "execution_count": 14,
   "id": "0f9bf628-00ab-4fe8-bf4b-7eb8c86dad8e",
   "metadata": {},
   "outputs": [],
   "source": [
    "import matplotlib.pyplot as plt\n",
    "import numpy as np\n",
    "import pandas as pd\n",
    "import re"
   ]
  },
  {
   "cell_type": "markdown",
   "id": "f0392e87-9fc4-455f-afa3-786e91cef557",
   "metadata": {},
   "source": [
    "<font color = green >\n",
    "\n",
    "## Load TXT file \n",
    "\n",
    "</font>"
   ]
  },
  {
   "cell_type": "code",
   "execution_count": 15,
   "id": "cb81ec51-9b90-48f0-ae95-01f084a57eb9",
   "metadata": {},
   "outputs": [
    {
     "name": "stdout",
     "output_type": "stream",
     "text": [
      "03/25/93 Total time of visit (in minutes):\n",
      "6/18/85 Primary Care Doctor:\n",
      "sshe plans to move as of 7/8/71 In-Home Services: None\n",
      "7 on 9/27/75 Audit C Score Current:\n",
      "2/6/96 sleep studyPain Treatment Pain Level (Numeric Scale): 7\n",
      ".Per 7/06/79 Movement D/O note:\n",
      "4, 5/18/78 Patient's thoughts about current substance abuse:\n",
      "10/24/89 CPT Code: 90801 - Psychiatric Diagnosis Interview\n",
      "3/7/86 SOS-10 Total Score:\n",
      "(4/10/71)Score-1Audit C Score Current:\n",
      "(5/11/85) Crt-1.96, BUN-26; AST/ALT-16/22; WBC_12.6Activ\n"
     ]
    }
   ],
   "source": [
    "import os\n",
    "cwd= os.getcwd() # current working directory\n",
    "# path = os.path.join(cwd,'data')\n",
    "fn=  os.path.join('dates.txt')\n",
    "\n",
    "with open(fn, 'r') as f:\n",
    "    content = f.read()\n",
    "print (content[:500])\n",
    "\n",
    "df = pd.DataFrame(content.split('\\n'), columns=['text'])\n",
    "df['orig_index']=df.index\n",
    "df['analyze1']=False\n",
    "df.drop(500, axis='index', inplace=True)\n"
   ]
  },
  {
   "cell_type": "markdown",
   "id": "db2ff856-6cdb-4dc8-a5e0-b1ec62543ae5",
   "metadata": {},
   "source": [
    "<font color = green >\n",
    "\n",
    "## Selecting text with dates\n",
    "\n",
    "</font>"
   ]
  },
  {
   "cell_type": "code",
   "execution_count": 17,
   "id": "71181bfa-edb3-4a5c-934f-3407df373c2f",
   "metadata": {},
   "outputs": [
    {
     "name": "stdout",
     "output_type": "stream",
     "text": [
      "text          500\n",
      "orig_index    500\n",
      "analyze1      500\n",
      "dtype: int64\n"
     ]
    }
   ],
   "source": [
    "for cell_string in range(0,len(df)):\n",
    "#    print('\\n'+str(cell_string)+'\\t'+df.iloc[cell_string, 0])\n",
    "    t=re.findall(r'(\\d{1,2}([\\/ ]|[-])(\\d{1,2}|January|Jan|February|Feb|March|Mar|April|Apr|May|May|June|Jun|July|Jul|August|Aug|September|Sep|October|Oct|November|Nov|December|Dec)([\\/ ]|[-])\\d{2,4})', df.iloc[cell_string, 0])\n",
    "    if t!=[]:\n",
    "        df.iloc[cell_string, 2]=t[0][0]\n",
    "    else:\n",
    "        t=re.findall(r'((January|Jan|February|Feb|March|Mar|April|Apr|May|May|June|Jun|July|Jul|August|Aug|September|Sep|October|Oct|November|Nov|December|Dec)[. ](\\d{2}|[ ]\\d{2})[, ](\\d{2,4}|[ ]\\d{2,4}))', df.iloc[cell_string, 0])\n",
    "        if t!=[]: \n",
    "            df.iloc[cell_string, 2]=t[0][0]\n",
    "        else:\n",
    "            t=re.findall(r'(\\d{0,1}(January|Janaury|Jan|February|Feb|March|Mar|April|Apr|May|May|June|Jun|July|Jul|August|Aug|September|Sep|October|Oct|November|Nov|December|Decemeber|Dec)[, ](\\d{2,4}|[ ]\\d{2,4}))', df.iloc[cell_string, 0])\n",
    "            if t!=[]: \n",
    "                df.iloc[cell_string, 2]=t[0][0]\n",
    "            else:\n",
    "                t=re.findall(r'\\d{1,2}[\\/]\\d{4}|\\d{4}', df.iloc[cell_string, 0])\n",
    "                if t!=[]: \n",
    "                    df.iloc[cell_string, 2]=t[0]\n",
    "\n",
    "        \n",
    "print(500-df[df['analyze1']==False].count())\n",
    "#df_view=df[df['analyze1']==False]"
   ]
  },
  {
   "cell_type": "markdown",
   "id": "2f2d0ecc-d6c1-4180-b38b-5a8229daba00",
   "metadata": {},
   "source": [
    "<font color = green >\n",
    "\n",
    "## Converting recgnized data to required format\n",
    "\n",
    "</font>"
   ]
  },
  {
   "cell_type": "code",
   "execution_count": 23,
   "id": "ec29d4c6-464a-4f0c-b234-e2dd4d487981",
   "metadata": {},
   "outputs": [
    {
     "name": "stdout",
     "output_type": "stream",
     "text": [
      "text          500\n",
      "orig_index    500\n",
      "analyze1      500\n",
      "results       500\n",
      "dtype: int64\n"
     ]
    }
   ],
   "source": [
    "#----Отримання результату\n",
    "import datetime as DT\n",
    "from datetime import datetime\n",
    "\n",
    "df['results']=False\n",
    "for cell_string in range(0,len(df)):\n",
    "    t=re.findall(r'\\d{1,2}[\\/-]\\d{1,2}[\\/-]\\d{2,4}',df.loc[cell_string,'analyze1'])\n",
    "    if t!=[]:\n",
    "        t[0]=t[0].replace('-','/')\n",
    "#         print(t[0])\n",
    "        #df.loc[cell_string,'results']=datetime.strptime(t[0], '%m/%d/%y').date()\n",
    "        if len(t[0])<=8: \n",
    "            df.loc[cell_string,'results']=datetime.strptime(t[0], '%m/%d/%y').date()\n",
    "        else:\n",
    "            df.loc[cell_string,'results']=datetime.strptime(t[0], '%m/%d/%Y').date()        \n",
    "    else:\n",
    "        t=re.findall('(\\d{2}[ ](January|Jan|February|Feb|March|Mar|April|Apr|May|May|June|Jun|July|Jul|August|Aug|September|Sep|October|Oct|November|Nov|December|Dec)[ ]\\d{4})', df.loc[cell_string, 'analyze1'])\n",
    "        if t!=[]:\n",
    "#            t[0]=t[0].replace('-','/')\n",
    "            if len(t[0][0])==11: \n",
    "                df.loc[cell_string,'results']=datetime.strptime(t[0][0], '%d %b %Y').date()\n",
    "            else:\n",
    "                df.loc[cell_string,'results']=datetime.strptime(t[0][0], '%d %B %Y').date()\n",
    "        else:\n",
    "            t=re.findall('((January|Jan|February|Feb|March|Mar|April|Apr|May|May|June|Jun|July|Jul|August|Aug|September|Sep|October|Oct|November|Nov|December|Dec)([.][ ]\\d{2}|[ ]\\d{2})([,][ ]\\d{4}|[ ]\\d{4}))', df.loc[cell_string, 'analyze1'])\n",
    "            if t!=[]:\n",
    "                temp=t[0][0].replace(',','')\n",
    "                temp=temp.replace('.','')\n",
    "                if len(temp)==11: \n",
    "                    df.loc[cell_string,'results']=datetime.strptime(temp, '%b %d %Y').date()\n",
    "                else:\n",
    "                    df.loc[cell_string,'results']=datetime.strptime(temp, '%B %d %Y').date()\n",
    "            else:\n",
    "                t=re.findall('((January|Janaury|Jan|February|Feb|March|Mar|April|Apr|May|May|June|Jun|July|Jul|August|Aug|September|Sep|October|Oct|November|Nov|December|Decemeber|Dec)([,][ ]\\d{4}|[ ]\\d{4}))', df.loc[cell_string, 'analyze1'])\n",
    "                if t!=[]:\n",
    "                    temp=t[0][0].replace(',','')\n",
    "                    temp=temp.replace('Janaury','January')\n",
    "                    temp=temp.replace('Decemeber','December')\n",
    "                    if len(temp)==8: \n",
    "                        df.loc[cell_string,'results']=datetime.strptime(temp, '%b %Y').date()\n",
    "                    else:\n",
    "                        df.loc[cell_string,'results']=datetime.strptime(temp, '%B %Y').date()\n",
    "                else:\n",
    "                    t=re.findall(r'\\d{1,2}[\\/]\\d{4}|\\d{4}', df.iloc[cell_string, 0])\n",
    "                    if t!=[]:\n",
    "                        if len(t[0])==4:\n",
    "                            df.loc[cell_string,'results']=datetime.strptime(t[0], '%Y').date()\n",
    "                        else:\n",
    "                            df.loc[cell_string,'results']=datetime.strptime(t[0], '%m/%Y').date()\n",
    "    if cell_string==321: df.loc[cell_string,'results']=datetime.strptime('1999/06/02', '%Y/%m/%d').date()\n",
    "\n",
    "print(500-df[df['results']==False].count())\n",
    "df_view=df[df['results']==False]\n"
   ]
  },
  {
   "cell_type": "markdown",
   "id": "9fc1136f-06a5-4b14-85de-f5817b419c5c",
   "metadata": {},
   "source": [
    "<font color = green >\n",
    "\n",
    "## Sorting and preparing final result\n",
    "\n",
    "</font>"
   ]
  },
  {
   "cell_type": "code",
   "execution_count": 24,
   "id": "6b3b5616-947e-43c7-ad8d-9ca76ab3e8d7",
   "metadata": {},
   "outputs": [
    {
     "name": "stdout",
     "output_type": "stream",
     "text": [
      "        results  orig_index\n",
      "0    1971-04-10           9\n",
      "1    1971-05-18          84\n",
      "2    1971-07-08           2\n",
      "3    1971-07-11          53\n",
      "4    1971-09-12          28\n",
      "..          ...         ...\n",
      "495  2016-05-01         231\n",
      "496  2016-05-30         141\n",
      "497  2016-10-13         186\n",
      "498  2016-10-19         161\n",
      "499  2016-11-01         413\n",
      "\n",
      "[500 rows x 2 columns]\n"
     ]
    }
   ],
   "source": [
    "#------Sorting---\n",
    "df.sort_values('results', inplace=True)\n",
    "df=df[['results','orig_index','text']]\n",
    "df=df.reset_index()\n",
    "df.drop(['index'], axis=1, inplace=True)\n",
    "print(df[['results','orig_index']])"
   ]
  },
  {
   "cell_type": "code",
   "execution_count": null,
   "id": "b9a46524-4844-47a2-b8cf-0d70bab7025d",
   "metadata": {},
   "outputs": [],
   "source": []
  }
 ],
 "metadata": {
  "kernelspec": {
   "display_name": "Python 3",
   "language": "python",
   "name": "python3"
  },
  "language_info": {
   "codemirror_mode": {
    "name": "ipython",
    "version": 3
   },
   "file_extension": ".py",
   "mimetype": "text/x-python",
   "name": "python",
   "nbconvert_exporter": "python",
   "pygments_lexer": "ipython3",
   "version": "3.8.5"
  }
 },
 "nbformat": 4,
 "nbformat_minor": 5
}
