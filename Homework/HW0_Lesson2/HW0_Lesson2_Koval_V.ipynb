{
 "cells": [
  {
   "cell_type": "code",
   "execution_count": 2,
   "id": "0e95c65f-5337-4212-9d2c-4fdc59d5a24b",
   "metadata": {},
   "outputs": [
    {
     "name": "stdout",
     "output_type": "stream",
     "text": [
      "Кількість добутків у 1 ствердженні - 1068\n",
      "Кількість елементів суми у 2 ствердженні - 10\n",
      "Кількість добутків у 3 ствердженні- 86\n",
      "Кількість елементів суми у 4 ствердженні- 1\n",
      "---------- \n",
      "Результат:\t Елементи (a,b)=(4,13);\n",
      "\t\t\t Добуток=52; \n",
      "\t\t\t Сума=17\n"
     ]
    }
   ],
   "source": [
    "import numpy as np\n",
    "Matr_1 = np.zeros((10000, 100))\n",
    "for i in range(4, 9802):    # добутки (максимум 99*99=9801)\n",
    "    for first_numb in range(99, 2, -1):    # діапазон перших чисел\n",
    "        if int(i/first_numb) < 100:  # -обмеження для другого числа (не може бути >100)\n",
    "            if i % first_numb == 0 and first_numb != i and Matr_1[i, int(i/first_numb)] != 1:\n",
    "                Matr_1[i, first_numb] = 1\n",
    "                #print(i,\"\\t\",Matr_prod[i,1:j+1])\n",
    "Matr_1_suma = np.sum(Matr_1, axis=1)\n",
    "Matr_1_suma_final = Matr_1_suma > 1\n",
    "print(f\"Кількість добутків у 1 ствердженні - {np.sum(Matr_1_suma_final)}\")\n",
    "\n",
    "Matr_2 = np.zeros((200, 100))\n",
    "for i in range(4, 199):     # суми (максимум 99+99=198)\n",
    "    first_numb = 2                 # перше число\n",
    "    while first_numb < 100 and first_numb < i-1:\n",
    "        if (i-first_numb) < 100:     # обмеження для другого числа (<100)\n",
    "         if Matr_1_suma_final[first_numb*(i-first_numb)] and Matr_2[i, i-first_numb] != 1:\n",
    "             Matr_2[i, first_numb] = 1\n",
    "         elif Matr_1_suma_final[first_numb*(i-first_numb)] != 1 and Matr_2[i, i-first_numb] != 1000:\n",
    "             Matr_2[i, first_numb] = 1000           # признак\n",
    "        first_numb += 1\n",
    "Matr_2_suma = np.sum(Matr_2, axis=1)\n",
    "Matr_2_suma_final = np.logical_and(Matr_2_suma > 0, Matr_2_suma < 1000)\n",
    "print(f\"Кількість елементів суми у 2 ствердженні - {np.sum(Matr_2_suma_final)}\")\n",
    "\n",
    "Matr_3 = np.zeros((10000, 200))\n",
    "for i in range(4, 9802):    # добутки (максимум 99*99=9801)\n",
    "     first_numb = 2                 # перше число    \n",
    "     while first_numb < 100 and first_numb < i-1:\n",
    "         if i % first_numb == 0 and first_numb < i-1 and i/first_numb<100 and (first_numb+int(i/first_numb))<200 and Matr_3[i, int(i/first_numb)] != 1:\n",
    "             if Matr_2_suma_final[first_numb+int(i/first_numb)]:\n",
    "                    Matr_3[i, first_numb] = 1                \n",
    "         first_numb += 1\n",
    "Matr_3_suma = np.sum(Matr_3, axis=1)\n",
    "Matr_3_suma_final = Matr_3_suma == 1\n",
    "print(f\"Кількість добутків у 3 ствердженні- {np.sum(Matr_3_suma_final)}\")\n",
    "\n",
    "Matr_4 = np.zeros((200, 100))\n",
    "for i in range(4, 199):     # суми (максимум 99+99=198)\n",
    "    first_numb = 2                 # перше число\n",
    "    while first_numb < 100 and first_numb < i-1:\n",
    "        if (i-first_numb) < 100:     # обмеження для другого числа (<100)\n",
    "         if Matr_3_suma_final[first_numb*(i-first_numb)] and Matr_2_suma_final[i] and Matr_4[i, i-first_numb]!=1:\n",
    "             Matr_4[i, first_numb] = 1\n",
    "        first_numb += 1\n",
    "Matr_4_suma = np.sum(Matr_4, axis=1)\n",
    "Matr_4_suma_final = Matr_4_suma == 1\n",
    "print(f\"Кількість елементів суми у 4 ствердженні- {np.sum(Matr_4_suma_final)}\")\n",
    "\n",
    "suma=np.where(Matr_4_suma_final==1)[0]\n",
    "first_numb=np.where(Matr_4[suma[0],:]==1)[0]\n",
    "second_numb=suma[0]-first_numb\n",
    "\n",
    "print(f'---------- \\nРезультат:\\t Елементи (a,b)=({first_numb[0]},{second_numb[0]});\\n\\t\\t\\t Добуток={first_numb[0]*second_numb[0]}; \\n\\t\\t\\t Сума={suma[0]}')"
   ]
  },
  {
   "cell_type": "code",
   "execution_count": null,
   "id": "c5d00bf7-50d5-41a7-a9d3-887733bd5141",
   "metadata": {},
   "outputs": [],
   "source": []
  }
 ],
 "metadata": {
  "kernelspec": {
   "display_name": "Python 3",
   "language": "python",
   "name": "python3"
  },
  "language_info": {
   "codemirror_mode": {
    "name": "ipython",
    "version": 3
   },
   "file_extension": ".py",
   "mimetype": "text/x-python",
   "name": "python",
   "nbconvert_exporter": "python",
   "pygments_lexer": "ipython3",
   "version": "3.8.5"
  }
 },
 "nbformat": 4,
 "nbformat_minor": 5
}
