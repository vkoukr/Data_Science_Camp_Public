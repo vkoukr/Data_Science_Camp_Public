{
  "nbformat": 4,
  "nbformat_minor": 0,
  "metadata": {
    "colab": {
      "name": "Copy of HW17_Lesson22_NN_Koval_V_colab.ipynb",
      "provenance": [],
      "collapsed_sections": [],
      "authorship_tag": "ABX9TyMk65NA1I/EKFEcakZfSaFr",
      "include_colab_link": true
    },
    "kernelspec": {
      "name": "python3",
      "display_name": "Python 3"
    },
    "language_info": {
      "name": "python"
    }
  },
  "cells": [
    {
      "cell_type": "markdown",
      "metadata": {
        "id": "view-in-github",
        "colab_type": "text"
      },
      "source": [
        "<a href=\"https://colab.research.google.com/github/vkoukr/Data_Science_Camp_Public/blob/main/Homework/HW18_Lesson22_DNN/HW17_Lesson22_NN_Koval_V_colab.ipynb\" target=\"_parent\"><img src=\"https://colab.research.google.com/assets/colab-badge.svg\" alt=\"Open In Colab\"/></a>"
      ]
    },
    {
      "cell_type": "code",
      "metadata": {
        "id": "DYTlCDxztRYN"
      },
      "source": [
        "import numpy as np\n",
        "import h5py \n",
        "import matplotlib.pyplot as plt\n",
        "from scipy import ndimage\n"
      ],
      "execution_count": null,
      "outputs": []
    },
    {
      "cell_type": "code",
      "metadata": {
        "id": "ruYYvqJ0tT38"
      },
      "source": [
        "import os\n",
        "cwd= os.getcwd() # current working directory\n",
        "path = os.path.join(cwd,'data')"
      ],
      "execution_count": null,
      "outputs": []
    },
    {
      "cell_type": "code",
      "metadata": {
        "id": "-oH5x_gDtXb9"
      },
      "source": [
        "#@title\n",
        "def load_dataset():\n",
        "    file_name=  os.path.join(path , 'train_catvnoncat.h5')\n",
        "    train_dataset = h5py.File(file_name, \"r\")\n",
        "    X_train = np.array(train_dataset[\"train_set_x\"][:]) # your train set features\n",
        "    Y_train = np.array(train_dataset[\"train_set_y\"][:]) # your train set labels\n",
        "\n",
        "    file_name=  os.path.join(path , 'test_catvnoncat.h5')\n",
        "    test_dataset = h5py.File(file_name, \"r\")\n",
        "    X_test = np.array(test_dataset[\"test_set_x\"][:]) # your test set features\n",
        "    Y_test = np.array(test_dataset[\"test_set_y\"][:]) # your test set labels\n",
        "\n",
        "    classes = ['non-cat','cat']\n",
        "\n",
        "    return X_train, Y_train, X_test, Y_test, classes\n",
        "\n",
        "X_train,Y_train, X_test, Y_test, classes = load_dataset()"
      ],
      "execution_count": null,
      "outputs": []
    },
    {
      "cell_type": "code",
      "metadata": {
        "id": "60LDk7nGtbEh",
        "colab": {
          "base_uri": "https://localhost:8080/",
          "height": 268
        },
        "outputId": "ae30086b-87ad-4dc3-f18e-b052cdd2a7aa"
      },
      "source": [
        "#-Show Cat\n",
        "def show_cat(In_Im, num):\n",
        "    t=In_Im[num,:,:,:]\n",
        "    plt.figure()\n",
        "    plt.imshow(t)\n",
        "    return\n",
        "\n",
        "index = 15\n",
        "show_cat(X_train,index)\n",
        "# for index in range(0,15):\n",
        "#     show_cat(X_train,index)"
      ],
      "execution_count": null,
      "outputs": [
        {
          "output_type": "display_data",
          "data": {
            "image/png": "[encoded data removed]",
            "text/plain": [
              "<Figure size 432x288 with 1 Axes>"
            ]
          },
          "metadata": {
            "needs_background": "light"
          }
        }
      ]
    },
    {
      "cell_type": "code",
      "metadata": {
        "colab": {
          "base_uri": "https://localhost:8080/"
        },
        "id": "RPW7MCZizM5t",
        "outputId": "78416343-d224-4d94-a54d-2027cb08d182"
      },
      "source": [
        "#---- Show parameters\n",
        "print('\\n ----- Output Parameters:-----')\n",
        "print('X_train = ',X_train.shape)\n",
        "print('X_test = ',X_test.shape)\n",
        "print('Y_train = ',Y_train.shape)\n",
        "print('Y_test = ',Y_test.shape)\n",
        "\n",
        "m_train=X_train.shape[0]\n",
        "print('Number of training examples: m_train = ',m_train) \n",
        "m_test=X_test.shape[0]\n",
        "print('Number of testing examples: m_test =', m_test) \n",
        "num_px=X_train.shape[1]\n",
        "print('Height/Width of each image: num_px = ',num_px)\n",
        "print('Each image is of size: ',X_train.shape[1:4])"
      ],
      "execution_count": null,
      "outputs": [
        {
          "output_type": "stream",
          "name": "stdout",
          "text": [
            "\n",
            " ----- Output Parameters:-----\n",
            "X_train =  (209, 64, 64, 3)\n",
            "X_test =  (50, 64, 64, 3)\n",
            "Y_train =  (209,)\n",
            "Y_test =  (50,)\n",
            "Number of training examples: m_train =  209\n",
            "Number of testing examples: m_test = 50\n",
            "Height/Width of each image: num_px =  64\n",
            "Each image is of size:  (64, 64, 3)\n"
          ]
        }
      ]
    },
    {
      "cell_type": "markdown",
      "metadata": {
        "id": "oOS4eG6MfBwD"
      },
      "source": [
        "Expected result\n",
        "X_train.shape= (209, 64, 64, 3) X_test.shape= (50, 64, 64, 3) Y_train.shape= (209,) Y_test.shape= (50,) Number of training examples: m_train = 209 Number of testing examples: m_test = 50 Height/Width of each image: num_px = 64 Each image is of size: (64, 64, 3)"
      ]
    },
    {
      "cell_type": "code",
      "metadata": {
        "colab": {
          "base_uri": "https://localhost:8080/"
        },
        "id": "qY5_QbObziex",
        "outputId": "e81ddcb6-04e0-46d7-cb0f-c28cb284b5fd"
      },
      "source": [
        "# ---Reshape data\n",
        "X_train_flatten=X_train.reshape(m_train,num_px*num_px*3).T\n",
        "Y_train=Y_train\n",
        "X_test_flatten=X_test.reshape(X_test.shape[0],num_px*num_px*3).T\n",
        "Y_test=Y_test\n",
        "\n",
        "\n",
        "\n",
        "print(f\"X_train_flatten shape: {X_train_flatten.shape}\")\n",
        "print(f\"Y_train shape: {Y_train.shape}\")\n",
        "print(f\"X_test_flatten shape: {X_test_flatten.shape}\")\n",
        "print(f\"Y_test shape: {Y_test.shape}\")\n"
      ],
      "execution_count": null,
      "outputs": [
        {
          "output_type": "stream",
          "name": "stdout",
          "text": [
            "X_train_flatten shape: (12288, 209)\n",
            "Y_train shape: (1, 209)\n",
            "X_test_flatten shape: (12288, 50)\n",
            "Y_test shape: (1, 50)\n"
          ]
        }
      ]
    },
    {
      "cell_type": "markdown",
      "metadata": {
        "id": "QrPllXlQe89q"
      },
      "source": [
        "<font color = blue >\n",
        "\n",
        "###  Expected result\n",
        "\n",
        "</font>\n",
        "\n",
        "`X_train_flatten shape: (12288, 209)\n",
        "Y_train shape: (1, 209)\n",
        "X_test_flatten shape: (12288, 50)\n",
        "Y_test shape: (1, 50)`\n",
        "\n"
      ]
    },
    {
      "cell_type": "code",
      "metadata": {
        "id": "Zs695pMYzrj1"
      },
      "source": [
        "#----Normalize\n",
        "X_train_scaled = X_train_flatten/255.\n",
        "X_test_scaled = X_test_flatten/255."
      ],
      "execution_count": null,
      "outputs": []
    },
    {
      "cell_type": "code",
      "metadata": {
        "colab": {
          "base_uri": "https://localhost:8080/"
        },
        "id": "Sqdn3sj-zw3b",
        "outputId": "7bd8a248-8d6a-46db-f426-b8ea61a13474"
      },
      "source": [
        "#------- Init parameters\n",
        "def initialize_parameters(layer_dims):\n",
        "    \"\"\"\n",
        "    layer_dims - list containing the dimensions of each layer in our network including input layer e.g. [12288,7,1]\n",
        "    Returns: dictionary with keys \"W\" and \"b\" and their values are dicts with keys corresponding to layers numbers.\n",
        "        for 'W' - value for every layer is weight matrix of shape (layer_dims[l], layer_dims[l-1])\n",
        "        for 'b' - bias vector of shape (layer_dims[l], 1)\n",
        "    \"\"\"    \n",
        "    np.random.seed(1)\n",
        "    parameters = {'W':{}, 'b':{}}\n",
        "\n",
        "    # Implement initialization using np.random.randn to match expected result\n",
        "    \n",
        "    for layer in range(1, len(layer_dims)):\n",
        "        parameters[\"W\"][layer] = np.random.randn(layer_dims[layer], layer_dims[layer - 1])/np.sqrt(layer_dims[layer-1])\n",
        "        parameters[\"b\"][layer] = np.zeros((layer_dims[layer], 1))\n",
        "    \n",
        "    return parameters\n",
        "\n",
        "# check the initialize_parameters()\n",
        "layer_dims= [2,3,5,1] \n",
        "params = initialize_parameters(layer_dims)\n",
        "for l in range(1,len(layer_dims)):\n",
        "    print ('W[{0}] =\\n{1}\\nb[{0}] =\\n{2}\\n'.format(l, params['W'][l], params['b'][l] ))\n"
      ],
      "execution_count": null,
      "outputs": [
        {
          "output_type": "stream",
          "name": "stdout",
          "text": [
            "W[1] =\n",
            "[[ 1.14858562 -0.43257711]\n",
            " [-0.37347383 -0.75870339]\n",
            " [ 0.6119356  -1.62743362]]\n",
            "b[1] =\n",
            "[[0.]\n",
            " [0.]\n",
            " [0.]]\n",
            "\n",
            "W[2] =\n",
            "[[ 1.00736754 -0.43948301  0.18419731]\n",
            " [-0.14397405  0.84414841 -1.18942279]\n",
            " [-0.18614766 -0.22173389  0.65458209]\n",
            " [-0.63502252 -0.09955147 -0.50683179]\n",
            " [ 0.02437212  0.33648852 -0.63544278]]\n",
            "b[2] =\n",
            "[[0.]\n",
            " [0.]\n",
            " [0.]\n",
            " [0.]\n",
            " [0.]]\n",
            "\n",
            "W[3] =\n",
            "[[ 0.51193601  0.40320363  0.2247223   0.40287503 -0.30577239]]\n",
            "b[3] =\n",
            "[[0.]]\n",
            "\n"
          ]
        }
      ]
    },
    {
      "cell_type": "code",
      "metadata": {
        "id": "33gA1QRRz1uu"
      },
      "source": [
        "#----- Forward propagation---\n",
        "def forward_propagation_step(A_prev, W, b, activation):\n",
        "    \"\"\"\n",
        "    A_prev - activations from previous layer: (size of previous layer, number of examples)\n",
        "    W - weights matrix: array of shape (size of current layer, size of previous layer)\n",
        "    b - bias vector, array of shape (size of the current layer, 1)\n",
        "    activation - text string \"sigmoid\" or \"relu\"\n",
        "\n",
        "    Returns:\n",
        "    A -  post-activation value \n",
        "    cache - tuple containing W, b, A_prev, Z stored for computing the backward pass\n",
        "    \"\"\"\n",
        "    \n",
        "    Z = W@A_prev+b\n",
        "    \n",
        "    if activation == \"sigmoid\":\n",
        "        A = sigmoid(Z)\n",
        "        \n",
        "    elif activation == \"relu\":\n",
        "        A = relu(Z)\n",
        "\n",
        "    assert (A.shape == (W.shape[0], A_prev.shape[1]))\n",
        "\n",
        "    cache = (W, b, A_prev, Z) # used at backward propagation. Note: b looks as need just to check the shape of dJ_db\n",
        "    return A, cache\n",
        "\n",
        "\n",
        "def sigmoid(Z):\n",
        "    return 1/(1+np.exp(-Z))\n",
        "\n",
        "def relu(Z):\n",
        "    return np.maximum(0,Z)\n",
        "\n",
        "\n",
        "def compute_cost(A_last, Y):\n",
        "    \"\"\"\n",
        "    A_last - vector of predicted probabilties - activations of last layer L, shape (1, number of examples)\n",
        "    Y - true label e.g. cat vs non-cat, shape (1, number of examples)\n",
        "    Returns:\n",
        "    cost - cross-entropy cost\n",
        "    \"\"\"\n",
        "    assert (A_last.shape == Y.shape)\n",
        "    \n",
        "    m = Y.shape[1]\n",
        "    # Compute loss from  A_last and Y.\n",
        "    cost = (-1/m) * np.sum(np.multiply(Y, np.log(A_last)) + (1 - Y) * np.log(1 - A_last))\n",
        "    \n",
        "    assert(cost.shape == ()) \n",
        "    \n",
        "    return cost\n",
        "\n",
        "def init_backward_propagation(Y, A_last):\n",
        "    dL_dA_last =  -Y/A_last+(1-Y)/(1-A_last)\n",
        "    return dL_dA_last\n"
      ],
      "execution_count": null,
      "outputs": []
    },
    {
      "cell_type": "code",
      "metadata": {
        "id": "3D4iOP9Iz8DY"
      },
      "source": [
        "#----- Backward propagation---\n",
        "def init_backward_propagation(Y, A_last):\n",
        "    dL_dA_last =  -Y/A_last + ((1 - Y) / (1 - A_last))\n",
        "    return dL_dA_last\n",
        "\n",
        "def backward_propagation_step(dL_dA, cache, activation):\n",
        "    \"\"\"\n",
        "    dL_dA - activation gradient for current layer l\n",
        "    cache - (W, b, A_prev, Z) stored for current layer  l\n",
        "    activation - string: \"sigmoid\" or \"relu\"\n",
        "    \n",
        "    Returns:\n",
        "    dL_dA_prev - Gradient activation of the previous layer l-1, same shape as A_prev\n",
        "    dL_dW - Gradient of W current layer l, same shape as W\n",
        "    dL_db - Gradient of b (current layer l), same shape as b\n",
        "    \"\"\"\n",
        "    W, b, A_prev, Z = cache \n",
        "\n",
        "    # backward activation part:\n",
        "    if activation == \"relu\":\n",
        "        dg_dz = relu_backward(Z)\n",
        "    elif activation == \"sigmoid\":\n",
        "        dg_dz = sigmoid_backward(Z)\n",
        "        \n",
        "    assert (dL_dA.shape == dg_dz.shape)\n",
        "    dL_dZ = dL_dA * dg_dz\n",
        "\n",
        "    # backward linear part:\n",
        "    m = A_prev.shape[1]\n",
        "    dL_dW = 1/m * dL_dZ @ A_prev.T\n",
        "    dL_db = 1/m * np.sum(dL_dZ, axis = 1, keepdims=True)\n",
        "    dL_dA_prev = W.T @ dL_dZ\n",
        "    \n",
        "\n",
        "    assert (dL_dA_prev.shape == A_prev.shape)\n",
        "    assert (dL_dW.shape == W.shape)\n",
        "    assert (dL_db.shape == b.shape)\n",
        "\n",
        "    return dL_dA_prev, dL_dW, dL_db\n",
        "\n",
        "def relu_backward(Z):\n",
        "    dg_dz = np.where(Z <= 0,0,1)\n",
        "    assert (dg_dz.shape == Z.shape)    \n",
        "    return dg_dz\n",
        "\n",
        "def sigmoid_backward(Z):\n",
        "\n",
        "    dg_dz = sigmoid(Z) * (1 - sigmoid(Z))\n",
        "    assert (dg_dz.shape == Z.shape)    \n",
        "    return dg_dz"
      ],
      "execution_count": null,
      "outputs": []
    },
    {
      "cell_type": "code",
      "metadata": {
        "id": "xqSQr222KDOR"
      },
      "source": [
        "#------- Update parameters ----------\n",
        "def update_parameters(parameters, grads, learning_rate):\n",
        "    \"\"\"\n",
        "    Update parameters due to gradient descent rule \n",
        "    parameters - dictionary with keys 'W' and 'b' each is dict with keys of layer numbers \n",
        "    grads - dictionary with keys 'W' and 'b' each is dict with keys of layer numbers \n",
        "   \n",
        "    Returns: updated parameters the same shape as input parameters \n",
        "    \"\"\"\n",
        "   \n",
        "    for l in range(1, len(parameters['W']) + 1):\n",
        "        parameters['W'][l] -= learning_rate * grads['W'][l]\n",
        "        parameters['b'][l] -= learning_rate * grads['b'][l]\n",
        "    return parameters"
      ],
      "execution_count": null,
      "outputs": []
    },
    {
      "cell_type": "code",
      "metadata": {
        "id": "C0XO5A5YKd-x"
      },
      "source": [
        "#------ Build two-layer model --------\n",
        "def two_layer_model(X, Y, layers_dims, learning_rate = 0.0075, num_iterations = 3000, print_cost=False):\n",
        "    '''\n",
        "    X - input layer of shape (input size, number of examples)\n",
        "    Y - output layer of shape (1,m)\n",
        "    layers_dims - list of layers dims including input layer \n",
        "    '''\n",
        "  \n",
        "    np.random.seed(1)\n",
        "    grads = {'W':{}, 'b':{}}\n",
        "    costs = []   # track the cost\n",
        "    m = X.shape[1] # number of examples\n",
        "\n",
        "    # Initialize parameters \n",
        "    parameters = initialize_parameters(layers_dims)\n",
        "\n",
        "    # Loop (gradient descent)\n",
        "    for i in range(num_iterations):\n",
        "\n",
        "        # Forward propagation: LINEAR -> RELU -> LINEAR -> SIGMOID.\n",
        "        A1, cache1 = forward_propagation_step(X, parameters['W'][1], parameters['b'][1], 'relu')        \n",
        "        A2, cache2 = forward_propagation_step(A1, parameters['W'][2], parameters['b'][2], 'sigmoid')\n",
        "\n",
        "        # Compute cost        \n",
        "        cost = compute_cost(A2, Y)\n",
        "                \n",
        "        # Initialize backward propagation        \n",
        "        dL_dA2 = init_backward_propagation(Y, A2)\n",
        "\n",
        "        # Backward propagation.\n",
        "        dL_dA1, grads['W'][2], grads['b'][2] = backward_propagation_step(dL_dA2, cache2, 'sigmoid')\n",
        "        _, grads['W'][1], grads['b'][1] = backward_propagation_step(dL_dA1, cache1, 'relu')\n",
        "        \n",
        "       \n",
        "        # Update parameters    \n",
        "        parameters =  update_parameters(parameters, grads, learning_rate)\n",
        "        \n",
        "        # Print the cost every 100 training example\n",
        "        if print_cost and i % 100 == 0:\n",
        "            print(\"Cost after iteration {}: {}\".format(i, np.squeeze(cost)))\n",
        "        if i % 100 == 0:\n",
        "            costs.append(cost)\n",
        "       \n",
        "    # plot the cost\n",
        "    plt.figure()\n",
        "    plt.plot(np.squeeze(costs))\n",
        "    plt.ylabel('cost')\n",
        "    plt.xlabel('iterations (per tens)')\n",
        "    plt.title(\"Learning rate =\" + str(learning_rate))\n",
        "    plt.show()\n",
        "\n",
        "    \n",
        "    return parameters"
      ],
      "execution_count": null,
      "outputs": []
    },
    {
      "cell_type": "code",
      "metadata": {
        "colab": {
          "base_uri": "https://localhost:8080/",
          "height": 858
        },
        "id": "YTvpFfw2KntF",
        "outputId": "809df9f3-8f87-4cb8-c03b-f0bff91e57aa"
      },
      "source": [
        "#------Train the model learning-------\n",
        "n_x = X_train_scaled.shape[0]\n",
        "n_h= 7 \n",
        "n_y = Y_train.shape[0]\n",
        "layers_dims = [n_x, n_h, n_y]\n",
        "print(layer_dims)\n",
        "\n",
        "parameters = two_layer_model(X_train_scaled, Y_train, layers_dims, learning_rate = 0.003, num_iterations = 3000, print_cost=True)"
      ],
      "execution_count": null,
      "outputs": [
        {
          "output_type": "stream",
          "name": "stdout",
          "text": [
            "[2, 3, 5, 1]\n",
            "Cost after iteration 0: 0.6950464961800915\n",
            "Cost after iteration 100: 0.6195808854384667\n",
            "Cost after iteration 200: 0.5865026104533534\n",
            "Cost after iteration 300: 0.5467810398248232\n",
            "Cost after iteration 400: 0.49825722524914073\n",
            "Cost after iteration 500: 0.45657385324276334\n",
            "Cost after iteration 600: 0.4094471539583378\n",
            "Cost after iteration 700: 0.3631730375845947\n",
            "Cost after iteration 800: 0.32861131098831003\n",
            "Cost after iteration 900: 0.29718068617894683\n",
            "Cost after iteration 1000: 0.26900893277175103\n",
            "Cost after iteration 1100: 0.24464399315834634\n",
            "Cost after iteration 1200: 0.22384078814076208\n",
            "Cost after iteration 1300: 0.20652180532903278\n",
            "Cost after iteration 1400: 0.18938381861610273\n",
            "Cost after iteration 1500: 0.17501499357058234\n",
            "Cost after iteration 1600: 0.16159871226192452\n",
            "Cost after iteration 1700: 0.14745343426258842\n",
            "Cost after iteration 1800: 0.1347821561201472\n",
            "Cost after iteration 1900: 0.12313379621287834\n",
            "Cost after iteration 2000: 0.11228120642500024\n",
            "Cost after iteration 2100: 0.10296514643048339\n",
            "Cost after iteration 2200: 0.09462444340407361\n",
            "Cost after iteration 2300: 0.08577949788493319\n",
            "Cost after iteration 2400: 0.07838067328265923\n",
            "Cost after iteration 2500: 0.07228557169893012\n",
            "Cost after iteration 2600: 0.0668575401638336\n",
            "Cost after iteration 2700: 0.06210220111202463\n",
            "Cost after iteration 2800: 0.057876192961780204\n",
            "Cost after iteration 2900: 0.05388452738168031\n"
          ]
        },
        {
          "output_type": "display_data",
          "data": {
            "image/png": "[encoded data removed]",
            "text/plain": [
              "<Figure size 432x288 with 1 Axes>"
            ]
          },
          "metadata": {
            "needs_background": "light"
          }
        }
      ]
    },
    {
      "cell_type": "markdown",
      "metadata": {
        "id": "EnokqMgXibB7"
      },
      "source": [
        "**Expected result**\n",
        "Cost after iteration 0: 0.6950464961800915 Cost after iteration 100: 0.6195808854384666 Cost after iteration 200: 0.5865026104533535 Cost after iteration 300: 0.5467810398248231 Cost after iteration 400: 0.49825722524914073 Cost after iteration 500: 0.4565738532427634 Cost after iteration 600: 0.4094471539583378 Cost after iteration 700: 0.3631730375845946 Cost after iteration 800: 0.32861131098831003 Cost after iteration 900: 0.29718068617894683 Cost after iteration 1000: 0.269008932771751 Cost after iteration 1100: 0.24464399315834634 Cost after iteration 1200: 0.22384078814076205 Cost after iteration 1300: 0.20652180532903278 Cost after iteration 1400: 0.1893838186161027 Cost after iteration 1500: 0.17501499357058234 Cost after iteration 1600: 0.16159871226192452 Cost after iteration 1700: 0.14745343426258842 Cost after iteration 1800: 0.13478215612014718 Cost after iteration 1900: 0.1231337962128783 Cost after iteration 2000: 0.11228120642500024 Cost after iteration 2100: 0.10296514643048342 Cost after iteration 2200: 0.09462444340407362 Cost after iteration 2300: 0.08577949788493319 Cost after iteration 2400: 0.07838067328265923 Cost after iteration 2500: 0.07228557169893012 Cost after iteration 2600: 0.06685754016383366 Cost after iteration 2700: 0.06210220111202463 Cost after iteration 2800: 0.05787619296178021 Cost after iteration 2900: 0.053884527381680314"
      ]
    },
    {
      "cell_type": "code",
      "metadata": {
        "colab": {
          "base_uri": "https://localhost:8080/"
        },
        "id": "HBy4QsTnKwD6",
        "outputId": "a07ad542-1c91-490e-d8d4-45aaa9bff985"
      },
      "source": [
        "#-------Evaluate 2-layers model------\n",
        "def evaluate_two_layers(X, Y, parameters):\n",
        "    \"\"\"        \n",
        "    X - array to predict \n",
        "    parameters - parameters of the trained model\n",
        "    \"\"\"\n",
        "  \n",
        "    # Forward propagation\n",
        "    A1,_ = forward_propagation_step(X, parameters['W'][1], parameters['b'][1], 'relu')        \n",
        "    Y_pred, _ = forward_propagation_step(A1, parameters['W'][2], parameters['b'][2], 'sigmoid')\n",
        "\n",
        "    accuracy =  (np.mean ((Y_pred>.5)==Y))\n",
        "    print(\"Accuracy: {:.3f}\".format( accuracy))\n",
        "       \n",
        "\n",
        "evaluate_two_layers(X_train_scaled, Y_train, parameters)\n",
        "test_accuracy = evaluate_two_layers(X_test_scaled, Y_test, parameters)"
      ],
      "execution_count": null,
      "outputs": [
        {
          "output_type": "stream",
          "name": "stdout",
          "text": [
            "Accuracy: 1.000\n",
            "Accuracy: 0.760\n"
          ]
        }
      ]
    },
    {
      "cell_type": "markdown",
      "metadata": {
        "id": "t9Zam7gvi4Vc"
      },
      "source": [
        "## **Forward propagation whole process**"
      ]
    },
    {
      "cell_type": "code",
      "metadata": {
        "id": "lvfNREAfip-F"
      },
      "source": [
        "#------ Forward propagation whole process------\n",
        "def forward_propagation_whole_process(X, parameters):\n",
        "    \"\"\"\n",
        "    [LINEAR->RELU]*(L-1)->LINEAR->SIGMOID\n",
        "    X - data, array of shape (input size, number of examples)\n",
        "    parameters - initialized parameters foreach of 'W' and 'b' keas values have keys 1,2,...L \n",
        "    \n",
        "    Returns:\n",
        "    A_last - last activation value (y_pred)\n",
        "    caches - dict of caches containing every cache of forward propagation indexed from 0 to L-1\n",
        "    \"\"\"\n",
        "\n",
        "    caches = {}\n",
        "    A = X\n",
        "    \n",
        "    L = len(parameters['W']) # number of layers in the neural network\n",
        "\n",
        "    # [LINEAR -> RELU]*(L-1)\n",
        "    for l in range(1, L):\n",
        "        A_prev = A \n",
        "        A, cache = forward_propagation_step(A_prev, parameters['W'][l], parameters['b'][l],'relu')        \n",
        "        caches[l] = cache\n",
        "\n",
        "    \n",
        "    #LINEAR -> SIGMOID\n",
        "    A_last, cache = forward_propagation_step(A, parameters['W'][L], parameters['b'][L],'sigmoid')        \n",
        "    caches[L] = cache\n",
        "\n",
        "    assert(A_last.shape == (1, X.shape[1])) # (1,m) \n",
        "            \n",
        "    return A_last, caches"
      ],
      "execution_count": null,
      "outputs": []
    },
    {
      "cell_type": "markdown",
      "metadata": {
        "id": "auHy8T60jBP_"
      },
      "source": [
        "## **Backward propagation whole process**"
      ]
    },
    {
      "cell_type": "code",
      "metadata": {
        "id": "jpqiK-n5i_bZ"
      },
      "source": [
        "def backward_propagation_whole_process(A_last, Y, caches):\n",
        "    \"\"\"\n",
        "    backward propagation for the [LINEAR->RELU] * (L-1) -> LINEAR -> SIGMOID \n",
        "    A_last - probability vector, output(y_pred) of the forward propagation \n",
        "    Y - true labels (0 if non-cat, 1 if cat)\n",
        "    caches - dict of caches for each layer that contains (W, b, A, Z)\n",
        "    Returns: grads - of keys 'W' and 'b' each containing the  dictionaries of keys 1..L  \n",
        "    \"\"\"\n",
        "    dL_dA= {}\n",
        "    dL_dW = {}\n",
        "    dL_db= {}\n",
        "    \n",
        "    L = len(caches) # the number of layers\n",
        "    m = A_last.shape[1] # number of samples\n",
        "    Y = Y.reshape(A_last.shape) # make sure Y is the same shape as A_last(y_pred)\n",
        "    \n",
        "    # Initialize the backpropagation    \n",
        "    dL_dA[L] = init_backward_propagation(Y, A_last)\n",
        "\n",
        "    # layer (SIGMOID -> LINEAR) gradients\n",
        "    current_cache = caches[L]\n",
        "    dL_dA[L-1], dL_dW[L], dL_db[L] = backward_propagation_step(dL_dA[L], current_cache, activation = \"sigmoid\")\n",
        "\n",
        "    # Loop from l=L-2 to l=0\n",
        "    for l in reversed(range(1,L)): #  starts with L-1 ends with 1 \n",
        "        # l-th layer: (RELU -> LINEAR) gradients.\n",
        "        current_cache = caches[l]\n",
        "        dL_dA[l-1], dL_dW[l], dL_db[l] = backward_propagation_step(dL_dA[l], current_cache, activation = \"relu\")\n",
        "        \n",
        "    grads= {'W':dL_dW,'b': dL_db}\n",
        "    \n",
        "    return grads"
      ],
      "execution_count": null,
      "outputs": []
    },
    {
      "cell_type": "markdown",
      "metadata": {
        "id": "0CzJec36jQnn"
      },
      "source": [
        "# Build deep neural network model"
      ]
    },
    {
      "cell_type": "code",
      "metadata": {
        "id": "o4Hd2GCdjH2O"
      },
      "source": [
        "#------ Build deep neural network model ----\n",
        "def model(X, Y, layers_dims, learning_rate = 0.0075, num_iterations = 3000, verbose = False):\n",
        "    \"\"\"\n",
        "    X - data, array of shape (number of examples, num_px * num_px * 3)\n",
        "    Y - true label vector (containing 0 if cat, 1 if non-cat), of shape (1, number of examples)\n",
        "    layers_dims - list containing the input size and each layer size, of length (number of layers + 1).\n",
        "    learning_rate - learning rate of the gradient descent update rule\n",
        "    num_iterations - number of iterations of the optimization loop\n",
        "    verbose - if True, it prints the cost every 100 steps\n",
        "    \n",
        "    Returns:\n",
        "    parameters - parameters learnt by the model. They can then be used to predict.\n",
        "    \"\"\"\n",
        "    print ('Training {}-layers neural network with layers dimensions: {}'.format (len(layers_dims)-1, layers_dims))\n",
        "    np.random.seed(1)\n",
        "    costs = [] # to track of cost\n",
        "            \n",
        "    parameters = initialize_parameters(layers_dims)\n",
        "        \n",
        "    # Loop (gradient descent)\n",
        "    for i in range(num_iterations):\n",
        "\n",
        "        # Forward propagation: [LINEAR -> RELU]*(L-1) -> LINEAR -> SIGMOID.\n",
        "        A_last, caches = forward_propagation_whole_process(X, parameters)\n",
        "    \n",
        "        # Compute cost\n",
        "        cost = compute_cost(A_last, Y)\n",
        "\n",
        "        # Backward propagation.\n",
        "        grads = backward_propagation_whole_process(A_last, Y, caches)\n",
        "\n",
        "        # Update parameters.\n",
        "        parameters = update_parameters(parameters, grads, learning_rate)\n",
        "       \n",
        "                \n",
        "        # Print the cost every 100 training example\n",
        "        if verbose and i % 100 == 0:\n",
        "            print (\"Cost after iteration {}: {}\".format(i, cost))\n",
        "        if i % 100 == 0:\n",
        "            costs.append(cost)\n",
        "            \n",
        "    # plot the cost\n",
        "    \n",
        "    plt.figure()\n",
        "    plt.plot(np.squeeze(costs))\n",
        "    plt.ylabel('cost')\n",
        "    plt.xlabel('iterations (per tens)')\n",
        "    plt.title(\"Learning rate =\" + str(learning_rate))\n",
        "    \n",
        "   \n",
        "    return parameters"
      ],
      "execution_count": null,
      "outputs": []
    },
    {
      "cell_type": "markdown",
      "metadata": {
        "id": "8bIkxXALjjw9"
      },
      "source": [
        "## **Run 2 Layers**"
      ]
    },
    {
      "cell_type": "code",
      "metadata": {
        "colab": {
          "base_uri": "https://localhost:8080/",
          "height": 1000
        },
        "id": "xxQn85Tzjbpl",
        "outputId": "8af0d406-8736-4532-adae-8752977cf196"
      },
      "source": [
        "n_x = X_train_scaled.shape[0]\n",
        "n_h= 7 \n",
        "n_y = Y_train.shape[0]\n",
        "layers_dims = [n_x, n_h, n_y]\n",
        "\n",
        "parameters = model(X_train_scaled, Y_train, layers_dims, num_iterations = 5000, verbose = True, learning_rate = 0.003)"
      ],
      "execution_count": null,
      "outputs": [
        {
          "output_type": "stream",
          "name": "stdout",
          "text": [
            "Training 2-layers neural network with layers dimensions: [12288, 7, 1]\n",
            "Cost after iteration 0: 0.6950464961800915\n",
            "Cost after iteration 100: 0.6195808854384667\n",
            "Cost after iteration 200: 0.5865026104533534\n",
            "Cost after iteration 300: 0.5467810398248232\n",
            "Cost after iteration 400: 0.49825722524914073\n",
            "Cost after iteration 500: 0.45657385324276334\n",
            "Cost after iteration 600: 0.4094471539583378\n",
            "Cost after iteration 700: 0.3631730375845947\n",
            "Cost after iteration 800: 0.32861131098831003\n",
            "Cost after iteration 900: 0.29718068617894683\n",
            "Cost after iteration 1000: 0.26900893277175103\n",
            "Cost after iteration 1100: 0.24464399315834634\n",
            "Cost after iteration 1200: 0.22384078814076208\n",
            "Cost after iteration 1300: 0.20652180532903278\n",
            "Cost after iteration 1400: 0.18938381861610273\n",
            "Cost after iteration 1500: 0.17501499357058234\n",
            "Cost after iteration 1600: 0.16159871226192452\n",
            "Cost after iteration 1700: 0.14745343426258842\n",
            "Cost after iteration 1800: 0.1347821561201472\n",
            "Cost after iteration 1900: 0.12313379621287834\n",
            "Cost after iteration 2000: 0.11228120642500024\n",
            "Cost after iteration 2100: 0.10296514643048339\n",
            "Cost after iteration 2200: 0.09462444340407361\n",
            "Cost after iteration 2300: 0.08577949788493319\n",
            "Cost after iteration 2400: 0.07838067328265923\n",
            "Cost after iteration 2500: 0.07228557169893012\n",
            "Cost after iteration 2600: 0.0668575401638336\n",
            "Cost after iteration 2700: 0.06210220111202463\n",
            "Cost after iteration 2800: 0.057876192961780204\n",
            "Cost after iteration 2900: 0.05388452738168031\n",
            "Cost after iteration 3000: 0.05021312442310017\n",
            "Cost after iteration 3100: 0.046980284187170096\n",
            "Cost after iteration 3200: 0.04407885334269524\n",
            "Cost after iteration 3300: 0.041474471240673785\n",
            "Cost after iteration 3400: 0.039133713487289085\n",
            "Cost after iteration 3500: 0.037001443788959455\n",
            "Cost after iteration 3600: 0.035070180130377375\n",
            "Cost after iteration 3700: 0.03331041853531462\n",
            "Cost after iteration 3800: 0.03169213402751933\n",
            "Cost after iteration 3900: 0.0302300382688957\n",
            "Cost after iteration 4000: 0.028829612986138856\n",
            "Cost after iteration 4100: 0.027560514752687146\n",
            "Cost after iteration 4200: 0.026377496594914396\n",
            "Cost after iteration 4300: 0.025286720908058925\n",
            "Cost after iteration 4400: 0.024274411394343977\n",
            "Cost after iteration 4500: 0.023333388131945083\n",
            "Cost after iteration 4600: 0.022437269637948235\n",
            "Cost after iteration 4700: 0.021604560218738134\n",
            "Cost after iteration 4800: 0.020832389013441855\n",
            "Cost after iteration 4900: 0.020094155779688944\n"
          ]
        },
        {
          "output_type": "display_data",
          "data": {
            "image/png": "[encoded data removed]",
            "text/plain": [
              "<Figure size 432x288 with 1 Axes>"
            ]
          },
          "metadata": {
            "needs_background": "light"
          }
        }
      ]
    },
    {
      "cell_type": "markdown",
      "metadata": {
        "id": "mv31a0sJjjN5"
      },
      "source": [
        "###  Expected result\n",
        "\n",
        "`Training 2-layers neural network with layers dimensions: [12288, 7, 1]\n",
        "Cost after iteration 0: 0.6950464961800915\n",
        "Cost after iteration 100: 0.6195808854384666\n",
        "Cost after iteration 200: 0.5865026104533535\n",
        "Cost after iteration 300: 0.5467810398248231\n",
        "Cost after iteration 400: 0.49825722524914073\n",
        "...\n",
        "Cost after iteration 4500: 0.023333388131945094\n",
        "Cost after iteration 4600: 0.022437269637948253\n",
        "Cost after iteration 4700: 0.021604560218738137\n",
        "Cost after iteration 4800: 0.02083238901344186\n",
        "Cost after iteration 4900: 0.020094155779688965`"
      ]
    },
    {
      "cell_type": "markdown",
      "metadata": {
        "id": "cdY9KPWbkli7"
      },
      "source": [
        "# **Run for 4 layers**"
      ]
    },
    {
      "cell_type": "code",
      "metadata": {
        "colab": {
          "base_uri": "https://localhost:8080/",
          "height": 876
        },
        "id": "nKKdsZh6kXOH",
        "outputId": "376c697a-360c-423f-95cd-e40ca9002ed8"
      },
      "source": [
        "n_x = X_train_flatten.shape[0]\n",
        "n_y = Y_train.shape[0]\n",
        "layers_dims = [n_x,20,7,5,n_y]\n",
        "print('Layers of deep NN are: ',layers_dims)\n",
        "parameters = model(X_train_scaled, Y_train, layers_dims, num_iterations = 3000, verbose = True, learning_rate = 0.0075)"
      ],
      "execution_count": null,
      "outputs": [
        {
          "output_type": "stream",
          "name": "stdout",
          "text": [
            "Layers of deep NN are:  [12288, 20, 7, 5, 1]\n",
            "Training 4-layers neural network with layers dimensions: [12288, 20, 7, 5, 1]\n",
            "Cost after iteration 0: 0.7717493284237686\n",
            "Cost after iteration 100: 0.6720534400822913\n",
            "Cost after iteration 200: 0.6482632048575212\n",
            "Cost after iteration 300: 0.6115068816101354\n",
            "Cost after iteration 400: 0.567047326836611\n",
            "Cost after iteration 500: 0.54013766345478\n",
            "Cost after iteration 600: 0.5279299569455267\n",
            "Cost after iteration 700: 0.4654773771766852\n",
            "Cost after iteration 800: 0.369125852495928\n",
            "Cost after iteration 900: 0.39174697434805344\n",
            "Cost after iteration 1000: 0.3151869888600617\n",
            "Cost after iteration 1100: 0.27269984417893856\n",
            "Cost after iteration 1200: 0.23741853400268137\n",
            "Cost after iteration 1300: 0.19960120532208644\n",
            "Cost after iteration 1400: 0.18926300388463305\n",
            "Cost after iteration 1500: 0.1611885466582775\n",
            "Cost after iteration 1600: 0.14821389662363316\n",
            "Cost after iteration 1700: 0.1377748781297294\n",
            "Cost after iteration 1800: 0.1297401754919012\n",
            "Cost after iteration 1900: 0.12122535068005211\n",
            "Cost after iteration 2000: 0.1138206066863371\n",
            "Cost after iteration 2100: 0.10783928526254132\n",
            "Cost after iteration 2200: 0.10285466069352679\n",
            "Cost after iteration 2300: 0.10089745445261786\n",
            "Cost after iteration 2400: 0.09287821526472397\n",
            "Cost after iteration 2500: 0.08841251177615041\n",
            "Cost after iteration 2600: 0.08595130416146426\n",
            "Cost after iteration 2700: 0.08168126914926338\n",
            "Cost after iteration 2800: 0.07824661275815534\n",
            "Cost after iteration 2900: 0.07544408693855481\n"
          ]
        },
        {
          "output_type": "display_data",
          "data": {
            "image/png": "[encoded data removed]",
            "text/plain": [
              "<Figure size 432x288 with 1 Axes>"
            ]
          },
          "metadata": {
            "needs_background": "light"
          }
        }
      ]
    },
    {
      "cell_type": "markdown",
      "metadata": {
        "id": "4yvoQ_tJlb5Z"
      },
      "source": [
        "**Expected result**\n",
        "Training 4-layers neural network with layers dimensions: [12288, 20, 7, 5, 1] Cost after iteration 0: 0.7717493284237688 Cost after iteration 100: 0.6720534400822913 Cost after iteration 200: 0.6482632048575212 Cost after iteration 300: 0.6115068816101354 Cost after iteration 400: 0.567047326836611 ... Cost after iteration 2500: 0.08841251177615041 Cost after iteration 2600: 0.08595130416146428 Cost after iteration 2700: 0.08168126914926334 Cost after iteration 2800: 0.07824661275815534 Cost after iteration 2900: 0.07544408693855482"
      ]
    },
    {
      "cell_type": "markdown",
      "metadata": {
        "id": "s6glF1-ylpXW"
      },
      "source": [
        "# **Predict**"
      ]
    },
    {
      "cell_type": "code",
      "metadata": {
        "colab": {
          "base_uri": "https://localhost:8080/"
        },
        "id": "hefUkRByk9Vw",
        "outputId": "73f19dc2-3247-4f18-d197-38243152d378"
      },
      "source": [
        "#------- For prediction ------\n",
        "def predict(X, parameters):\n",
        "    \"\"\"        \n",
        "    X - array set to predict \n",
        "    parameters - parameters of the trained model\n",
        "    Returns:\n",
        "    Y_pred - predictions for the given dataset X\n",
        "    \"\"\"\n",
        "\n",
        "    # Forward propagation\n",
        "    A_last, _ = forward_propagation_whole_process(X, parameters)\n",
        "    Y_pred= A_last>.5\n",
        "    \n",
        "    return Y_pred\n",
        "\n",
        "#---- Evaluate-----\n",
        "Y_pred_train = predict (X_train_scaled, parameters)\n",
        "Y_pred_test = predict (X_test_scaled, parameters)\n",
        "\n",
        "print ('Train accuracy = {:.3%}'.format(np.mean (Y_pred_train == Y_train)))\n",
        "print ('Test accuracy = {:.3%}'.format(np.mean (Y_pred_test == Y_test)))"
      ],
      "execution_count": null,
      "outputs": [
        {
          "output_type": "stream",
          "name": "stdout",
          "text": [
            "Train accuracy = 99.043%\n",
            "Test accuracy = 82.000%\n"
          ]
        }
      ]
    },
    {
      "cell_type": "markdown",
      "metadata": {
        "id": "08QNfQn7mIac"
      },
      "source": [
        "**Expected result**\n",
        "Train accuracy = 99.043% Test accuracy = 82.000%"
      ]
    },
    {
      "cell_type": "code",
      "metadata": {
        "id": "Od0l4qzqlztk"
      },
      "source": [
        ""
      ],
      "execution_count": null,
      "outputs": []
    }
  ]
}