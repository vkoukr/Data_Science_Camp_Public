{
 "cells": [
  {
   "cell_type": "markdown",
   "id": "a0f9a32b-37e5-4683-9ed6-c344bf8e526c",
   "metadata": {},
   "source": [
    "<font color = green >\n",
    "\n",
    "## HOMEWORK - SENTIMENT ANALYSIS\n",
    "\n",
    "</font>"
   ]
  },
  {
   "cell_type": "code",
   "execution_count": 2,
   "id": "8a3aa9d0-98f7-48bf-a9f2-6d7e231ef15e",
   "metadata": {},
   "outputs": [],
   "source": [
    "#===='Sentiment Analysis'\n",
    "import pandas as pd\n",
    "import numpy as np"
   ]
  },
  {
   "cell_type": "code",
   "execution_count": 5,
   "id": "8482d2a7-3678-4b21-b36c-75b34277f7af",
   "metadata": {},
   "outputs": [
    {
     "name": "stdout",
     "output_type": "stream",
     "text": [
      "len of texts_neg = 5,331\n",
      "===== Length of negative review is: 33\n",
      "===== Length of negative review is: 80\n",
      "===== Length of negative review is: 138\n",
      "===== Length of negative review is: 131\n",
      "===== Length of negative review is: 101\n"
     ]
    }
   ],
   "source": [
    "#---Read Negative from file\n",
    "fn='./data/rt-polarity.neg'\n",
    "with open(fn, \"r\",encoding='utf-8', errors='ignore') as f: # some invalid symbols encountered \n",
    "    content = f.read()  \n",
    "texts_neg=  content.splitlines()\n",
    "print ('len of texts_neg = {:,}'.format (len(texts_neg)))\n",
    "for review in texts_neg[:5]:\n",
    "    print(f'===== Length of negative review is: {len(review)}')\n",
    "#     print ( '\\n\\n', review)\n",
    "df_neg=pd.DataFrame(texts_neg, columns=['reviews_text'])\n",
    "df_neg['Rating_binary'] = 0"
   ]
  },
  {
   "cell_type": "code",
   "execution_count": 7,
   "id": "fd102aac-fda7-46f4-b245-e1949ded9638",
   "metadata": {},
   "outputs": [
    {
     "name": "stdout",
     "output_type": "stream",
     "text": [
      "len of texts_pos = 5,331\n",
      "===== Length of positive review is: 178\n",
      "===== Length of positive review is: 227\n",
      "===== Length of positive review is: 30\n",
      "===== Length of positive review is: 90\n",
      "===== Length of positive review is: 112\n"
     ]
    }
   ],
   "source": [
    "#---Read Positive from file\n",
    "fn='./data/rt-polarity.pos'\n",
    "\n",
    "with open(fn, \"r\",encoding='utf-8', errors='ignore') as f:\n",
    "    content = f.read()\n",
    "texts_pos=  content.splitlines()\n",
    "print ('len of texts_pos = {:,}'.format (len(texts_pos)))\n",
    "for review in texts_pos[:5]:\n",
    "    print(f'===== Length of positive review is: {len(review)}')\n",
    "#     print ('\\n', review)\n",
    "\n",
    "df_pos=pd.DataFrame(texts_pos, columns=['reviews_text'])\n",
    "df_pos['Rating_binary'] = 1\n",
    "\n",
    "df=pd.concat([df_pos, df_neg], ignore_index=True)\n"
   ]
  },
  {
   "cell_type": "markdown",
   "id": "eb7416a9-ba1f-4e63-a931-3551e05282d8",
   "metadata": {},
   "source": [
    "<font color = green >\n",
    "\n",
    "## Using NaiveBase Classifyer\n",
    "\n",
    "</font>"
   ]
  },
  {
   "cell_type": "code",
   "execution_count": 8,
   "id": "fc841786-6123-409b-b68c-52df9eebbe71",
   "metadata": {},
   "outputs": [],
   "source": [
    "# ===== Using NaiveBase Classifyer\n",
    "from nltk.corpus import stopwords\n",
    "import nltk\n",
    "from nltk.tokenize import RegexpTokenizer\n",
    "import random"
   ]
  },
  {
   "cell_type": "code",
   "execution_count": 9,
   "id": "31e31395-b6ed-4aa2-9199-b6270949d145",
   "metadata": {
    "collapsed": true,
    "jupyter": {
     "outputs_hidden": true
    },
    "tags": []
   },
   "outputs": [
    {
     "name": "stdout",
     "output_type": "stream",
     "text": [
      "5331\n",
      "[['the', 'rock', 'is', 'destined', 'to', 'be', 'the', '21st', 'century', 's', 'new', 'conan', 'and', 'that', 'he', 's', 'going', 'to', 'make', 'a', 'splash', 'even', 'greater', 'than', 'arnold', 'schwarzenegger', 'jean', 'claud', 'van', 'damme', 'or', 'steven', 'segal'], ['the', 'gorgeously', 'elaborate', 'continuation', 'of', 'the', 'lord', 'of', 'the', 'rings', 'trilogy', 'is', 'so', 'huge', 'that', 'a', 'column', 'of', 'words', 'cannot', 'adequately', 'describe', 'co', 'writer', 'director', 'peter', 'jackson', 's', 'expanded', 'vision', 'of', 'j', 'r', 'r', 'tolkien', 's', 'middle', 'earth'], ['effective', 'but', 'too', 'tepid', 'biopic'], ['if', 'you', 'sometimes', 'like', 'to', 'go', 'to', 'the', 'movies', 'to', 'have', 'fun', 'wasabi', 'is', 'a', 'good', 'place', 'to', 'start'], ['emerges', 'as', 'something', 'rare', 'an', 'issue', 'movie', 'that', 's', 'so', 'honest', 'and', 'keenly', 'observed', 'that', 'it', 'doesn', 't', 'feel', 'like', 'one'], ['the', 'film', 'provides', 'some', 'great', 'insight', 'into', 'the', 'neurotic', 'mindset', 'of', 'all', 'comics', 'even', 'those', 'who', 'have', 'reached', 'the', 'absolute', 'top', 'of', 'the', 'game'], ['offers', 'that', 'rare', 'combination', 'of', 'entertainment', 'and', 'education'], ['perhaps', 'no', 'picture', 'ever', 'made', 'has', 'more', 'literally', 'showed', 'that', 'the', 'road', 'to', 'hell', 'is', 'paved', 'with', 'good', 'intentions'], ['steers', 'turns', 'in', 'a', 'snappy', 'screenplay', 'that', 'curls', 'at', 'the', 'edges', 'it', 's', 'so', 'clever', 'you', 'want', 'to', 'hate', 'it', 'but', 'he', 'somehow', 'pulls', 'it', 'off'], ['take', 'care', 'of', 'my', 'cat', 'offers', 'a', 'refreshingly', 'different', 'slice', 'of', 'asian', 'cinema'], ['this', 'is', 'a', 'film', 'well', 'worth', 'seeing', 'talking', 'and', 'singing', 'heads', 'and', 'all'], ['what', 'really', 'surprises', 'about', 'wisegirls', 'is', 'its', 'low', 'key', 'quality', 'and', 'genuine', 'tenderness'], ['wendigo', 'is', 'why', 'we', 'go', 'to', 'the', 'cinema', 'to', 'be', 'fed', 'through', 'the', 'eye', 'the', 'heart', 'the', 'mind'], ['one', 'of', 'the', 'greatest', 'family', 'oriented', 'fantasy', 'adventure', 'movies', 'ever'], ['ultimately', 'it', 'ponders', 'the', 'reasons', 'we', 'need', 'stories', 'so', 'much'], ['an', 'utterly', 'compelling', 'who', 'wrote', 'it', 'in', 'which', 'the', 'reputation', 'of', 'the', 'most', 'famous', 'author', 'who', 'ever', 'lived', 'comes', 'into', 'question'], ['illuminating', 'if', 'overly', 'talky', 'documentary'], ['a', 'masterpiece', 'four', 'years', 'in', 'the', 'making'], ['the', 'movie', 's', 'ripe', 'enrapturing', 'beauty', 'will', 'tempt', 'those', 'willing', 'to', 'probe', 'its', 'inscrutable', 'mysteries'], ['offers', 'a', 'breath', 'of', 'the', 'fresh', 'air', 'of', 'true', 'sophistication'], ['a', 'thoughtful', 'provocative', 'insistently', 'humanizing', 'film'], ['with', 'a', 'cast', 'that', 'includes', 'some', 'of', 'the', 'top', 'actors', 'working', 'in', 'independent', 'film', 'lovely', 'amazing', 'involves', 'us', 'because', 'it', 'is', 'so', 'incisive', 'so', 'bleakly', 'amusing', 'about', 'how', 'we', 'go', 'about', 'our', 'lives'], ['a', 'disturbing', 'and', 'frighteningly', 'evocative', 'assembly', 'of', 'imagery', 'and', 'hypnotic', 'music', 'composed', 'by', 'philip', 'glass'], ['not', 'for', 'everyone', 'but', 'for', 'those', 'with', 'whom', 'it', 'will', 'connect', 'it', 's', 'a', 'nice', 'departure', 'from', 'standard', 'moviegoing', 'fare'], ['scores', 'a', 'few', 'points', 'for', 'doing', 'what', 'it', 'does', 'with', 'a', 'dedicated', 'and', 'good', 'hearted', 'professionalism'], ['occasionally', 'melodramatic', 'it', 's', 'also', 'extremely', 'effective'], ['spiderman', 'rocks'], ['an', 'idealistic', 'love', 'story', 'that', 'brings', 'out', 'the', 'latent', '15', 'year', 'old', 'romantic', 'in', 'everyone'], ['at', 'about', '95', 'minutes', 'treasure', 'planet', 'maintains', 'a', 'brisk', 'pace', 'as', 'it', 'races', 'through', 'the', 'familiar', 'story', 'however', 'it', 'lacks', 'grandeur', 'and', 'that', 'epic', 'quality', 'often', 'associated', 'with', 'stevenson', 's', 'tale', 'as', 'well', 'as', 'with', 'earlier', 'disney', 'efforts'], ['it', 'helps', 'that', 'lil', 'bow', 'wow', 'tones', 'down', 'his', 'pint', 'sized', 'gangsta', 'act', 'to', 'play', 'someone', 'who', 'resembles', 'a', 'real', 'kid'], ['guaranteed', 'to', 'move', 'anyone', 'who', 'ever', 'shook', 'rattled', 'or', 'rolled'], ['a', 'masterful', 'film', 'from', 'a', 'master', 'filmmaker', 'unique', 'in', 'its', 'deceptive', 'grimness', 'compelling', 'in', 'its', 'fatalist', 'worldview'], ['light', 'cute', 'and', 'forgettable'], ['if', 'there', 's', 'a', 'way', 'to', 'effectively', 'teach', 'kids', 'about', 'the', 'dangers', 'of', 'drugs', 'i', 'think', 'it', 's', 'in', 'projects', 'like', 'the', 'unfortunately', 'r', 'rated', 'paid'], ['while', 'it', 'would', 'be', 'easy', 'to', 'give', 'crush', 'the', 'new', 'title', 'of', 'two', 'weddings', 'and', 'a', 'funeral', 'it', 's', 'a', 'far', 'more', 'thoughtful', 'film', 'than', 'any', 'slice', 'of', 'hugh', 'grant', 'whimsy'], ['though', 'everything', 'might', 'be', 'literate', 'and', 'smart', 'it', 'never', 'took', 'off', 'and', 'always', 'seemed', 'static'], ['cantet', 'perfectly', 'captures', 'the', 'hotel', 'lobbies', 'two', 'lane', 'highways', 'and', 'roadside', 'cafes', 'that', 'permeate', 'vincent', 's', 'days'], ['ms', 'fulford', 'wierzbicki', 'is', 'almost', 'spooky', 'in', 'her', 'sulky', 'calculating', 'lolita', 'turn'], ['though', 'it', 'is', 'by', 'no', 'means', 'his', 'best', 'work', 'laissez', 'passer', 'is', 'a', 'distinguished', 'and', 'distinctive', 'effort', 'by', 'a', 'bona', 'fide', 'master', 'a', 'fascinating', 'film', 'replete', 'with', 'rewards', 'to', 'be', 'had', 'by', 'all', 'willing', 'to', 'make', 'the', 'effort', 'to', 'reap', 'them'], ['like', 'most', 'bond', 'outings', 'in', 'recent', 'years', 'some', 'of', 'the', 'stunts', 'are', 'so', 'outlandish', 'that', 'they', 'border', 'on', 'being', 'cartoonlike', 'a', 'heavy', 'reliance', 'on', 'cgi', 'technology', 'is', 'beginning', 'to', 'creep', 'into', 'the', 'series'], ['newton', 'draws', 'our', 'attention', 'like', 'a', 'magnet', 'and', 'acts', 'circles', 'around', 'her', 'better', 'known', 'co', 'star', 'mark', 'wahlberg'], ['the', 'story', 'loses', 'its', 'bite', 'in', 'a', 'last', 'minute', 'happy', 'ending', 'that', 's', 'even', 'less', 'plausible', 'than', 'the', 'rest', 'of', 'the', 'picture', 'much', 'of', 'the', 'way', 'though', 'this', 'is', 'a', 'refreshingly', 'novel', 'ride'], ['fuller', 'would', 'surely', 'have', 'called', 'this', 'gutsy', 'and', 'at', 'times', 'exhilarating', 'movie', 'a', 'great', 'yarn'], ['compleja', 'e', 'intelectualmente', 'retadora', 'el', 'ladrn', 'de', 'orqudeas', 'es', 'uno', 'de', 'esos', 'filmes', 'que', 'vale', 'la', 'pena', 'ver', 'precisamente', 'por', 'su', 'originalidad'], ['the', 'film', 'makes', 'a', 'strong', 'case', 'for', 'the', 'importance', 'of', 'the', 'musicians', 'in', 'creating', 'the', 'motown', 'sound'], ['karmen', 'moves', 'like', 'rhythm', 'itself', 'her', 'lips', 'chanting', 'to', 'the', 'beat', 'her', 'long', 'braided', 'hair', 'doing', 'little', 'to', 'wipe', 'away', 'the', 'jeweled', 'beads', 'of', 'sweat'], ['gosling', 'provides', 'an', 'amazing', 'performance', 'that', 'dwarfs', 'everything', 'else', 'in', 'the', 'film'], ['a', 'real', 'movie', 'about', 'real', 'people', 'that', 'gives', 'us', 'a', 'rare', 'glimpse', 'into', 'a', 'culture', 'most', 'of', 'us', 'don', 't', 'know'], ['tender', 'yet', 'lacerating', 'and', 'darkly', 'funny', 'fable'], ['may', 'be', 'spoofing', 'an', 'easy', 'target', 'those', 'old', '50', 's', 'giant', 'creature', 'features', 'but', 'it', 'acknowledges', 'and', 'celebrates', 'their', 'cheesiness', 'as', 'the', 'reason', 'why', 'people', 'get', 'a', 'kick', 'out', 'of', 'watching', 'them', 'today'], ['an', 'engaging', 'overview', 'of', 'johnson', 's', 'eccentric', 'career'], ['in', 'its', 'ragged', 'cheap', 'and', 'unassuming', 'way', 'the', 'movie', 'works'], ['some', 'actors', 'have', 'so', 'much', 'charisma', 'that', 'you', 'd', 'be', 'happy', 'to', 'listen', 'to', 'them', 'reading', 'the', 'phone', 'book', 'hugh', 'grant', 'and', 'sandra', 'bullock', 'are', 'two', 'such', 'likeable', 'actors'], ['sandra', 'nettelbeck', 'beautifully', 'orchestrates', 'the', 'transformation', 'of', 'the', 'chilly', 'neurotic', 'and', 'self', 'absorbed', 'martha', 'as', 'her', 'heart', 'begins', 'to', 'open'], ['behind', 'the', 'snow', 'games', 'and', 'lovable', 'siberian', 'huskies', 'plus', 'one', 'sheep', 'dog', 'the', 'picture', 'hosts', 'a', 'parka', 'wrapped', 'dose', 'of', 'heart'], ['everytime', 'you', 'think', 'undercover', 'brother', 'has', 'run', 'out', 'of', 'steam', 'it', 'finds', 'a', 'new', 'way', 'to', 'surprise', 'and', 'amuse'], ['manages', 'to', 'be', 'original', 'even', 'though', 'it', 'rips', 'off', 'many', 'of', 'its', 'ideas'], ['singer', 'composer', 'bryan', 'adams', 'contributes', 'a', 'slew', 'of', 'songs', 'a', 'few', 'potential', 'hits', 'a', 'few', 'more', 'simply', 'intrusive', 'to', 'the', 'story', 'but', 'the', 'whole', 'package', 'certainly', 'captures', 'the', 'intended', 'er', 'spirit', 'of', 'the', 'piece'], ['you', 'd', 'think', 'by', 'now', 'america', 'would', 'have', 'had', 'enough', 'of', 'plucky', 'british', 'eccentrics', 'with', 'hearts', 'of', 'gold', 'yet', 'the', 'act', 'is', 'still', 'charming', 'here'], ['whether', 'or', 'not', 'you', 're', 'enlightened', 'by', 'any', 'of', 'derrida', 's', 'lectures', 'on', 'the', 'other', 'and', 'the', 'self', 'derrida', 'is', 'an', 'undeniably', 'fascinating', 'and', 'playful', 'fellow'], ['a', 'pleasant', 'enough', 'movie', 'held', 'together', 'by', 'skilled', 'ensemble', 'actors'], ['this', 'is', 'the', 'best', 'american', 'movie', 'about', 'troubled', 'teens', 'since', '1998', 's', 'whatever'], ['disney', 'has', 'always', 'been', 'hit', 'or', 'miss', 'when', 'bringing', 'beloved', 'kids', 'books', 'to', 'the', 'screen', 'tuck', 'everlasting', 'is', 'a', 'little', 'of', 'both'], ['just', 'the', 'labour', 'involved', 'in', 'creating', 'the', 'layered', 'richness', 'of', 'the', 'imagery', 'in', 'this', 'chiaroscuro', 'of', 'madness', 'and', 'light', 'is', 'astonishing'], ['the', 'animated', 'subplot', 'keenly', 'depicts', 'the', 'inner', 'struggles', 'of', 'our', 'adolescent', 'heroes', 'insecure', 'uncontrolled', 'and', 'intense'], ['the', 'invincible', 'werner', 'herzog', 'is', 'alive', 'and', 'well', 'and', 'living', 'in', 'la'], ['morton', 'is', 'a', 'great', 'actress', 'portraying', 'a', 'complex', 'character', 'but', 'morvern', 'callar', 'grows', 'less', 'compelling', 'the', 'farther', 'it', 'meanders', 'from', 'its', 'shocking', 'start'], ['part', 'of', 'the', 'charm', 'of', 'satin', 'rouge', 'is', 'that', 'it', 'avoids', 'the', 'obvious', 'with', 'humour', 'and', 'lightness'], ['son', 'of', 'the', 'bride', 'may', 'be', 'a', 'good', 'half', 'hour', 'too', 'long', 'but', 'comes', 'replete', 'with', 'a', 'flattering', 'sense', 'of', 'mystery', 'and', 'quietness'], ['a', 'simmering', 'psychological', 'drama', 'in', 'which', 'the', 'bursts', 'of', 'sudden', 'violence', 'are', 'all', 'the', 'more', 'startling', 'for', 'the', 'slow', 'buildup', 'that', 'has', 'preceded', 'them'], ['a', 'taut', 'intelligent', 'psychological', 'drama'], ['a', 'compelling', 'coming', 'of', 'age', 'drama', 'about', 'the', 'arduous', 'journey', 'of', 'a', 'sensitive', 'young', 'girl', 'through', 'a', 'series', 'of', 'foster', 'homes', 'and', 'a', 'fierce', 'struggle', 'to', 'pull', 'free', 'from', 'her', 'dangerous', 'and', 'domineering', 'mother', 's', 'hold', 'over', 'her'], ['a', 'truly', 'moving', 'experience', 'and', 'a', 'perfect', 'example', 'of', 'how', 'art', 'when', 'done', 'right', 'can', 'help', 'heal', 'clarify', 'and', 'comfort'], ['this', 'delicately', 'observed', 'story', 'deeply', 'felt', 'and', 'masterfully', 'stylized', 'is', 'a', 'triumph', 'for', 'its', 'maverick', 'director'], ['at', 'heart', 'the', 'movie', 'is', 'a', 'deftly', 'wrought', 'suspense', 'yarn', 'whose', 'richer', 'shadings', 'work', 'as', 'coloring', 'rather', 'than', 'substance'], ['the', 'appearance', 'of', 'treebeard', 'and', 'gollum', 's', 'expanded', 'role', 'will', 'either', 'have', 'you', 'loving', 'what', 'you', 're', 'seeing', 'or', 'rolling', 'your', 'eyes', 'i', 'loved', 'it', 'gollum', 's', 'performance', 'is', 'incredible'], ['a', 'screenplay', 'more', 'ingeniously', 'constructed', 'than', 'memento'], ['if', 'this', 'movie', 'were', 'a', 'book', 'it', 'would', 'be', 'a', 'page', 'turner', 'you', 'can', 't', 'wait', 'to', 'see', 'what', 'happens', 'next'], ['haneke', 'challenges', 'us', 'to', 'confront', 'the', 'reality', 'of', 'sexual', 'aberration'], ['absorbing', 'and', 'disturbing', 'perhaps', 'more', 'disturbing', 'than', 'originally', 'intended', 'but', 'a', 'little', 'clarity', 'would', 'have', 'gone', 'a', 'long', 'way'], ['it', 's', 'the', 'best', 'film', 'of', 'the', 'year', 'so', 'far', 'the', 'benchmark', 'against', 'which', 'all', 'other', 'best', 'picture', 'contenders', 'should', 'be', 'measured'], ['painful', 'to', 'watch', 'but', 'viewers', 'willing', 'to', 'take', 'a', 'chance', 'will', 'be', 'rewarded', 'with', 'two', 'of', 'the', 'year', 's', 'most', 'accomplished', 'and', 'riveting', 'film', 'performances'], ['this', 'is', 'a', 'startling', 'film', 'that', 'gives', 'you', 'a', 'fascinating', 'albeit', 'depressing', 'view', 'of', 'iranian', 'rural', 'life', 'close', 'to', 'the', 'iraqi', 'border'], ['an', 'imaginative', 'comedy', 'thriller'], ['a', 'few', 'artsy', 'flourishes', 'aside', 'narc', 'is', 'as', 'gritty', 'as', 'a', 'movie', 'gets', 'these', 'days'], ['while', 'the', 'isle', 'is', 'both', 'preposterous', 'and', 'thoroughly', 'misogynistic', 'its', 'vistas', 'are', 'incredibly', 'beautiful', 'to', 'look', 'at'], ['together', 'tok', 'and', 'o', 'orchestrate', 'a', 'buoyant', 'darkly', 'funny', 'dance', 'of', 'death', 'in', 'the', 'process', 'they', 'demonstrate', 'that', 'there', 's', 'still', 'a', 'lot', 'of', 'life', 'in', 'hong', 'kong', 'cinema'], ['director', 'kapur', 'is', 'a', 'filmmaker', 'with', 'a', 'real', 'flair', 'for', 'epic', 'landscapes', 'and', 'adventure', 'and', 'this', 'is', 'a', 'better', 'film', 'than', 'his', 'earlier', 'english', 'language', 'movie', 'the', 'overpraised', 'elizabeth'], ['the', 'movie', 'is', 'a', 'blast', 'of', 'educational', 'energy', 'as', 'bouncy', 'animation', 'and', 'catchy', 'songs', 'escort', 'you', 'through', 'the', 'entire', '85', 'minutes'], ['a', 'sports', 'movie', 'with', 'action', 'that', 's', 'exciting', 'on', 'the', 'field', 'and', 'a', 'story', 'you', 'care', 'about', 'off', 'it'], ['doug', 'liman', 'the', 'director', 'of', 'bourne', 'directs', 'the', 'traffic', 'well', 'gets', 'a', 'nice', 'wintry', 'look', 'from', 'his', 'locations', 'absorbs', 'us', 'with', 'the', 'movie', 's', 'spycraft', 'and', 'uses', 'damon', 's', 'ability', 'to', 'be', 'focused', 'and', 'sincere'], ['the', 'tenderness', 'of', 'the', 'piece', 'is', 'still', 'intact'], ['katz', 'uses', 'archival', 'footage', 'horrifying', 'documents', 'of', 'lynchings', 'still', 'photographs', 'and', 'charming', 'old', 'reel', 'to', 'reel', 'recordings', 'of', 'meeropol', 'entertaining', 'his', 'children', 'to', 'create', 'his', 'song', 'history', 'but', 'most', 'powerful', 'of', 'all', 'is', 'the', 'song', 'itself'], ['like', 'the', 'film', 's', 'almost', 'anthropologically', 'detailed', 'realization', 'of', 'early', '80s', 'suburbia', 'it', 's', 'significant', 'without', 'being', 'overstated'], ['while', 'mcfarlane', 's', 'animation', 'lifts', 'the', 'film', 'firmly', 'above', 'the', 'level', 'of', 'other', 'coming', 'of', 'age', 'films', 'it', 's', 'also', 'so', 'jarring', 'that', 'it', 's', 'hard', 'to', 'get', 'back', 'into', 'the', 'boys', 'story'], ['if', 'nothing', 'else', 'this', 'movie', 'introduces', 'a', 'promising', 'unusual', 'kind', 'of', 'psychological', 'horror'], ['in', 'a', 'normal', 'screen', 'process', 'these', 'bromides', 'would', 'be', 'barely', 'enough', 'to', 'sustain', 'an', 'interstitial', 'program', 'on', 'the', 'discovery', 'channel', 'but', 'in', 'imax', '3', 'd', 'the', 'clichs', 'disappear', 'into', 'the', 'vertiginous', 'perspectives', 'opened', 'up', 'by', 'the', 'photography'], ['writer', 'director', 'burger', 'imaginatively', 'fans', 'the', 'embers', 'of', 'a', 'dormant', 'national', 'grief', 'and', 'curiosity', 'that', 'has', 'calcified', 'into', 'chronic', 'cynicism', 'and', 'fear'], ['a', 'roller', 'coaster', 'ride', 'of', 'a', 'movie'], ['i', 'enjoyed', 'time', 'of', 'favor', 'while', 'i', 'was', 'watching', 'it', 'but', 'i', 'was', 'surprised', 'at', 'how', 'quickly', 'it', 'faded', 'from', 'my', 'memory']]\n",
      "5331\n",
      "[['simplistic', 'silly', 'and', 'tedious'], ['it', 's', 'so', 'laddish', 'and', 'juvenile', 'only', 'teenage', 'boys', 'could', 'possibly', 'find', 'it', 'funny'], ['exploitative', 'and', 'largely', 'devoid', 'of', 'the', 'depth', 'or', 'sophistication', 'that', 'would', 'make', 'watching', 'such', 'a', 'graphic', 'treatment', 'of', 'the', 'crimes', 'bearable'], ['garbus', 'discards', 'the', 'potential', 'for', 'pathological', 'study', 'exhuming', 'instead', 'the', 'skewed', 'melodrama', 'of', 'the', 'circumstantial', 'situation'], ['a', 'visually', 'flashy', 'but', 'narratively', 'opaque', 'and', 'emotionally', 'vapid', 'exercise', 'in', 'style', 'and', 'mystification'], ['the', 'story', 'is', 'also', 'as', 'unoriginal', 'as', 'they', 'come', 'already', 'having', 'been', 'recycled', 'more', 'times', 'than', 'i', 'd', 'care', 'to', 'count'], ['about', 'the', 'only', 'thing', 'to', 'give', 'the', 'movie', 'points', 'for', 'is', 'bravado', 'to', 'take', 'an', 'entirely', 'stale', 'concept', 'and', 'push', 'it', 'through', 'the', 'audience', 's', 'meat', 'grinder', 'one', 'more', 'time'], ['not', 'so', 'much', 'farcical', 'as', 'sour'], ['unfortunately', 'the', 'story', 'and', 'the', 'actors', 'are', 'served', 'with', 'a', 'hack', 'script'], ['all', 'the', 'more', 'disquieting', 'for', 'its', 'relatively', 'gore', 'free', 'allusions', 'to', 'the', 'serial', 'murders', 'but', 'it', 'falls', 'down', 'in', 'its', 'attempts', 'to', 'humanize', 'its', 'subject'], ['a', 'sentimental', 'mess', 'that', 'never', 'rings', 'true'], ['while', 'the', 'performances', 'are', 'often', 'engaging', 'this', 'loose', 'collection', 'of', 'largely', 'improvised', 'numbers', 'would', 'probably', 'have', 'worked', 'better', 'as', 'a', 'one', 'hour', 'tv', 'documentary'], ['interesting', 'but', 'not', 'compelling'], ['on', 'a', 'cutting', 'room', 'floor', 'somewhere', 'lies', 'footage', 'that', 'might', 'have', 'made', 'no', 'such', 'thing', 'a', 'trenchant', 'ironic', 'cultural', 'satire', 'instead', 'of', 'a', 'frustrating', 'misfire'], ['while', 'the', 'ensemble', 'player', 'who', 'gained', 'notice', 'in', 'guy', 'ritchie', 's', 'lock', 'stock', 'and', 'two', 'smoking', 'barrels', 'and', 'snatch', 'has', 'the', 'bod', 'he', 's', 'unlikely', 'to', 'become', 'a', 'household', 'name', 'on', 'the', 'basis', 'of', 'his', 'first', 'starring', 'vehicle'], ['there', 'is', 'a', 'difference', 'between', 'movies', 'with', 'the', 'courage', 'to', 'go', 'over', 'the', 'top', 'and', 'movies', 'that', 'don', 't', 'care', 'about', 'being', 'stupid'], ['nothing', 'here', 'seems', 'as', 'funny', 'as', 'it', 'did', 'in', 'analyze', 'this', 'not', 'even', 'joe', 'viterelli', 'as', 'de', 'niro', 's', 'right', 'hand', 'goombah'], ['such', 'master', 'screenwriting', 'comes', 'courtesy', 'of', 'john', 'pogue', 'the', 'yale', 'grad', 'who', 'previously', 'gave', 'us', 'the', 'skulls', 'and', 'last', 'year', 's', 'rollerball', 'enough', 'said', 'except', 'film', 'overboard'], ['here', 'common', 'sense', 'flies', 'out', 'the', 'window', 'along', 'with', 'the', 'hail', 'of', 'bullets', 'none', 'of', 'which', 'ever', 'seem', 'to', 'hit', 'sascha'], ['this', '100', 'minute', 'movie', 'only', 'has', 'about', '25', 'minutes', 'of', 'decent', 'material'], ['the', 'execution', 'is', 'so', 'pedestrian', 'that', 'the', 'most', 'positive', 'comment', 'we', 'can', 'make', 'is', 'that', 'rob', 'schneider', 'actually', 'turns', 'in', 'a', 'pretty', 'convincing', 'performance', 'as', 'a', 'prissy', 'teenage', 'girl'], ['on', 'its', 'own', 'it', 's', 'not', 'very', 'interesting', 'as', 'a', 'remake', 'it', 's', 'a', 'pale', 'imitation'], ['it', 'shows', 'that', 'some', 'studios', 'firmly', 'believe', 'that', 'people', 'have', 'lost', 'the', 'ability', 'to', 'think', 'and', 'will', 'forgive', 'any', 'shoddy', 'product', 'as', 'long', 'as', 'there', 's', 'a', 'little', 'girl', 'on', 'girl', 'action'], ['a', 'farce', 'of', 'a', 'parody', 'of', 'a', 'comedy', 'of', 'a', 'premise', 'it', 'isn', 't', 'a', 'comparison', 'to', 'reality', 'so', 'much', 'as', 'it', 'is', 'a', 'commentary', 'about', 'our', 'knowledge', 'of', 'films'], ['as', 'exciting', 'as', 'all', 'this', 'exoticism', 'might', 'sound', 'to', 'the', 'typical', 'pax', 'viewer', 'the', 'rest', 'of', 'us', 'will', 'be', 'lulled', 'into', 'a', 'coma'], ['the', 'party', 'scenes', 'deliver', 'some', 'tawdry', 'kicks', 'the', 'rest', 'of', 'the', 'film', 'is', 'dudsville'], ['our', 'culture', 'is', 'headed', 'down', 'the', 'toilet', 'with', 'the', 'ferocity', 'of', 'a', 'frozen', 'burrito', 'after', 'an', 'all', 'night', 'tequila', 'bender', 'and', 'i', 'know', 'this', 'because', 'i', 've', 'seen', 'jackass', 'the', 'movie'], ['the', 'criticism', 'never', 'rises', 'above', 'easy', 'cynical', 'potshots', 'at', 'morally', 'bankrupt', 'characters'], ['the', 'movie', 's', 'something', 'borrowed', 'construction', 'feels', 'less', 'the', 'product', 'of', 'loving', 'well', 'integrated', 'homage', 'and', 'more', 'like', 'a', 'mere', 'excuse', 'for', 'the', 'wan', 'thinly', 'sketched', 'story', 'killing', 'time', 'that', 's', 'all', 'that', 's', 'going', 'on', 'here'], ['stupid', 'infantile', 'redundant', 'sloppy', 'over', 'the', 'top', 'and', 'amateurish', 'yep', 'it', 's', 'waking', 'up', 'in', 'reno', 'go', 'back', 'to', 'sleep'], ['somewhere', 'in', 'the', 'middle', 'the', 'film', 'compels', 'as', 'demme', 'experiments', 'he', 'harvests', 'a', 'few', 'movie', 'moment', 'gems', 'but', 'the', 'field', 'of', 'roughage', 'dominates'], ['the', 'action', 'clichs', 'just', 'pile', 'up'], ['payami', 'tries', 'to', 'raise', 'some', 'serious', 'issues', 'about', 'iran', 's', 'electoral', 'process', 'but', 'the', 'result', 'is', 'a', 'film', 'that', 's', 'about', 'as', 'subtle', 'as', 'a', 'party', 'political', 'broadcast'], ['the', 'only', 'surprise', 'is', 'that', 'heavyweights', 'joel', 'silver', 'and', 'robert', 'zemeckis', 'agreed', 'to', 'produce', 'this', 'i', 'assume', 'the', 'director', 'has', 'pictures', 'of', 'them', 'cavorting', 'in', 'ladies', 'underwear'], ['another', 'useless', 'recycling', 'of', 'a', 'brutal', 'mid', '70s', 'american', 'sports', 'movie'], ['i', 'didn', 't', 'laugh', 'i', 'didn', 't', 'smile', 'i', 'survived'], ['please', 'someone', 'stop', 'eric', 'schaeffer', 'before', 'he', 'makes', 'another', 'film'], ['most', 'of', 'the', 'problems', 'with', 'the', 'film', 'don', 't', 'derive', 'from', 'the', 'screenplay', 'but', 'rather', 'the', 'mediocre', 'performances', 'by', 'most', 'of', 'the', 'actors', 'involved'], ['if', 'you', 're', 'just', 'in', 'the', 'mood', 'for', 'a', 'fun', 'but', 'bad', 'movie', 'you', 'might', 'want', 'to', 'catch', 'freaks', 'as', 'a', 'matinee'], ['curling', 'may', 'be', 'a', 'unique', 'sport', 'but', 'men', 'with', 'brooms', 'is', 'distinctly', 'ordinary'], ['though', 'the', 'opera', 'itself', 'takes', 'place', 'mostly', 'indoors', 'jacquot', 'seems', 'unsure', 'of', 'how', 'to', 'evoke', 'any', 'sort', 'of', 'naturalism', 'on', 'the', 'set'], ['there', 's', 'no', 'getting', 'around', 'the', 'fact', 'that', 'this', 'is', 'revenge', 'of', 'the', 'nerds', 'revisited', 'again'], ['the', 'effort', 'is', 'sincere', 'and', 'the', 'results', 'are', 'honest', 'but', 'the', 'film', 'is', 'so', 'bleak', 'that', 'it', 's', 'hardly', 'watchable'], ['analyze', 'that', 'regurgitates', 'and', 'waters', 'down', 'many', 'of', 'the', 'previous', 'film', 's', 'successes', 'with', 'a', 'few', 'new', 'swings', 'thrown', 'in'], ['with', 'flashbulb', 'editing', 'as', 'cover', 'for', 'the', 'absence', 'of', 'narrative', 'continuity', 'undisputed', 'is', 'nearly', 'incoherent', 'an', 'excuse', 'to', 'get', 'to', 'the', 'closing', 'bout', 'by', 'which', 'time', 'it', 's', 'impossible', 'to', 'care', 'who', 'wins'], ['stinks', 'from', 'start', 'to', 'finish', 'like', 'a', 'wet', 'burlap', 'sack', 'of', 'gloom'], ['to', 'the', 'civilized', 'mind', 'a', 'movie', 'like', 'ballistic', 'ecks', 'vs', 'sever', 'is', 'more', 'of', 'an', 'ordeal', 'than', 'an', 'amusement'], ['equlibrium', 'could', 'pass', 'for', 'a', 'thirteen', 'year', 'old', 's', 'book', 'report', 'on', 'the', 'totalitarian', 'themes', 'of', '1984', 'and', 'farenheit', '451'], ['the', 'lack', 'of', 'naturalness', 'makes', 'everything', 'seem', 'self', 'consciously', 'poetic', 'and', 'forced', 'it', 's', 'a', 'pity', 'that', 'nelson', 's', 'achievement', 'doesn', 't', 'match', 'his', 'ambition'], ['everything', 'is', 'off'], ['when', 'seagal', 'appeared', 'in', 'an', 'orange', 'prison', 'jumpsuit', 'i', 'wanted', 'to', 'stand', 'up', 'in', 'the', 'theater', 'and', 'shout', 'hey', 'kool', 'aid'], ['an', 'easy', 'watch', 'except', 'for', 'the', 'annoying', 'demeanour', 'of', 'its', 'lead', 'character'], ['imagine', 'the', 'cleanflicks', 'version', 'of', 'love', 'story', 'with', 'ali', 'macgraw', 's', 'profanities', 'replaced', 'by', 'romance', 'novel', 'platitudes'], ['pc', 'stability', 'notwithstanding', 'the', 'film', 'suffers', 'from', 'a', 'simplistic', 'narrative', 'and', 'a', 'pat', 'fairy', 'tale', 'conclusion'], ['forget', 'the', 'misleading', 'title', 'what', 's', 'with', 'the', 'unexplained', 'baboon', 'cameo'], ['an', 'odd', 'haphazard', 'and', 'inconsequential', 'romantic', 'comedy'], ['though', 'her', 'fans', 'will', 'assuredly', 'have', 'their', 'funny', 'bones', 'tickled', 'others', 'will', 'find', 'their', 'humor', 'seeking', 'dollars', 'best', 'spent', 'elsewhere'], ['pascale', 'bailly', 's', 'rom', 'com', 'provides', 'amlie', 's', 'audrey', 'tautou', 'with', 'another', 'fabuleux', 'destin', 'i', 'e', 'a', 'banal', 'spiritual', 'quest'], ['a', 'static', 'and', 'sugary', 'little', 'half', 'hour', 'after', 'school', 'special', 'about', 'interfaith', 'understanding', 'stretched', 'out', 'to', '90', 'minutes'], ['watching', 'the', 'chemistry', 'between', 'freeman', 'and', 'judd', 'however', 'almost', 'makes', 'this', 'movie', 'worth', 'seeing', 'almost'], ['a', 'pretentious', 'and', 'ultimately', 'empty', 'examination', 'of', 'a', 'sick', 'and', 'evil', 'woman'], ['the', 'country', 'bears', 'has', 'no', 'scenes', 'that', 'will', 'upset', 'or', 'frighten', 'young', 'viewers', 'unfortunately', 'there', 'is', 'almost', 'nothing', 'in', 'this', 'flat', 'effort', 'that', 'will', 'amuse', 'or', 'entertain', 'them', 'either'], ['the', 'cumulative', 'effect', 'of', 'watching', 'this', '65', 'minute', 'trifle', 'is', 'rather', 'like', 'being', 'trapped', 'while', 'some', 'weird', 'relative', 'trots', 'out', 'the', 'video', 'he', 'took', 'of', 'the', 'family', 'vacation', 'to', 'stonehenge', 'before', 'long', 'you', 're', 'desperate', 'for', 'the', 'evening', 'to', 'end'], ['the', 'characters', 'are', 'never', 'more', 'than', 'sketches', 'which', 'leaves', 'any', 'true', 'emotional', 'connection', 'or', 'identification', 'frustratingly', 'out', 'of', 'reach'], ['mattei', 's', 'underdeveloped', 'effort', 'here', 'is', 'nothing', 'but', 'a', 'convenient', 'conveyor', 'belt', 'of', 'brooding', 'personalities', 'that', 'parade', 'about', 'as', 'if', 'they', 'were', 'coming', 'back', 'from', 'stock', 'character', 'camp', 'a', 'drowsy', 'drama', 'infatuated', 'by', 'its', 'own', 'pretentious', 'self', 'examination'], ['only', 'in', 'its', 'final', 'surprising', 'shots', 'does', 'rabbit', 'proof', 'fence', 'find', 'the', 'authority', 'it', 's', 'looking', 'for'], ['isn', 't', 'as', 'sharp', 'as', 'the', 'original', 'despite', 'some', 'visual', 'virtues', 'blade', 'ii', 'just', 'doesn', 't', 'cut', 'it'], ['plays', 'like', 'a', 'badly', 'edited', '91', 'minute', 'trailer', 'and', 'the', 'director', 'can', 't', 'seem', 'to', 'get', 'a', 'coherent', 'rhythm', 'going', 'in', 'fact', 'it', 'doesn', 't', 'even', 'seem', 'like', 'she', 'tried'], ['maybe', 'leblanc', 'thought', 'hey', 'the', 'movie', 'about', 'the', 'baseball', 'playing', 'monkey', 'was', 'worse'], ['what', 'you', 'expect', 'is', 'just', 'what', 'you', 'get', 'assuming', 'the', 'bar', 'of', 'expectations', 'hasn', 't', 'been', 'raised', 'above', 'sixth', 'grade', 'height'], ['barry', 'sonnenfeld', 'owes', 'frank', 'the', 'pug', 'big', 'time'], ['the', 'biggest', 'problem', 'with', 'roger', 'avary', 's', 'uproar', 'against', 'the', 'mpaa', 'is', 'that', 'even', 'in', 'all', 'its', 'director', 's', 'cut', 'glory', 'he', 's', 'made', 'a', 'film', 'that', 's', 'barely', 'shocking', 'barely', 'interesting', 'and', 'most', 'of', 'all', 'barely', 'anything'], ['so', 'riddled', 'with', 'unanswered', 'questions', 'that', 'it', 'requires', 'gargantuan', 'leaps', 'of', 'faith', 'just', 'to', 'watch', 'it', 'plod', 'along'], ['i', 'approached', 'the', 'usher', 'and', 'said', 'that', 'if', 'she', 'had', 'to', 'sit', 'through', 'it', 'again', 'she', 'should', 'ask', 'for', 'a', 'raise'], ['earnest', 'but', 'heavy', 'handed'], ['if', 'sinise', 's', 'character', 'had', 'a', 'brain', 'his', 'ordeal', 'would', 'be', 'over', 'in', 'five', 'minutes', 'but', 'instead', 'the', 'plot', 'goes', 'out', 'of', 'its', 'way', 'to', 'introduce', 'obstacles', 'for', 'him', 'to', 'stumble', 'over'], ['too', 'slow', 'for', 'a', 'younger', 'crowd', 'too', 'shallow', 'for', 'an', 'older', 'one'], ['there', 's', 'a', 'reason', 'the', 'studio', 'didn', 't', 'offer', 'an', 'advance', 'screening', 'the', 'adventures', 'of', 'pluto', 'nash', 'is', 'a', 'big', 'time', 'stinker'], ['a', 'punch', 'line', 'without', 'a', 'premise', 'a', 'joke', 'built', 'entirely', 'from', 'musty', 'memories', 'of', 'half', 'dimensional', 'characters'], ['takes', 'one', 'character', 'we', 'don', 't', 'like', 'and', 'another', 'we', 'don', 't', 'believe', 'and', 'puts', 'them', 'into', 'a', 'battle', 'of', 'wills', 'that', 'is', 'impossible', 'to', 'care', 'about', 'and', 'isn', 't', 'very', 'funny'], ['the', 'things', 'this', 'movie', 'tries', 'to', 'get', 'the', 'audience', 'to', 'buy', 'just', 'won', 't', 'fly', 'with', 'most', 'intelligent', 'viewers'], ['even', 'if', 'the', 'enticing', 'prospect', 'of', 'a', 'lot', 'of', 'nubile', 'young', 'actors', 'in', 'a', 'film', 'about', 'campus', 'depravity', 'didn', 't', 'fade', 'amid', 'the', 'deliberate', 'tiresome', 'ugliness', 'it', 'would', 'be', 'rendered', 'tedious', 'by', 'avary', 's', 'failure', 'to', 'construct', 'a', 'story', 'with', 'even', 'a', 'trace', 'of', 'dramatic', 'interest'], ['sitting', 'through', 'the', 'last', 'reel', 'spoiler', 'alert', 'is', 'significantly', 'less', 'charming', 'than', 'listening', 'to', 'a', 'four', 'year', 'old', 'with', 'a', 'taste', 'for', 'exaggeration', 'recount', 'his', 'halloween', 'trip', 'to', 'the', 'haunted', 'house'], ['confuses', 'its', 'message', 'with', 'an', 'ultimate', 'desire', 'to', 'please', 'and', 'contorting', 'itself', 'into', 'an', 'idea', 'of', 'expectation', 'is', 'the', 'last', 'thing', 'any', 'of', 'these', 'three', 'actresses', 'nor', 'their', 'characters', 'deserve'], ['deadly', 'dull', 'pointless', 'meditation', 'on', 'losers', 'in', 'a', 'gone', 'to', 'seed', 'hotel'], ['with', 'this', 'new', 'rollerball', 'sense', 'and', 'sensibility', 'have', 'been', 'overrun', 'by', 'what', 'can', 'only', 'be', 'characterized', 'as', 'robotic', 'sentiment'], ['one', 'can', 'only', 'assume', 'that', 'the', 'jury', 'who', 'bestowed', 'star', 'hoffman', 's', 'brother', 'gordy', 'with', 'the', 'waldo', 'salt', 'screenwriting', 'award', 'at', '2002', 's', 'sundance', 'festival', 'were', 'honoring', 'an', 'attempt', 'to', 'do', 'something', 'different', 'over', 'actually', 'pulling', 'it', 'off'], ['a', 'movie', 'more', 'to', 'be', 'prescribed', 'than', 'recommended', 'as', 'visually', 'bland', 'as', 'a', 'dentist', 's', 'waiting', 'room', 'complete', 'with', 'soothing', 'muzak', 'and', 'a', 'cushion', 'of', 'predictable', 'narrative', 'rhythms'], ['sex', 'ironically', 'has', 'little', 'to', 'do', 'with', 'the', 'story', 'which', 'becomes', 'something', 'about', 'how', 'lame', 'it', 'is', 'to', 'try', 'and', 'evade', 'your', 'responsibilities', 'and', 'that', 'you', 'should', 'never', 'ever', 'leave', 'a', 'large', 'dog', 'alone', 'with', 'a', 'toddler', 'but', 'never', 'mind', 'all', 'that', 'the', 'boobs', 'are', 'fantasti'], ['the', 'script', 'covers', 'huge', 'heavy', 'topics', 'in', 'a', 'bland', 'surfacey', 'way', 'that', 'doesn', 't', 'offer', 'any', 'insight', 'into', 'why', 'for', 'instance', 'good', 'things', 'happen', 'to', 'bad', 'people'], ['a', 'portrait', 'of', 'alienation', 'so', 'perfect', 'it', 'will', 'certainly', 'succeed', 'in', 'alienating', 'most', 'viewers'], ['the', 'code', 'talkers', 'deserved', 'better', 'than', 'a', 'hollow', 'tribute'], ['skip', 'the', 'film', 'and', 'buy', 'the', 'philip', 'glass', 'soundtrack', 'cd'], ['feels', 'like', 'a', 'cold', 'old', 'man', 'going', 'through', 'the', 'motions'], ['dignified', 'ceo', 's', 'meet', 'at', 'a', 'rustic', 'retreat', 'and', 'pee', 'against', 'a', 'tree', 'can', 'you', 'bear', 'the', 'laughter'], ['dull', 'and', 'mechanical', 'kinda', 'like', 'a', 'very', 'goofy', 'museum', 'exhibit'], ['there', 's', 'no', 'point', 'of', 'view', 'no', 'contemporary', 'interpretation', 'of', 'joan', 's', 'prefeminist', 'plight', 'so', 'we', 're', 'left', 'thinking', 'the', 'only', 'reason', 'to', 'make', 'the', 'movie', 'is', 'because', 'present', 'standards', 'allow', 'for', 'plenty', 'of', 'nudity'], ['beware', 'the', 'quirky', 'brit', 'com', 'they', 'can', 'and', 'will', 'turn', 'on', 'a', 'dime', 'from', 'oddly', 'humorous', 'to', 'tediously', 'sentimental'], ['has', 'its', 'moments', 'and', 'almost', 'as', 'many', 'subplots'], ['the', 'gags', 'and', 'the', 'script', 'are', 'a', 'mixed', 'bag']]\n"
     ]
    }
   ],
   "source": [
    "#--- Tokenize texts\n",
    "def preprocess(text): # removes punctualtion\n",
    "    tokenizer = RegexpTokenizer(r'\\w+') # just for demo \n",
    "    return tokenizer.tokenize(text.lower())\n",
    "\n",
    "pos_words = [preprocess(str(texts_pos[i])) for i in range(len(texts_pos))]\n",
    "print (len(pos_words))\n",
    "print(pos_words[:100])\n",
    "\n",
    "neg_words = [preprocess(str(texts_neg[i])) for i in range(len(texts_neg))]\n",
    "print (len(neg_words))\n",
    "print(neg_words[:100])"
   ]
  },
  {
   "cell_type": "code",
   "execution_count": 10,
   "id": "6e9957d9-6c66-4a98-8760-d4d967ead341",
   "metadata": {},
   "outputs": [
    {
     "name": "stdout",
     "output_type": "stream",
     "text": [
      "len of vocabulary: 18,359\n",
      "('the', 'a', 'and', 'of', 'to', 's', 'it', 'is', 'in', 'that', 'as', 'but', 'film', 'with', 'for', 'this', 'movie', 'its', 'an', 'you', 't', 'be', 'on', 'not', 'by', 'one', 'like', 'about', 'more', 'has', 'are', 'at', 'than', 'from', 'all', 'his', 'have', 'i', 'so', 'if', 'or', 'story', 'what', 'too', 'there', 'can', 'who', 'out', 'just', 'up', 'good', 'into', 'no', 'most', 'much', 'even', 'comedy', 'time', 'will', 'some', 'characters', 'well', 'he', 'director', 'only', 'little', 'way', 'funny', 'their', 'make', 'they', 'been', 'your', 'enough', 'we', 'very', 'never', 'when', 'life', 'makes', 'bad', 'may', 'best', 'which', 'us', 'work', 'love', 'doesn', 'would', 'any', 'made', 'while', 'was', 'new', 'movies', 'her', 'off', 'something', 'through', 'how')\n"
     ]
    }
   ],
   "source": [
    "# --- Build vocabulary with most frequent words\n",
    "all_words=preprocess(str(texts_pos+texts_neg))\n",
    "all_words=nltk.FreqDist(all_words)\n",
    "print ('len of vocabulary: {:,}'.format (len(all_words)))\n",
    "\n",
    "most_common_words = list(zip(*all_words.most_common()))[0] # [0] means names whereas [1] are frequencies \n",
    "# most_common(5000) - it may retutn limited number but in this sample the features will be filtered later after removing stop words \n",
    "print (most_common_words[:100])\n"
   ]
  },
  {
   "cell_type": "code",
   "execution_count": 14,
   "id": "81e933dc-7345-4aba-bcd0-9a990c3e1833",
   "metadata": {},
   "outputs": [
    {
     "name": "stderr",
     "output_type": "stream",
     "text": [
      "[nltk_data] Downloading package stopwords to\n",
      "[nltk_data]     C:\\Users\\Vasyl\\AppData\\Roaming\\nltk_data...\n",
      "[nltk_data]   Unzipping corpora\\stopwords.zip.\n"
     ]
    },
    {
     "name": "stdout",
     "output_type": "stream",
     "text": [
      "['film', 'movie', 'one', 'like', 'story', 'good', 'much', 'even', 'comedy', 'time', 'characters', 'well', 'director', 'little', 'way', 'funny', 'make', 'enough', 'never', 'life', 'makes', 'bad', 'may', 'best', 'us', 'work', 'love', 'would', 'made', 'new', 'movies', 'something', 'could', 'action', 'really', 'drama', 'two', 'see', 'plot', 'performances', 'long', 'many', 'still', 'look', 'films', 'old', 'every', 'people', 'big', 'nothing', 'first', 'better', 'get', 'fun', 'without', 'great', 'character', 'though', 'might', 'audience', 'also', 'world', 'another', 'cast', 'real', 'kind', 'ever', 'self', 'humor', 'year', 'sense', 'script', 'feel', 'less', 'often', 'far', 'performance', 'feels', 'thing', 'hard', 'thriller', 'screen', 'man', 'seems', 'picture', 'minutes', 'tale', 'heart', 'quite', 'full', 'documentary', 'hollywood', 'almost', 'yet', 'end', 'interesting', 'go', 'american', 'entertaining', 'rather']\n"
     ]
    }
   ],
   "source": [
    "# ----- Remove stop words\n",
    "import nltk\n",
    "nltk.download('stopwords')\n",
    "\n",
    "def remove_stop_words(words):\n",
    "    stop_words = set(stopwords.words('english'))  \n",
    "    return [w for w in words if w not in stop_words]\n",
    "\n",
    "most_common_words_filtered = remove_stop_words(most_common_words)\n",
    "print(most_common_words_filtered[:100]) \n",
    "\n",
    "pos_words=[remove_stop_words(pos_words[i]) for i in range(len(pos_words))] \n",
    "neg_words=[remove_stop_words(neg_words[i]) for i in range(len(neg_words))] \n"
   ]
  },
  {
   "cell_type": "code",
   "execution_count": 15,
   "id": "3eca1607-5ff2-4029-8fb9-b4b796f05259",
   "metadata": {},
   "outputs": [
    {
     "name": "stdout",
     "output_type": "stream",
     "text": [
      "['film', 'movie', 'one', 'like', 'story', 'good', 'much', 'even', 'comedy', 'time', 'characters', 'well', 'director', 'little', 'way', 'funny', 'make', 'enough', 'never', 'life', 'makes', 'bad', 'may', 'best', 'us', 'work', 'love', 'would', 'made', 'new', 'movies', 'something', 'could', 'action', 'really', 'drama', 'two', 'see', 'plot', 'performances', 'long', 'many', 'still', 'look', 'films', 'old', 'every', 'people', 'big', 'nothing', 'first', 'better', 'get', 'fun', 'without', 'great', 'character', 'though', 'might', 'audience', 'also', 'world', 'another', 'cast', 'real', 'kind', 'ever', 'self', 'humor', 'year', 'sense', 'script', 'feel', 'less', 'often', 'far', 'performance', 'feels', 'thing', 'hard', 'thriller', 'screen', 'man', 'seems', 'picture', 'minutes', 'tale', 'heart', 'quite', 'full', 'documentary', 'hollywood', 'almost', 'yet', 'end', 'interesting', 'go', 'american', 'entertaining', 'rather']\n"
     ]
    }
   ],
   "source": [
    "#---Select Features\n",
    "word_features = most_common_words_filtered[:3000]\n",
    "print (word_features[:100])\n",
    "\n",
    "# documents = [(pos_words, 'pos')]\n",
    "documents = [(pos_words[i], 'pos') for i in range(len(pos_words))]\n",
    "\n",
    "# documents = documents + [(neg_words, 'neg')]\n",
    "documents = documents + [(neg_words[i], 'neg') for i in range(len(neg_words))]\n"
   ]
  },
  {
   "cell_type": "code",
   "execution_count": 16,
   "id": "ea169ab8-2c99-49ab-b201-21c36c94fdd2",
   "metadata": {},
   "outputs": [
    {
     "data": {
      "text/plain": [
       "500"
      ]
     },
     "execution_count": 16,
     "metadata": {},
     "output_type": "execute_result"
    }
   ],
   "source": [
    "# ----shuffle first \n",
    "random.shuffle(documents) # it is inplace method\n",
    "documents= documents[:500] # reduce the data set for speed up the demo \n",
    "len (documents)"
   ]
  },
  {
   "cell_type": "code",
   "execution_count": 17,
   "id": "49af38c2-e922-4a7c-a86b-f2343312ff2d",
   "metadata": {
    "collapsed": true,
    "jupyter": {
     "outputs_hidden": true
    },
    "tags": []
   },
   "outputs": [
    {
     "name": "stdout",
     "output_type": "stream",
     "text": [
      "({'film': False, 'movie': False, 'one': False, 'like': True, 'story': False, 'good': False, 'much': False, 'even': False, 'comedy': False, 'time': False, 'characters': False, 'well': False, 'director': False, 'little': False, 'way': False, 'funny': False, 'make': True, 'enough': False, 'never': False, 'life': False, 'makes': False, 'bad': False, 'may': False, 'best': False, 'us': False, 'work': False, 'love': False, 'would': False, 'made': False, 'new': False, 'movies': False, 'something': True, 'could': False, 'action': False, 'really': False, 'drama': False, 'two': False, 'see': False, 'plot': False, 'performances': False, 'long': False, 'many': False, 'still': False, 'look': False, 'films': False, 'old': False, 'every': False, 'people': False, 'big': False, 'nothing': False, 'first': False, 'better': False, 'get': False, 'fun': False, 'without': False, 'great': False, 'character': False, 'though': False, 'might': False, 'audience': False, 'also': False, 'world': False, 'another': False, 'cast': False, 'real': False, 'kind': False, 'ever': False, 'self': False, 'humor': False, 'year': False, 'sense': False, 'script': False, 'feel': False, 'less': False, 'often': False, 'far': False, 'performance': False, 'feels': True, 'thing': False, 'hard': False, 'thriller': False, 'screen': False, 'man': False, 'seems': False, 'picture': False, 'minutes': False, 'tale': False, 'heart': False, 'quite': False, 'full': False, 'documentary': False, 'hollywood': False, 'almost': False, 'yet': False, 'end': False, 'interesting': False, 'go': False, 'american': False, 'entertaining': False, 'rather': False, 'de': False, 'take': False, 'family': False, 'watching': False, 'seen': False, 'ultimately': True, 'romantic': False, 'comes': False, 'moments': False, 'right': False, 'lot': False, 'despite': False, 'original': False, 'acting': False, 'human': False, 'find': False, 'worth': False, 'gets': False, 'back': False, 'actors': False, 'times': False, 'takes': False, 'come': False, 'things': False, 'dialogue': False, 'scenes': False, 'watch': False, 'high': False, 'compelling': False, 'material': False, 'years': False, 'young': False, 'music': False, 'kids': False, 'going': False, 'cinema': False, 'anyone': False, 'half': False, 'style': False, 'works': False, 'writer': False, 'think': False, 'star': False, 'want': False, 'know': False, 'seem': False, 'least': False, 'emotional': False, 'last': False, 'gives': False, 'special': False, 'point': False, 'piece': False, 'part': False, 'making': False, 'give': False, 'say': False, 'sometimes': False, 'show': False, 'entertainment': False, 'together': False, 'cinematic': False, 'subject': False, 'pretty': False, 'moving': False, 'video': False, 'keep': False, 'bit': False, 'true': False, 'whole': False, 'fans': False, 'dull': False, 'fascinating': False, 'away': False, 'sweet': False, 'war': False, 'anything': False, 'art': False, 'since': False, 'age': False, 'need': False, 'manages': False, 'three': False, 'flick': False, 'laughs': False, 'women': False, 'offers': False, 'clever': False, 'always': False, 'experience': False, 'history': False, 'dark': False, 'low': False, 'simply': False, 'mr': False, 'direction': False, 'predictable': False, 'silly': False, 'title': False, 'everything': False, 'day': False, 'feature': False, 'instead': False, 'comic': False, 'care': False, 'series': False, 'around': False, 'charm': False, 'coming': False, 'done': False, 'whose': False, 'nearly': False, 'actually': False, 'horror': False, 'matter': False, 'visual': False, 'place': False, 'filmmakers': False, 'familiar': False, 'effects': False, 'genre': False, 'narrative': False, 'looking': False, 'screenplay': False, 'idea': False, 'short': False, 'set': False, 'mind': False, 'children': False, 'goes': False, 'trying': False, 'smart': False, 'hour': False, 'home': False, 'plays': False, 'probably': False, 'power': False, 'premise': False, 'turns': False, 'enjoyable': False, 'thought': False, 'lacks': False, 'engaging': False, 'feeling': False, 'becomes': False, 'although': False, 'especially': False, 'worst': False, 'study': False, 'tv': False, 'amusing': False, 'ending': False, 'strong': False, 'enjoy': False, 'effort': False, 'minute': False, 'charming': False, 'intelligent': False, 'girl': False, 'face': False, 'modern': False, 'likely': False, 'solid': False, 'romance': False, 'men': False, 'lack': False, 'acted': False, 'put': False, 'john': False, 'debut': False, 'theater': False, 'directed': False, 'boring': False, 'fresh': False, 'else': False, 'mostly': False, 'wit': False, 'actor': False, 'message': False, 'version': False, 'portrait': False, 'filmmaker': False, 'easy': False, 'certainly': False, 'beautiful': False, 'shot': False, 'sort': False, 'black': False, 'hours': False, 'rare': False, 'everyone': False, 'play': False, 'heavy': False, 'beautifully': False, 'next': False, 'level': False, 'become': False, 'fine': False, 'serious': False, 'small': False, 'surprisingly': False, 'lives': False, 'light': True, 'culture': False, 'slow': False, 'energy': False, 'sure': False, 'problem': False, 'quirky': False, 'french': False, 'interest': False, 'along': False, 'opera': False, 'exercise': False, 'book': False, 'ideas': False, 'whether': False, 'obvious': False, 'viewers': False, 'powerful': False, 'leave': False, 'looks': False, 'classic': False, 'beyond': False, 'mess': False, 'either': False, 'completely': False, 'dramatic': False, 'must': False, 'past': False, 'melodrama': False, 'fact': False, 'adventure': False, 'reason': False, 'neither': False, 'tone': False, 'believe': False, 'live': False, 'filmmaking': False, 'recent': False, 'suspense': False, 'death': False, 'school': False, 'stuff': False, 'shows': False, 'production': False, 'delivers': False, 'sex': False, 'written': False, 'jokes': False, 'fails': False, 'truly': False, 'perfect': False, 'deeply': False, 'scene': False, 'intriguing': False, 'left': False, 'tries': False, 'laugh': False, 'summer': False, 'camera': False, 'middle': False, 'ride': False, 'spirit': False, 'reality': False, 'dumb': False, 'woman': False, 'ends': False, 'close': False, 'head': False, 'sad': False, 'simple': False, 'occasionally': False, 'exactly': False, 'spy': False, 'hilarious': False, 'touching': False, 'impossible': False, 'line': False, 'audiences': False, 'project': False, 'disney': False, 'role': False, 'b': False, 'formula': False, 'boy': False, 'remains': False, 'terrific': False, 'satisfying': False, 'proves': False, 'passion': False, 'storytelling': False, 'already': False, 'different': False, 'seeing': False, 'stories': False, 'crime': False, 'teen': False, 'pleasure': False, 'easily': False, 'images': False, 'got': False, 'talent': False, 'dead': False, 'turn': False, 'run': False, 'journey': False, 'sequel': False, 'personal': False, 'political': False, 'particularly': False, 'attempt': False, 'difficult': False, 'side': False, 'gags': False, 'flat': False, 'honest': False, 'complex': False, 'mystery': False, 'psychological': False, 'animation': False, 'given': False, 'pretentious': False, 'cool': False, 'eye': False, 'case': False, 'stand': False, 'social': False, 'michael': False, 'intelligence': False, 'none': False, 'ways': False, 'class': False, 'visually': False, 'second': False, 'thin': False, 'earnest': False, 'found': False, 'falls': False, 'cold': False, 'rock': False, 'top': False, 'game': False, 'novel': False, 'hit': False, 'gone': False, '2': False, 'told': False, 'tell': False, 'truth': False, 'cliches': False, 'getting': False, 'leaves': False, 'straight': False, 'que': False, 'violence': False, 'help': False, 'uses': False, 'brilliant': False, 'writing': False, 'memorable': False, 'budget': False, 'four': False, 'act': False, 'finally': False, 'nature': False, 'keeps': False, 'job': False, 'guys': False, 'warm': False, 'rich': False, 'wrong': False, 'satire': False, 'concept': False, 'overall': False, 'soap': False, 'days': False, 'barely': False, 'otherwise': False, 'hero': False, 'elements': False, 'viewer': False, 'wild': False, 'creepy': False, 'needs': False, 'form': False, 'rarely': False, 'deep': False, 'lost': False, 'contrived': False, 'thoughtful': False, 'epic': False, 'possible': False, 'important': False, 'fi': False, 'running': False, 'lead': False, 'taste': False, 'several': False, 'worthy': False, 'appeal': False, 'starts': False, 'entirely': False, 'fire': False, 'clear': False, 'mood': False, 'moral': False, 'final': False, 'white': False, 'approach': False, 'city': False, 'imagine': False, 'insight': False, 'perhaps': False, 'attention': False, 'behind': False, 'animated': False, 'eyes': False, 'excellent': False, 'surprising': False, 'period': False, 'oscar': False, 'david': False, 'call': False, 'wonderful': False, 'based': False, 'others': False, 'future': False, 'tragedy': False, 'moment': False, 'adults': False, 'fairly': False, 'sci': False, 'loud': False, 'co': False, 'start': False, 'quality': False, 'fantasy': False, 'cute': False, 'thoroughly': False, 'entire': False, 'engrossing': False, 'parents': False, 'among': False, 'comedies': False, 'result': False, 'imagination': False, 'change': False, 'depth': False, 'remarkable': False, 'expect': False, 'witty': False, 'bland': False, 'bring': False, 'adaptation': False, 'tedious': False, 'vision': False, 'road': False, 'genuine': False, 'air': False, 'working': False, 'nice': False, 'perfectly': False, 'la': False, 'career': False, 'filled': False, 'gentle': False, 'quiet': False, 'merely': False, 'sharp': False, 'hand': False, 'maybe': False, 'strange': False, 'knows': False, 'add': False, 'guy': False, 'usual': False, 'taking': False, 'emotionally': False, 'hope': False, 'cultural': False, 'gorgeous': False, 'fast': False, 'wonder': False, 'remake': False, 'house': False, 'cut': False, 'latest': False, 'ii': False, 'pop': False, 'single': False, 'worse': False, 'tired': False, 'effective': False, 'beauty': False, 'points': False, 'someone': False, 'cheap': False, 'begins': False, 'surprise': False, 'view': False, 'winning': False, 'plenty': False, 'somewhat': False, 'offer': False, 'joke': False, 'impressive': False, 'events': False, 'thanks': False, 'appealing': False, 'inside': False, 'scary': False, 'water': False, 'stupid': False, 'decent': False, 'ugly': False, 'provides': False, 'lovely': False, 'however': False, 'unfortunately': False, 'captures': False, 'america': False, 'miss': False, 'try': False, 'pure': False, 'hip': False, 'magic': False, 'pictures': False, 'emotions': False, 'playing': False, 'definitely': False, 'sit': False, 'able': False, 'mean': False, 'lots': False, 'highly': False, 'ambitious': False, 'awful': False, 'utterly': False, 'brings': False, 'pace': False, 'grant': False, 'sound': False, 'open': False, 'free': False, 'exciting': False, 'memory': False, 'execution': False, 'female': False, 'sequences': False, 'stars': False, 'force': False, 'welcome': False, 'soul': False, 'examination': False, 'throughout': False, 'subtle': False, 'major': False, 'historical': False, 'night': False, 'artist': False, 'numbers': False, 'crafted': False, 'let': False, 'suffers': False, 'robert': False, 'hell': False, 'provocative': False, 'bond': False, 'e': False, 'dog': False, 'ensemble': False, 'felt': False, 'sexual': False, 'process': False, 'boys': False, 'sustain': False, 'meaning': False, 'allen': False, 'deserves': False, 'certain': False, 'issues': False, 'williams': False, 'read': False, 'alone': False, 'relationship': False, 'era': False, 'creative': False, 'ya': False, 'fashioned': False, 'murder': False, 'cartoon': False, 'college': False, '90': False, 'words': False, 'surprises': False, 'question': False, 'masterpiece': False, 'kid': False, 'master': False, 'potential': False, 'actress': False, 'quickly': False, 'impact': False, 'deal': False, 'urban': False, 'date': False, 'paced': False, 'delightful': False, 'flaws': False, 'spielberg': False, 'wants': False, 'poignant': False, 'upon': False, 'use': False, 'creates': False, 'average': False, 'used': False, 'yes': False, 'odd': False, 'across': False, 'chemistry': False, 'except': False, 'touch': False, 'ago': False, 'tension': False, 'length': False, 'country': False, 'happy': False, 'rest': False, 'called': False, 'sensitive': False, 'create': False, 'five': False, 'trip': False, 'lacking': False, 'extreme': False, 'talented': False, 'handed': False, 'unexpected': False, 'girls': False, 'fully': False, 'taken': False, 'thinking': False, 'sentimental': False, 'couple': False, 'monster': False, 'flawed': False, 'casting': False, 'unsettling': False, 'formulaic': False, 'success': False, 'contemporary': False, 'situation': False, 'puts': False, 'money': False, 'waste': False, 'mediocre': False, 'generic': False, 'unfunny': False, 'century': False, 'cannot': False, 'jackson': False, 'key': False, 'melodramatic': False, 'extremely': False, 'forgettable': False, 'crush': False, 'mark': False, 'involved': False, 'living': False, 'hold': False, 'ability': False, 'sincere': False, 'relationships': False, 'previous': False, 'ultimate': False, 'george': False, 'giving': False, 'slight': False, 'slightly': False, 'large': False, 'apart': False, 'remember': False, 'trouble': False, 'grace': False, 'course': False, 'reveals': False, 'crowd': False, 'focus': False, 'niro': False, 'watchable': False, 'inspired': False, 'weird': False, 'leads': False, 'em': False, 'supposed': False, 'mix': False, 'mildly': False, 'episode': False, 'convincing': False, 'hardly': False, 'saw': False, 'seriously': False, 'plain': False, 'routine': False, 'badly': False, 'steven': False, 'ms': False, 'es': False, 'finds': False, 'pleasant': False, 'substance': False, 'blue': False, 'indeed': False, 'flicks': False, 'attempts': False, 'treat': False, 'gripping': False, 'ones': False, 'inventive': False, 'intimate': False, 'provoking': False, 'largely': False, 'gross': False, 'twists': False, 'fiction': False, 'terms': False, 'amount': False, 'dry': False, 'crazy': False, 'uneven': False, 'tragic': False, 'thrills': False, 'company': False, 'name': False, 'ill': False, 'room': False, 'stylish': False, '2002': False, 'sets': False, 'problems': False, 'succeeds': False, 'york': False, 'pacing': False, 'disturbing': False, 'standard': False, 'unique': False, 'hits': False, 'triumph': False, 'happens': False, 'painful': False, 'sports': False, 'sophisticated': False, 'refreshing': False, 'goofy': False, 'played': False, 'near': False, 'friendship': False, 'business': False, 'person': False, 'cross': False, 'presents': False, 'absolutely': False, 'interested': False, 'complete': False, 'meditation': False, 'involving': False, 'poetry': False, 'recommend': False, 'green': False, 'successful': False, 'terrible': False, 'x': False, 'runs': False, 'colorful': False, 'themes': False, 'promise': False, 'indulgent': False, 'skin': False, 'appears': False, '10': False, 'television': False, 'edge': False, 'bright': False, 'considerable': False, 'blood': False, 'soundtrack': False, 'twist': False, 'red': False, 'heaven': False, 'effect': False, 'drag': False, 'gay': False, 'missing': False, 'viewing': False, 'lame': False, 'word': False, 'hate': False, 'somehow': False, 'loses': False, 'target': False, 'british': False, 'constructed': False, 'absorbing': False, 'imax': False, 'clichs': False, 'manner': False, 'parts': False, 'originality': False, 'non': False, 'general': False, 'conflict': False, 'equally': False, 'forget': False, 'frame': False, 'typical': False, 'talk': False, 'politics': False, 'brain': False, 'strangely': False, 'stunning': False, 'break': False, 'murphy': False, 'pieces': False, 'sandler': False, 'blend': False, 'fan': False, 'bizarre': False, 'wanted': False, 'ice': False, 'wife': False, 'share': False, 'franchise': False, 'wise': False, 'core': False, 'dream': False, 'sentimentality': False, 'hot': False, 'tom': False, 'evil': False, 'situations': False, 'forced': False, 'poor': False, 'huge': False, 'peter': False, 'fare': False, 'means': False, 'el': False, 'beat': False, 'today': False, 'whatever': False, 'alive': False, 'depressing': False, 'grief': False, 'battle': False, 'somewhere': False, 'obviously': False, 'space': False, 'lines': False, 'understand': False, 'painfully': False, 'moore': False, 'affecting': False, 'please': False, 'holds': False, 'fat': False, 'wedding': False, 'post': False, 'energetic': False, 'soderbergh': False, 'follow': False, 'tough': False, 'sexy': False, 'report': False, 'liked': False, 'setting': False, 'guilty': False, 'punch': False, 'child': False, 'questions': False, 'haunting': False, 'match': False, 'created': False, 'central': False, 'loss': False, 'tells': False, 'eventually': False, 'virtually': False, 'popcorn': False, 'derivative': False, 'doubt': False, 'said': False, 'god': False, 'car': False, 'cliche': False, 'refreshingly': False, 'slice': False, 'talking': False, 'amazing': False, 'hearted': False, 'treasure': False, 'riveting': False, 'imaginative': False, 'footage': False, 'fear': False, 'excitement': False, 'allows': False, 'identity': False, 'unlike': False, 'pay': False, 'spectacular': False, 'minor': False, 'humanity': False, 'realistic': False, 'shallow': False, 'indie': False, 'insightful': False, 'possibly': False, 'parker': False, 'remarkably': False, 'warmth': False, 'generation': False, 'price': False, 'weak': False, 'within': False, 'places': False, 'jones': False, 'vivid': False, 'toward': False, 'slapstick': False, 'deliver': False, 'genuinely': False, 'faith': False, 'telling': False, 'atmosphere': False, 'spirited': False, 'generally': False, 'opportunity': False, 'conventional': False, 'finish': False, 'clearly': False, 'una': False, 'sea': False, 'screenwriter': False, 'worthwhile': False, 'voice': False, 'japanese': False, 'blade': False, 'powers': False, 'party': False, 'chan': False, 'lets': False, 'essentially': False, 'wish': False, 'late': False, 'sitting': False, 'bears': False, 'needed': False, 'superficial': False, 'greatest': False, 'overly': False, 'efforts': False, 'charisma': False, 'bullock': False, 'intended': False, 'son': False, 'mother': False, 'wait': False, 'aside': False, 'unusual': False, 'surface': False, 'balance': False, 'science': False, 'decades': False, 'queen': False, 'natural': False, 'filmed': False, 'solondz': False, 'revenge': False, 'heartfelt': False, 'particular': False, 'ages': False, 'produced': False, 'delicate': False, 'brown': False, 'super': False, 'purpose': False, 'spiritual': False, 'fit': False, 'affair': False, 'equivalent': False, 'credit': False, 'packed': False, 'community': False, 'usually': False, 'wildly': False, 'motion': False, 'treatment': False, 'directors': False, 'spectacle': False, 'list': False, 'damned': False, 'turned': False, 'martin': False, 'number': False, 'mindless': False, 'believable': False, 'gangster': False, 'simplistic': False, 'lazy': False, 'poorly': False, 'j': False, 'combination': False, 'exhilarating': False, 'reading': False, 'deftly': False, 'promising': False, 'deeper': False, 'subjects': False, 'theme': False, 'delight': False, 'offering': False, 'jason': False, 'release': False, 'brothers': False, 'mesmerizing': False, 'third': False, 'detail': False, 'longer': False, 'directorial': False, 'fashion': False, 'score': False, 'nonsense': False, 'value': False, 'stay': False, 'festival': False, 'sounds': False, 'funnier': False, 'k': False, 'provide': False, 'skill': False, 'manipulative': False, 'editing': False, 'quietly': False, 'extraordinary': False, 'raw': False, 'vehicle': False, 'dreams': False, 'credits': False, 'seat': False, 'sum': False, 'universal': False, 'angst': False, 'ridiculous': False, 'figure': False, 'hoffman': False, 'stage': False, 'land': False, 'studio': False, 'empty': False, 'killer': False, 'vs': False, 'ring': False, 'sequence': False, 'james': False, 'stale': False, 'devoid': False, 'move': False, 'stunts': False, 'yarn': False, 'giant': False, 'inner': False, 'intense': False, 'loved': False, 'early': False, 'friends': False, 'values': False, 'courage': False, 'hop': False, 'results': False, 'digital': False, 'performers': False, 'desire': False, 'cinematography': False, 'prove': False, 'gem': False, 'win': False, 'behavior': False, 'count': False, '20': False, 'perspective': False, 'striking': False, 'daring': False, 'sitcom': False, 'accessible': False, 'strength': False, 'development': False, 'anti': False, 'exploration': False, '9': False, 'eyed': False, 'expected': False, 'damn': False, 'society': False, 'affection': False, 'visuals': False, 'represents': False, 'inspiring': False, 'lee': False, 'pleasures': False, 'adult': False, 'challenging': False, 'farce': False, 'type': False, 'stock': False, 'poetic': False, 'chilling': False, 'achieves': False, 'diverting': False, 'profound': False, 'group': False, 'kevin': False, 'thinks': False, 'computer': False, 'awkward': False, 'drawn': False, 'repetitive': False, 'roger': False, 'public': False, 'endearing': False, 'shame': False, 'consider': False, 'violent': False, 'avoid': False, 'oddly': False, 'stomach': False, 'trick': False, 'justice': False, 'quick': False, 'king': False, 'week': False, 'friday': False, 'body': False, 'sight': False, 'holes': False, 'complicated': False, 'crimes': False, 'members': False, 'fall': False, 'irritating': False, 'frequently': False, 'attraction': False, 'die': False, 'dreary': False, 'shots': False, 'save': False, 'chase': False, 'shoot': False, 'seagal': False, 'pointless': False, 'disguise': False, 'emerges': False, 'intentions': False, 'pulls': False, 'imagery': False, 'glimpse': False, 'games': False, 'songs': False, 'adolescent': False, 'struggle': False, 'example': False, 'chance': False, 'incredibly': False, 'dance': False, 'language': False, 'enjoyed': False, 'walk': False, 'marks': False, 'folks': False, 'determined': False, 'return': False, 'moviemaking': False, 'delivered': False, 'mild': False, 'admirable': False, 'clumsy': False, 'buy': False, 'musical': False, 'stands': False, 'using': False, 'necessary': False, 'italian': False, 'chinese': False, 'sugar': False, 'shake': False, 'nicely': False, 'serves': False, 'designed': False, 'hill': False, 'kaufman': False, 'happen': False, 'levels': False, 'reno': False, 'grand': False, 'predecessor': False, 'intrigue': False, 'presence': False, 'overcome': False, 'humorous': False, 'artistic': False, 'tribute': False, 'trash': False, 'nowhere': False, 'machine': False, 'commercial': False, 'un': False, 'concerned': False, 'ups': False, 'conscious': False, 'davis': False, 'male': False, 'scorsese': False, 'monty': False, 'unless': False, 'team': False, 'minded': False, 'chris': False, 'ghost': False, 'industry': False, 'ryan': False, 'bits': False, 'beneath': False, 'father': False, 'um': False, 'frustrating': False, 'step': False, 'waiting': False, 'weight': False, 'structure': False, 'trifle': False, 'fears': False, 'failure': False, 'ground': False, 'main': False, 'adam': False, 'hackneyed': False, 'del': False, 'rate': False, 'annoying': False, 'offensive': False, 'tiresome': False, 'bore': False, 'arnold': False, 'earth': False, 'glass': False, 'surely': False, 'creating': False, 'tender': False, 'snow': False, 'grows': False, 'accomplished': False, 'gritty': False, 'flair': False, 'song': False, 'national': False, 'favor': False, 'common': False, 'double': False, 'spend': False, 'roles': False, 'fair': False, 'mike': False, 'superior': False, 'precious': False, 'disaster': False, 'mixed': False, 'foreign': False, 'source': False, 'thrilling': False, 'storyline': False, 'search': False, 'desperate': False, 'greek': False, 'assured': False, 'stop': False, 'surreal': False, 'food': False, 'winds': False, 'bunch': False, 'authentic': False, 'hey': False, 'maudlin': False, 'vibrant': False, 'deserve': False, 'talents': False, 'wry': False, 'delivery': False, 'matters': False, 'soon': False, 'opening': False, 'unpleasant': False, 'madonna': False, 'spider': False, 'broad': False, 'sheer': False, 'present': False, 'rent': False, 'miller': False, 'dazzling': False, 'modest': False, 'funniest': False, 'reach': False, 'wonderfully': False, 'sappy': False, 'scenario': False, 'document': False, 'bittersweet': False, 'moviegoers': False, 'eight': False, 'outrageous': False, 'makers': False, 'starring': False, 'control': False, 'sade': False, 'emotion': False, 'band': False, 'lawrence': False, 'protagonist': False, 'woody': False, 'growing': False, 'bottom': False, 'disappointing': False, 'damage': False, '70s': False, 'twice': False, 'directing': False, 'rip': False, 'center': False, 'mainstream': False, 'cause': False, 'realism': False, 'comedic': False, 'burns': False, 'excuse': False, 'standards': False, 'overwrought': False, 'holiday': False, 'meandering': False, 'apparently': False, 'clich': False, 'showtime': False, 'fatal': False, 'benigni': False, 'wrote': False, 'lived': False, 'wow': False, 'paid': False, 'beginning': False, 'moves': False, 'fable': False, 'features': False, 'eccentric': False, 'brother': False, 'playful': False, 'dangerous': False, 'iranian': False, 'english': False, 'detailed': False, 'discovery': False, 'channel': False, 'metaphor': False, 'south': False, 'drive': False, 'forgotten': False, 'lively': False, 'harmless': False, 'faithful': False, 'aspects': False, 'morality': False, 'howard': False, 'complexity': False, 'safe': False, 'natured': False, 'bigger': True, 'wears': False, 'territory': False, 'brought': False, 'personality': False, 'polanski': False, 'escape': False, 'depiction': False, 'increasingly': False, 'stirring': False, 'godard': False, 'caper': False, 'philosophical': False, 'notion': False, 'respect': False, 'build': False, 'revolution': False, 'intellectual': False, 'experiences': False, 'check': False, 'slick': False, 'mile': False, 'relatively': False, 'becoming': False, 'frida': False, 'fantastic': False, 'featuring': False, 'barbershop': False, 'cheesy': False, 'vividly': False, 'heartwarming': False, 'stays': False, 'camp': False, 'secrets': False, 'compassion': False, 'grade': False, 'reasonably': False, 'lies': False, 'literary': False, 'cho': False, 'woo': False, 'loose': False, 'fish': False, 'romp': False, 'pokemon': False, 'christmas': False, 'revealing': False, 'cynical': False, 'mistake': False, 'consistently': False, 'front': False, 'roll': False, 'unfolds': False, 'cautionary': False, 'broomfield': False, 'choices': False, 'lesson': False, 'carries': False, 'turning': False, 'reign': False, 'showing': False, 'state': False, 'zone': False, 'teacher': False, 'empathy': False, 'nasty': False, 'sleep': False, 'addition': False, 'pain': False, 'americans': False, 'finding': False, 'xxx': False, 'noir': False, 'fight': False, 'joy': False, 'mention': False, 'frank': False, 'pass': False, 'laughter': False, 'shock': False, 'barry': False, 'retread': False, 'sign': False, 'mayhem': False, 'including': False, 'served': False, 'sloppy': False, 'confusing': False, 'conclusion': False, 'vampire': False, 'harvard': False, 'worked': False, 'paper': False, 'plotting': False, 'product': False, 'van': False, 'issue': False, 'literally': False, 'cat': False, 'willing': False, 'connect': False, '15': False, 'took': False, 'spooky': False, 'acts': False, 'known': False, 'importance': False, 'martha': False, 'hearts': False, 'held': False, 'teens': False, 'books': False, 'pull': False, 'loving': False, 'preposterous': False, 'patience': False, 'resonant': False, 'constantly': False, 'technical': False, 'following': False, 'likable': False, 'tour': False, 'captivating': False, 'capture': False, 'analyze': False, 'cop': False, 'spare': False, 'sides': False, 'bored': False, 'leaving': False, 'u': False, 'scale': False, 'polished': False, 'appreciate': False, 'cloying': False, 'frontal': False, '11': False, 'bold': False, 'aged': False, 'brutal': False, 'marriage': False, 'cliched': False, 'elegant': False, 'street': False, 'logic': False, 'vulgar': False, 'visceral': False, 'sick': False, 'fisher': False, 'fly': False, 'desperately': False, 'catch': False, 'realized': False, 'suspenseful': False, 'wide': False, 'went': False, 'consciousness': False, 'asks': False, 'washington': False, 'hopkins': False, 'meets': False, 'homage': False, 'resonance': False, 'utter': False, 'dancing': False, 'speaking': False, 'wacky': False, 'string': False, 'event': False, 'rhythms': False, 'spark': False, 'persona': False, 'junk': False, 'pity': False, 'demands': False, 'harry': False, 'dragon': False, 'oh': False, 'manage': False, 'rap': False, 'austin': False, 'winner': False, 'shyamalan': False, 'potentially': False, 'spoof': False, 'paul': False, 'preachy': False, 'unlikely': False, 'kissinger': False, 'sympathy': False, 'capable': False, 'witch': False, 'anne': False, 'belongs': False, 'creativity': False, 'mad': False, 'conviction': False, 'messages': False, 'intensity': False, 'due': False, 'dimensional': False, 'inept': False, 'downright': False, 'signs': False, 'season': False, 'collection': False, 'details': False, 'sequels': False, 'stuck': False, 'strictly': False, 'older': False, 'families': False, 'animal': False, 'guns': False, 'rises': False, 'totally': False, 'amateurish': False, 'horrible': False, 'banal': False, 'ludicrous': False, 'ordinary': False, 'parody': False, 'biggest': False, 'wasted': False, 'plodding': False, 'pinocchio': False, 'evocative': False, 'planet': False, 'helps': False, 'lane': False, 'bite': False, 'hair': False, 'humour': False, 'clarity': False, 'directs': False, '3': False, 'artists': False, 'holocaust': False, 'mainly': False, 'format': False, 'expectations': False, 'suffering': False, 'finale': False, 'honesty': False, 'aware': False, 'entertain': False, 'kiss': False, 'husband': False, 'slowly': False, 'park': False, 'account': False, 'traditional': False, 'huppert': False, 'jack': False, 'britney': False, 'outside': False, 'gang': False, 'race': False, 'understanding': False, 'timely': False, 'grown': False, 'touches': False, 'brilliantly': False, 'christian': False, 'grow': False, 'nostalgia': False, 'soft': False, 'ahead': False, 'memories': False, 'insights': False, 'direct': False, 'offbeat': False, '60s': False, 'seeking': False, 'uplifting': False, 'lyrical': False, 'hands': False, 'lady': False, 'jealousy': False, 'seemingly': False, 'transcends': False, 'office': False, 'learn': False, 'quest': False, 'wars': False, 'pretension': False, 'pathos': False, 'c': False, 'cult': False, 'test': False, 'twisted': False, 'realize': False, 'predictably': False, 'pleasing': False, 'innocence': False, 'tales': False, 'exploitation': False, 'tears': False, 'biting': False, 'current': False, 'closer': False, 'observations': False, 'admire': False, 'suggests': False, 'skip': False, 'cuts': False, 'fill': False, 'charms': False, 'record': False, 'bitter': False, 'hook': False, 'mill': False, 'subversive': False, 'amused': False, 'broken': False, 'built': False, 'afraid': False, 'design': False, 'false': False, 'tasty': False, 'degree': False, 'sour': False, 'predecessors': False, 'total': False, 'southern': False, 'hybrid': False, 'paint': False, 'writers': False, 'leigh': False, 'poignancy': False, 'sentiment': False, 'rewarding': False, 'smarter': False, 'saving': False, 'faced': False, 'shooting': False, 'com': False, 'costumes': False, 'theaters': False, 'reminds': False, 'content': False, 'stealing': False, 'blair': False, 'buddy': False, 'drug': False, 'pic': False, 'trek': False, 'proof': False, 'knowing': False, 'dealing': False, 'released': False, 'image': False, 'candy': False, 'n': False, 'birthday': False, 'onto': False, 'stereotypes': False, 'teenage': False, 'tradition': False, 'actresses': False, 'fairy': False, 'silliness': False, 'heard': False, 'unfaithful': False, 'dirty': False, 'credibility': False, 'basic': False, '1': False, 'happened': False, 'executed': False, 'spent': False, 'required': False, 'supporting': False, 'embarrassment': False, 'smile': False, 'changing': False, 'flashy': False, 'screenwriting': False, 'ask': False, 'commentary': False, 'bag': False, 'meant': False, 'santa': False, 'kung': False, 'pathetic': False, 'trite': False, 'sadly': False, 'lousy': False, 'lifeless': False, 'uninspired': False, 'r': False, 'scores': False, 'grandeur': False, 'earlier': False, 'effectively': False, 'drugs': False, 'hugh': False, 'whimsy': False, 'vincent': False, 'distinctive': False, 'technology': False, 'rhythm': False, 'undeniably': False, 'bringing': False, 'madness': False, 'astonishing': False, 'herzog': False, 'shocking': False, 'startling': False, 'fierce': False, 'comfort': False, 'stylized': False, 'hong': False, 'kong': False, 'bourne': False, 'significant': False, 'photography': False, 'curiosity': False, 'chicago': False, 'lovers': False, 'enterprise': False, 'secret': False, 'ambition': False, 'news': False, 'russian': False, 'obsession': False, 'slasher': False, 'ticket': False, 'absurd': False, 'alabama': False, 'path': False, 'trapped': False, 'nair': False, 'honestly': False, 'understands': False, 'travel': False, 'heartbreaking': False, 'dong': False, 'tsai': False, 'escapism': False, 'poem': False, 'windtalkers': False, 'pick': False, 'figures': False, 'continues': False, 'background': False, 'wilde': False, 'ingredients': False, 'disappointed': False, 'pat': False, 'committed': False, 'proceedings': False, 'pianist': False, 'contrivances': False, 'gender': False, 'menace': False, 'frailty': False, 'h': False, 'finest': False, 'bloody': False, 'spot': False, 'seven': False, 'equal': False, 'cruel': False, 'fate': False, 'larger': False, 'victims': False, 'relentless': False, 'creation': False, 'affirming': False, 'divine': False, 'spell': False, 'gradually': False, 'terrifying': False, '13': False, 'providing': False, 'shakespeare': False, 'remembered': False, 'onscreen': False, 'stuart': False, 'tarantino': False, 'diversion': False, 'friend': False, 'order': False, 'robin': False, 'inspire': False, 'wall': False, 'answers': False, 'timing': False, 'subtlety': False, 'engage': False, 'saturday': False, 'matinee': False, 'relies': False, 'monsters': False, 'market': False, 'prison': False, 'competent': False, 'charlie': False, 'handsome': False, 'slap': False, 'rendered': False, 'wind': False, 'context': False, 'cutting': False, 'teenagers': False, 'service': False, '19': False, 'appear': False, 'achievement': False, 'smug': False, 'devastating': False, 'mixture': False, 'characterizations': False, 'contains': False, 'bother': False, 'adds': False, 'inducing': False, 'filme': False, 'nicholas': False, 'artificial': False, 'nightmare': False, 'impression': False, 'dramatically': False, 'wannabe': False, 'excess': False, 'revelatory': False, 'parable': False, 'yu': False, 'con': False, 'laughing': False, 'notice': False, 'trappings': False, 'deadly': False, 'saying': False, 'superb': False, 'distance': False, 'dvd': False, '100': False, 'pitch': False, 'cable': False, 'endeavor': False, 'chick': False, 'rush': False, 'somber': False, 'knowledge': False, 'manhattan': False, 'intentioned': False, 'graphic': False, 'inoffensive': False, 'scooby': False, 'apparent': False, 'gag': False, 'mere': False, 'pseudo': False, 'drags': False, 'disbelief': False, 'chaotic': False, 'ritchie': False, 'crude': False, 'justify': False, 'missed': False, 'unintentional': False, 'pile': False, 'schneider': False, 'incoherent': False, 'ballistic': False, 'tuxedo': False, 'conceived': False, 'elaborate': False, 'oriented': False, 'famous': False, 'breath': False, 'independent': False, 'maintains': False, 'bow': False, 'resembles': False, 'masterful': False, 'seemed': False, 'static': False, 'draws': False, 'darkly': False, '50': False, 'celebrates': False, 'chilly': False, 'adams': False, 'haneke': False, 'narc': False, 'kapur': False, 'horrifying': False, 'reel': False, 'edited': False, 'gut': False, 'wrenching': False, 'hear': False, 'terribly': False, 'charismatic': False, 'gory': False, 'potent': False, 'lo': False, 'irish': False, 'caine': False, 'anywhere': False, 'misses': False, 'roots': False, 'follows': False, 'uncompromising': False, 'existence': False, 'droll': False, 'understated': False, 'rise': False, 'haynes': False, 'amy': False, 'unflinching': False, 'cultures': False, 'clooney': False, 'window': False, 'admit': False, 'anyway': False, 'faces': False, 'speaks': False, 'pumpkin': False, 'forces': False, 'considering': False, 'frightening': False, 'notch': False, 'tongue': False, 'attitude': False, 'loves': False, 'savvy': False, 'rough': False, 'choose': False, 'keeping': False, 'credible': False, 'genres': False, 'actual': False, 'dahmer': False, 'coherent': False, 'breathtaking': False, 'strike': False, 'building': False, 'killed': False, 'virtues': False, 'sly': False, 'wondering': False, 'splendid': False, 'theatre': False, 'saga': False, 'sink': False, 'reggio': False, 'daughter': False, 'zhang': False, 'happiness': False, 'smith': False, 'inherent': False, 'nuanced': False, 'ingenious': False, 'deft': False, 'explores': False, 'root': False, 'carefully': False, 'busy': False, 'abuse': False, 'stops': False, 'halfway': False, 'inspirational': False, 'ball': False, 'breezy': False, 'delightfully': False, 'drop': False, 'richly': False, 'thrillers': False, 'childhood': False, 'critics': False, 'vital': False, 'spite': False, 'gifted': False, 'fighting': False, 'hopeful': False, 'filling': False, 'domestic': False, 'scenery': False, 'gift': False, 'necessarily': False, 'piano': False, 'nerve': False, 'ridden': False, 'private': False, 'kiddie': False, 'tear': False, 'destination': False, 'unintentionally': False, 'hollow': False, 'despair': False, 'wilson': False, 'eastwood': False, 'collateral': False, 'landscape': False, 'overlong': False, 'sadness': False, 'theatrical': False, 'glory': False, 'constant': False, 'portrayal': False, 'delivering': False, 'harris': False, 'palma': False, 'intoxicating': False, 'solaris': False, 'condition': False, 'encounter': False, 'demonstrates': False, 'heroine': False, 'muddled': False, 'testament': False, '8': False, 'store': False, 'difference': False, 'color': False, 'saccharine': False, 'silence': False, 'serving': False, 'fluff': False, 'whimsical': False, 'freaks': False, 'remain': False, 'element': False, 'exploitative': False, 'brutally': False, 'started': False, 'pack': False, 'dysfunctional': False, 'limited': False, 'throws': False, 'unfocused': False, 'critical': False, 'en': False, 'nevertheless': False, 'various': False, 'abstract': False, 'police': False, 'indian': False, 'thick': False, 'west': False, 'basically': False, 'wallace': False, 'forgive': False, 'halloween': False, 'scratch': False, 'determination': False, 'guess': False, 'professional': False, 'obnoxious': False, 'send': False, 'relentlessly': False, 'flash': False, 'screenwriters': False, 'witless': False, 'pow': False, 'staged': False, 'disjointed': False, 'endless': False, 'generate': False, 'putting': False, 'crass': False, 'stiff': False, 'choppy': False, 'crap': False, 'leaden': False, 'carvey': False, 'stunt': False, 'sara': False, 'inane': False, 'soggy': False, 'unnecessary': False, '51': False, 'schwarzenegger': False, 'jean': False, 'heads': False, 'mysteries': False, 'cgi': False, 'lips': False, 'gosling': False, 'sandra': False, 'wrapped': False, 'avoids': False, 'richer': False, 'challenges': False, 'buoyant': False, 'locations': False, 'focused': False, 'rules': False, 'pair': False, 'succeed': False, 'boasts': False, 'partly': False, 'marvelous': False, 'stephen': False, 'trailer': False, 'flow': False, 'driven': False, 'medium': False, 'nicholson': False, 'award': False, 'trademark': False, 'nonetheless': False, 'guessing': False, 'impeccable': False, 'unsentimental': False, 'knew': False, 'deadpan': False, 'ship': False, 'happily': False, 'victim': False, 'peculiar': False, 'cheek': False, 'undeniable': False, 'insomnia': False, 'china': False, 'roman': False, 'sensual': False, 'empowerment': False, 'easier': False, 'pays': False, 'intricate': False, 'cares': False, 'leading': False, 'attal': False, '40': False, 'bartleby': False, 'verve': False, 'african': False, 'glossy': False, 'jacquot': False, 'unnerving': False, 'ho': False, 'matthew': False, 'bang': False, 'ended': False, 'refuses': False, 'rohmer': False, 'complications': False, 'sinks': False, 'denying': False, 'integrity': False, 'exquisitely': False, 'secretary': False, 'fail': False, 'lie': False, 'managed': False, 'anthony': False, 'delicious': False, 'enthusiasm': False, 'labute': False, 'dickens': False, 'sisterhood': False, 'sobering': False, 'antwone': False, 'lifetime': False, 'moody': False, 'egoyan': False, 'rob': False, 'thematic': False, 'marvel': False, 'evokes': False, 'engaged': False, 'photographed': False, 'parade': False, 'heat': False, 'superbly': False, 'conduct': False, 'fights': False, 'throwing': False, 'says': False, 'town': False, 'eric': False, 'simplicity': False, 'ponder': False, 'display': False, 'jackie': False, 'auto': False, 'entry': False, 'nights': False, 'mature': False, 'resist': False, 'chelsea': False, 'noble': False, 'lightweight': False, 'ramsay': False, 'friendly': False, 'haunted': False, 'extended': False, 'touched': False, 'irony': False, 'ready': False, 'rental': False, 'plotted': False, 'straightforward': False, 'weirdly': False, 'warning': False, 'colors': False, 'amid': False, 'subtly': False, 'satirical': False, 'allow': False, 'casual': False, 'presented': False, 'odds': False, 'patient': False, 'para': False, 'belly': False, 'convey': False, 'charged': False, 'topic': False, 'category': False, 'entertained': False, 'physical': False, 'grim': False, 'fanciful': False, 'nickleby': False, 'eddie': False, 'emerge': False, 'racial': False, 'hoping': False, 'legged': False, 'reaction': False, 'fake': False, 'copy': False, 'inevitable': False, 'younger': False, 'european': False, 'considered': False, 'harrowing': False, 'chabrol': False, 'bleak': False, 'ode': False, 'amounts': False, 'dying': False, 'quirks': False, 'corny': False, 'returns': False, 'humorless': False, 'crisis': False, 'wave': False, 'exceptionally': False, 'chills': False, 'sees': False, 'surrounding': False, 'crisp': False, 'mouth': False, 'beast': False, 'came': False, 'letting': False, 'vintage': False, 'imitation': False, 'whenever': False, 'trashy': False, 'costume': False, 'somebody': False, 'swallow': False, 'schaeffer': False, 'developed': False, 'cheese': False, 'rose': False, 'promises': False, 'gangs': False, 'benefit': False, 'abandon': False, 'thrill': False, 'desperation': False, 'substantial': False, 'fancy': False, 'box': False, 'twenty': False, 'semi': False, 'hitting': False, 'joyous': False, 'producer': False, 'inspiration': False, 'ponderous': False, 'slip': False, 'arrives': False, 'cletis': False, 'rice': False, 'island': False, 'gore': False, 'da': False, 'sophomoric': False, 'settles': False, 'arts': False, 'baffling': False, '80': False, 'shelf': False, 'comedian': False, 'psychology': False, 'references': False, 'enigma': False, 'g': False, 'tends': False, 'scattered': False, 'handful': False, 'looked': False, 'six': False, 'hide': False, 'comparison': False, 'produce': False, 'wilder': False, 'named': False, 'clumsily': False, 'dogs': False, 'lackluster': False, 'listless': False, 'numbingly': False, 'unimaginative': False, 'impostor': False, 'destined': False, 'describe': False, 'tepid': False, 'biopic': False, 'edges': False, 'asian': False, 'singing': False, 'reasons': False, 'author': False, 'ripe': False, 'philip': False, 'moviegoing': False, 'stevenson': False, 'rewards': False, 'kick': False, 'listen': False, 'undercover': False, 'derrida': False, 'heroes': False, 'morvern': False, 'bride': False, 'taut': False, 'delicately': False, 'masterfully': False, 'rolling': False, 'measured': False, 'blast': False, 'educational': False, 'field': False, 'cynicism': False, 'irwin': False, 'korean': False, 'adventures': False, 'rousing': False, 'psychologically': False, 'scope': False, 'cube': False, 'enthralling': False, 'dramas': False, 'respectable': False, 'qualities': False, 'doses': False, 'sweetness': False, 'factor': False, 'grasp': False, 'chiller': False, 'harsh': False, 'resolutely': False, 'claustrophobic': False, 'ranks': False, 'careful': False, 'amazingly': False, 'moved': False, 'unabashedly': False, 'propaganda': False, 'reminder': False, 'satisfy': False, 'essence': False, 'elling': False, 'denis': False, 'minds': False, 'sustains': False, 'spin': False, 'vitality': False, 'jim': False, 'todd': False, 'positive': False, 'praise': False, 'cleverness': False, 'pushes': False, 'shamelessly': False, 'messy': False, 'longing': False, 'grab': False, 'brief': False, 'yearning': False, 'glib': False, 'minority': False, 'metropolis': False, 'bruce': False, 'notes': False, 'happening': False, 'ties': False, 'potter': False, 'wet': False, 'clockstoppers': False, 'notorious': False, 'momentum': False, 'lends': False, 'anybody': False, 'depths': False, 'uncertain': False, 'observation': False, 'intent': False, 'pacino': False, 'technique': False, 'tried': False, 'task': False, 'tragedies': False, 'w': False, 'stylistic': False, 'chances': False, 'serviceable': False, 'ironic': False, 'smartly': False, 'club': False, 'celebration': False, 'japan': False, 'structured': False, 'tortured': False, 'melancholy': False, 'exotic': False, 'runner': False, 'drunk': False, 'empire': False, 'ford': False, 'taylor': False, 'cartoons': False, 'showcases': False, 'seeming': False, 'spirits': False, 'religious': False, 'closely': False, 'weeks': False, 'wins': False, 'hawn': False, 'raunchy': False, 'downbeat': False, 'speak': False, 'silver': False, 'showcase': False, 'wickedly': False, 'fourth': False, 'brand': False, 'inconsequential': False, 'shadows': False, 'aimed': False, 'begin': False, 'hoped': False, 'popular': False, 'tech': False, 'tap': False, 'alternately': False, 'buffs': False, 'portrays': False, 'conversations': False, 'outstanding': False, 'hang': False, 'later': False, 'sin': False, 'recognize': False, 'enjoyably': False, 'emptiness': False, 'noyce': False, '12': False, 'saved': False, 'shines': False, 'souls': False, 'endlessly': False, 'perverse': False, 'passionate': False, 'audacious': False, 'documentaries': False, 'players': False, 'apply': False, 'grey': False, 'jagger': False, 'villain': False, 'gently': False, 'seinfeld': False, 'sympathetic': False, 'nijinsky': False, 'strikes': False, 'artifice': False, 'appropriate': False, 'joe': False, 'cover': False, 'finely': False, 'presentation': False, 'generated': False, 'traveler': False, 'behold': False, 'jaglom': False, 'mysterious': False, 'spring': False, 'profile': False, 'watched': False, 'serial': False, 'scott': False, 'affleck': False, 'magnificent': False, 'birot': False, 'ecks': False, 'objective': False, 'ah': False, 'urgency': False, 'practically': False, 'decided': False, 'fence': False, 'concert': False, 'reflection': False, 'hack': False, 'exceptional': False, 'system': False, 'intermittently': False, 'convoluted': False, 'positively': False, 'comfortable': False, 'changes': False, 'tricks': False, '20th': False, 'brosnan': False, 'chases': False, 'goodfellas': False, 'draw': False, 'curious': False, 'intimacy': False, 'lan': False, 'measure': False, 'frankly': False, 'whale': False, 'sorry': False, 'combines': False, 'aims': False, 'daytime': False, 'uneasy': False, 'strain': False, 'unpredictable': False, 'soldiers': False, 'million': False, 'charmer': False, 'assassin': False, 'cannes': False, 'hugely': False, 'simultaneously': False, 'dignity': False, 'schmidt': False, 'demanding': False, 'variety': False, 'carry': False, 'martial': False, 'sand': False, 'exquisite': False, 'note': False, 'screaming': False, 'observant': False, 'blow': False, 'nelson': False, 'supernatural': False, 'lesser': False, 'explore': False, 'blown': False, 'awe': False, 'problematic': False, 'installment': False, 'diesel': False, 'pedestrian': False, 'porn': False, 'caught': False, 'improbable': False, 'pre': False, 'hartley': False, 'attractive': False, 'cage': False, 'instantly': False, 'similar': False, 'characterization': False, 'serve': False, 'sub': False, 'shapeless': False, 'thumbs': False, 'curiously': False, 'unoriginal': False, 'upper': False, 'mann': False, 'dragons': False, 'ghetto': False, 'voices': False, 'triangle': False, 'chou': False, 'tout': False, 'treats': False, 'searching': False, 'faster': False, 'academy': False, 'smoochy': False, 'suited': False, 'suspect': False, 'rote': False, 'ben': False, 'corner': False, 'demographic': False, 'disposable': False, 'kill': False, 'cry': False, 'vapid': False, 'rollerball': False, 'thrown': False, 'pie': False, 'spears': False, 'advice': False, 'pool': False, 'soulless': False, '4ever': False, 'lower': False, 'worn': False, 'laughable': False, 'wooden': False, 'stilted': False, 'grating': False, 'unconvincing': False, 'sketch': False, 'random': False, 'dud': False, 'merit': False, 'implausible': False, 'miserable': False, 'alas': False, 'greater': False, 'rings': False, 'steers': False, 'snappy': False, 'talky': False, 'includes': False, 'incisive': False, 'hypnotic': False, 'composed': False, 'brisk': False, 'sized': False, 'projects': False, 'literate': False, 'hotel': False, 'replete': False, 'por': False, 'su': False, 'creature': False, 'amuse': False, 'fellow': False, 'tuck': False, 'page': False, 'demonstrate': False, 'elizabeth': False, 'program': False, 'steve': False, 'waters': False, 'crew': False, 'sacrifice': False, 'drink': False, 'term': False, 'mtv': False, 'ambiguity': False, 'ops': False, 'nine': False, 'feat': False, 'infectious': False, 'senses': False, 'singles': False, 'lucas': False, 'hoot': False, 'innocent': False, 'enormously': False, 'nobody': False, 'jewish': False, 'deals': False, 'behan': False, 'solidly': False, 'unforgettable': False, 'buried': False, 'fame': False, 'undoubtedly': False, 'tadpole': False, 'combined': False, 'purely': False, 'castro': False, 'section': False, 'exceedingly': False, 'examines': False, 'absurdist': False, 'downer': False, 'decade': False, 'nuance': False, 'forth': False, 'witness': False, 'accents': False, 'occasional': False, 'thankfully': False, 'hunter': False, 'eat': False, 'tug': False, 'balanced': False, 'troopers': False, 'kinnear': False, 'legendary': False, 'mamet': False, 'enormous': False, 'precisely': False, 'coppola': False, 'visit': False, 'chosen': False, 'soulful': False, 'foul': False, 'ego': False, 'tight': False, 'ethnic': False, 'sayles': False, 'album': False, 'swim': False, 'tosca': False, 'pleaser': False, 'sam': False, 'murderous': False, 'dogtown': False, 'anderson': False, 'slack': False, 'artfully': False, 'everyday': False, 'tremendous': False, 'sensibility': False, 'moonlight': False, 'sleeve': False, 'stick': False, 'unforced': False, 'wishing': False, 'kahlo': False, 'producers': False, 'velocity': False, 'l': False, 'revelation': False, 'miracle': False, 'suck': False, 'thousands': False, 'irresistible': False, 'volatile': False, 'delights': False, 'higher': False, 'mary': False, 'expertly': False, 'exploit': False, 'fuzzy': False, 'pro': False, 'capturing': False, 'neil': False, 'mcgrath': False, 'failed': False, 'connections': False, 'meat': False, 'lifestyle': False, 'aggressively': False, 'clothes': False, 'tackles': False, 'sheridan': False, 'media': False, 'liberal': False, 'angry': False, 'evidence': False, 'walls': False, 'marginal': False, 'convenient': False, 'bogus': False, 'hungry': False, 'favorite': False, 'wilco': False, 'binoche': False, 'sarandon': False, 'hokum': False, 'aspirations': False, 'types': False, 'veers': False, 'brilliance': False, 'exposition': False, 'sticks': False, 'replaced': False, 'mundane': False, 'afloat': False, 'capacity': False, 'witherspoon': False, 'max': False, 'card': False, 'pleasurable': False, 'lewis': False, 'underlying': False, 'translation': False, 'depends': False, 'piccoli': False, 'anger': False, 'range': False, 'lit': False, '101': False, 'overblown': False, 'merchant': False, 'anime': False, 'expense': False, 'sits': False, 'urge': False, 'feet': False, 'greene': False, 'shoulders': False, 'demented': False, 'vein': False, 'throw': False, 'subculture': False}, 'neg')\n"
     ]
    }
   ],
   "source": [
    "# ---- Vectorize documents\n",
    "def find_features(review_tokens):\n",
    "    return {w: w in set(review_tokens) for w in word_features} # feature representation on document\n",
    "\n",
    "data_set= [(find_features(review_tokens), category) for (review_tokens, category) in documents]\n",
    "print(data_set[0])"
   ]
  },
  {
   "cell_type": "code",
   "execution_count": 18,
   "id": "b9488b7b-f618-4be7-b3ba-e9f3122df5b5",
   "metadata": {},
   "outputs": [
    {
     "name": "stdout",
     "output_type": "stream",
     "text": [
      "400\n"
     ]
    }
   ],
   "source": [
    "#--- Split to training and test set\n",
    "split_on = int(len(data_set)*.8)\n",
    "X_y_train= data_set[:split_on]\n",
    "X_y_test = data_set[split_on:]\n",
    "print (len(X_y_train))"
   ]
  },
  {
   "cell_type": "code",
   "execution_count": 19,
   "id": "bda1674f-960a-4b0f-a64c-a8784abdd6c2",
   "metadata": {},
   "outputs": [],
   "source": [
    "# ---- Train model\n",
    "from nltk.classify import NaiveBayesClassifier\n",
    "clf= NaiveBayesClassifier.train(X_y_train)"
   ]
  },
  {
   "cell_type": "markdown",
   "id": "d67f481e-a75b-4dbd-b90d-3e0afe9cd799",
   "metadata": {},
   "source": [
    "<font color = green >\n",
    "\n",
    "## Evaluate NaiveBase Classifyer\n",
    "\n",
    "</font>"
   ]
  },
  {
   "cell_type": "code",
   "execution_count": 20,
   "id": "fc79556b-edf6-40ce-8f4d-fbda70b043f7",
   "metadata": {},
   "outputs": [
    {
     "name": "stdout",
     "output_type": "stream",
     "text": [
      "\n",
      "\n",
      "The Accuracy of tested NaiveBaseClassifyer is:  64.0 \n",
      "\n"
     ]
    }
   ],
   "source": [
    "# ------ Evaluate mode\n",
    "print('\\n\\nThe Accuracy of tested NaiveBaseClassifyer is: ',nltk.classify.accuracy(clf, X_y_test)*100,'\\n')"
   ]
  },
  {
   "cell_type": "code",
   "execution_count": 26,
   "id": "3b05bc90-eb97-40dc-a407-5f1d02f85405",
   "metadata": {},
   "outputs": [
    {
     "name": "stdout",
     "output_type": "stream",
     "text": [
      "Most Informative Features\n",
      "                  movies = True              pos : neg    =      6.7 : 1.0\n",
      "             interesting = True              neg : pos    =      4.8 : 1.0\n",
      "                 nothing = True              neg : pos    =      4.8 : 1.0\n",
      "                   think = True              neg : pos    =      4.8 : 1.0\n",
      "                   humor = True              pos : neg    =      4.6 : 1.0\n",
      "None\n"
     ]
    }
   ],
   "source": [
    "# ----- Review most informative features\n",
    "print(clf.show_most_informative_features(5))\n"
   ]
  },
  {
   "cell_type": "markdown",
   "id": "3bb52548-22d4-49ac-b3d9-f5aea0f8fa9a",
   "metadata": {},
   "source": [
    "<font color = green >\n",
    "\n",
    "## Incorporate with sklearn\n",
    "\n",
    "</font>"
   ]
  },
  {
   "cell_type": "code",
   "execution_count": 27,
   "id": "1a9999e0-90ae-4078-bd89-881f13702b80",
   "metadata": {},
   "outputs": [],
   "source": [
    "from nltk.classify.scikitlearn import SklearnClassifier # this is wrapper to incorporate with sklearn using nltk style.\n",
    "from sklearn.naive_bayes import MultinomialNB\n",
    "\n",
    "# Convert to nltk classifiers \n",
    "MNNB_classifier= SklearnClassifier(MultinomialNB()) # Note : use ()\n",
    "\n",
    "from sklearn.linear_model import LogisticRegression\n",
    "lr_classifier = SklearnClassifier(LogisticRegression()) \n",
    "\n",
    "from sklearn.svm import SVC, LinearSVC, NuSVC # NuSVC - Similar to SVC but uses a parameter to control the number of support vectors.\n",
    "svc_clf = SklearnClassifier(SVC())  \n",
    "lin_svc_clf= SklearnClassifier(LinearSVC())  \n",
    "nu_svc_clf = SklearnClassifier(NuSVC())\n"
   ]
  },
  {
   "cell_type": "code",
   "execution_count": 28,
   "id": "48ef6408-ae7e-4ce1-8eaa-3ad3c60d4903",
   "metadata": {},
   "outputs": [
    {
     "name": "stdout",
     "output_type": "stream",
     "text": [
      "Accuracy nltk.NaiveBayesClassifier=64.0%\n",
      "Accuracy MNNB_classifier =63.0%\n",
      "Accuracy lr_classifier =64.0%\n",
      "Accuracy svc_clf=60.0%\n",
      "Accuracy lin_svc_clf=62.0%\n",
      "Accuracy nu_svc_clf=63.0%\n"
     ]
    }
   ],
   "source": [
    "# native nltk classifier\n",
    "clf= nltk.NaiveBayesClassifier.train(X_y_train) \n",
    "print('Accuracy nltk.NaiveBayesClassifier={}%'.format(nltk.classify.accuracy(clf,X_y_test) * 100))\n",
    "# clf.show_most_informative_features(15)\n",
    "MNNB_classifier.train(X_y_train)\n",
    "print('Accuracy MNNB_classifier ={}%'.format(nltk.classify.accuracy(MNNB_classifier, X_y_test) * 100)) # 79.0%\n",
    "lr_classifier.train(X_y_train)\n",
    "print('Accuracy lr_classifier ={}%'.format(nltk.classify.accuracy(lr_classifier, X_y_test) * 100)) # 82.0%\n",
    "svc_clf.train(X_y_train)\n",
    "print('Accuracy svc_clf={}%'.format(nltk.classify.accuracy(svc_clf, X_y_test) * 100)) # 52.0% - default is rbf kernel\n",
    "lin_svc_clf.train(X_y_train)\n",
    "print('Accuracy lin_svc_clf={}%'.format(nltk.classify.accuracy(lin_svc_clf, X_y_test) * 100)) # 82.0%\n",
    "nu_svc_clf.train(X_y_train)\n",
    "print('Accuracy nu_svc_clf={}%'.format(nltk.classify.accuracy(nu_svc_clf, X_y_test) * 100)) #\n"
   ]
  },
  {
   "cell_type": "code",
   "execution_count": null,
   "id": "eb78167e-5e3f-488a-8a97-0103f8c204f0",
   "metadata": {},
   "outputs": [],
   "source": []
  },
  {
   "cell_type": "code",
   "execution_count": null,
   "id": "8bcbac07-fd43-47cc-accc-00878e2ffc02",
   "metadata": {},
   "outputs": [],
   "source": []
  },
  {
   "cell_type": "markdown",
   "id": "533839f1-902b-400c-87cb-1f8ad7eb86b2",
   "metadata": {},
   "source": [
    "<font color = green >\n",
    "\n",
    "## Using SKLEARN\n",
    "\n",
    "</font>"
   ]
  },
  {
   "cell_type": "code",
   "execution_count": 29,
   "id": "3de9ee7e-cb54-43c9-936d-71085beb3f5b",
   "metadata": {},
   "outputs": [
    {
     "name": "stdout",
     "output_type": "stream",
     "text": [
      "what should have been a cutting hollywood satire is instead about as fresh as last week's issue of variety .  0\n"
     ]
    }
   ],
   "source": [
    "#---Spliting [Train/test]\n",
    "from sklearn.model_selection import train_test_split\n",
    "X_train, X_test, y_train, y_test = train_test_split(df['reviews_text'],df['Rating_binary'],random_state=0)\n",
    "# Review training sample\n",
    "print(X_train.iloc[0], y_train.iloc[0])\n"
   ]
  },
  {
   "cell_type": "code",
   "execution_count": 30,
   "id": "2fb0f30f-a24c-49cb-808e-a04cef90987b",
   "metadata": {},
   "outputs": [
    {
     "name": "stdout",
     "output_type": "stream",
     "text": [
      "features samples:\n",
      "['00', 'bv', 'discordant', 'genres', 'labour', 'overstylized', 'rotting', 'tackles', 'zest']\n",
      "\n",
      "len of features 16,021\n"
     ]
    }
   ],
   "source": [
    "#-----Count vectorizer\n",
    "from sklearn.feature_extraction.text import CountVectorizer \n",
    "vect = CountVectorizer().fit(X_train) # Fit the CountVectorizer to the training data\n",
    "print('features samples:\\n{}'.format(vect.get_feature_names()[::2000])) # display each 2000-th feature \n",
    "print ('\\nlen of features {:,}'.format(len(vect.get_feature_names()))) \n"
   ]
  },
  {
   "cell_type": "code",
   "execution_count": 31,
   "id": "6414c0d1-b911-4805-b603-ecbe9d11857e",
   "metadata": {},
   "outputs": [
    {
     "name": "stdout",
     "output_type": "stream",
     "text": [
      "  (0, 178)\t1\n",
      "  (0, 930)\t2\n",
      "  (0, 1331)\t1\n",
      "  (0, 3396)\t1\n",
      "  (0, 5770)\t1\n",
      "  (0, 6529)\t1\n",
      "  (0, 6767)\t1\n",
      "  (0, 7407)\t1\n",
      "  (0, 7610)\t1\n",
      "  (0, 7622)\t1\n",
      "  (0, 8075)\t1\n",
      "  (0, 9738)\t1\n",
      "  (0, 12177)\t1\n",
      "  (0, 12681)\t1\n",
      "  (0, 15243)\t1\n",
      "  (0, 15595)\t1\n",
      "  (0, 15652)\t1\n"
     ]
    }
   ],
   "source": [
    "# ---Transfrom the X_train to feature representation\n",
    "X_train_vectorized = vect.transform(X_train) # indeces of existing words from vocabulary and their count in current text\n",
    "print (X_train_vectorized[0])"
   ]
  },
  {
   "cell_type": "code",
   "execution_count": 32,
   "id": "7748a05a-7400-4939-a649-9fd3256261e8",
   "metadata": {},
   "outputs": [
    {
     "data": {
      "text/html": [
       "<div>\n",
       "<style scoped>\n",
       "    .dataframe tbody tr th:only-of-type {\n",
       "        vertical-align: middle;\n",
       "    }\n",
       "\n",
       "    .dataframe tbody tr th {\n",
       "        vertical-align: top;\n",
       "    }\n",
       "\n",
       "    .dataframe thead th {\n",
       "        text-align: right;\n",
       "    }\n",
       "</style>\n",
       "<table border=\"1\" class=\"dataframe\">\n",
       "  <thead>\n",
       "    <tr style=\"text-align: right;\">\n",
       "      <th></th>\n",
       "      <th>value</th>\n",
       "    </tr>\n",
       "  </thead>\n",
       "  <tbody>\n",
       "    <tr>\n",
       "      <th>0</th>\n",
       "      <td>0</td>\n",
       "    </tr>\n",
       "    <tr>\n",
       "      <th>1</th>\n",
       "      <td>0</td>\n",
       "    </tr>\n",
       "    <tr>\n",
       "      <th>2</th>\n",
       "      <td>0</td>\n",
       "    </tr>\n",
       "    <tr>\n",
       "      <th>3</th>\n",
       "      <td>0</td>\n",
       "    </tr>\n",
       "    <tr>\n",
       "      <th>4</th>\n",
       "      <td>0</td>\n",
       "    </tr>\n",
       "  </tbody>\n",
       "</table>\n",
       "</div>"
      ],
      "text/plain": [
       "   value\n",
       "0      0\n",
       "1      0\n",
       "2      0\n",
       "3      0\n",
       "4      0"
      ]
     },
     "execution_count": 32,
     "metadata": {},
     "output_type": "execute_result"
    }
   ],
   "source": [
    "# --- Review vectorized training sample\n",
    "df = pd.DataFrame(X_train_vectorized[0].toarray(), index= ['value']).T\n",
    "df.head()\n"
   ]
  },
  {
   "cell_type": "code",
   "execution_count": 33,
   "id": "cc1a784a-d73d-4ac9-b296-3a69575b78b4",
   "metadata": {},
   "outputs": [
    {
     "name": "stdout",
     "output_type": "stream",
     "text": [
      "[178, 930, 1331, 3396, 5770, 6529, 6767, 7407, 7610, 7622, 8075, 9738, 12177, 12681, 15243, 15595, 15652]\n"
     ]
    },
    {
     "data": {
      "text/plain": [
       "['about',\n",
       " 'as',\n",
       " 'been',\n",
       " 'cutting',\n",
       " 'fresh',\n",
       " 'have',\n",
       " 'hollywood',\n",
       " 'instead',\n",
       " 'is',\n",
       " 'issue',\n",
       " 'last',\n",
       " 'of',\n",
       " 'satire',\n",
       " 'should',\n",
       " 'variety',\n",
       " 'week',\n",
       " 'what']"
      ]
     },
     "execution_count": 33,
     "metadata": {},
     "output_type": "execute_result"
    }
   ],
   "source": [
    "print (list(df[df['value']>0].index))\n",
    "[vect.get_feature_names()[index] for index in df[df['value']>0].index.values]"
   ]
  },
  {
   "cell_type": "code",
   "execution_count": 36,
   "id": "1d451c13-b7d7-42a6-87fc-17163ce2a16d",
   "metadata": {},
   "outputs": [],
   "source": [
    "# ---- Train model\n",
    "from sklearn.linear_model import LogisticRegression\n",
    "from sklearn.metrics import roc_auc_score\n",
    "from sklearn.metrics import f1_score\n",
    "clf = LogisticRegression(max_iter=2000).fit(X_train_vectorized, y_train) # Train the model"
   ]
  },
  {
   "cell_type": "markdown",
   "id": "616469ed-9155-447e-a360-6b5df9835eb0",
   "metadata": {},
   "source": [
    "<font color = green >\n",
    "\n",
    "## Evaluate SKLEARN\n",
    "\n",
    "</font>"
   ]
  },
  {
   "cell_type": "code",
   "execution_count": 37,
   "id": "58fdd9a0-c734-4e56-9792-d0d92cd8bae5",
   "metadata": {},
   "outputs": [
    {
     "name": "stdout",
     "output_type": "stream",
     "text": [
      "f1:  0.7782805429864252\n",
      "AUC:  0.8472079500492402\n"
     ]
    }
   ],
   "source": [
    "# Evaluate model\n",
    "predictions = clf.predict(vect.transform(X_test)) # Predict the transformed test documents\n",
    "print('f1: ', f1_score(y_test, predictions)) \n",
    "scores = clf.decision_function(vect.transform(X_test)) \n",
    "print('AUC: ', roc_auc_score(y_test, scores)) "
   ]
  },
  {
   "cell_type": "markdown",
   "id": "0078a93e-bd91-4a2d-a3f6-06e27126c5f5",
   "metadata": {},
   "source": [
    "<font color = green >\n",
    "\n",
    "## Review relevant features of SKLEARN\n",
    "\n",
    "</font>"
   ]
  },
  {
   "cell_type": "code",
   "execution_count": 40,
   "id": "83f77bd8-df43-490f-9088-43dfb9303ede",
   "metadata": {},
   "outputs": [
    {
     "name": "stdout",
     "output_type": "stream",
     "text": [
      "Smallest coefs:\n",
      "['dull' 'boring' 'waste' 'problem' 'worst' 'neither' 'bore' 'tv' 'suffers'\n",
      " 'supposed']\n",
      "\n",
      "Largest Coefs: \n",
      "['masterpiece' 'thanks' 'enjoyable' 'entertaining' 'powerful' 'remarkable'\n",
      " 'solid' 'engrossing' 'provides' 'skin']\n"
     ]
    }
   ],
   "source": [
    "# ---Review relevant features\n",
    "# the smallest coefs corresponds to Neg impact, and largest coefs represent Pos impact\n",
    "\n",
    "feature_names = np.array(vect.get_feature_names())\n",
    "sorted_coef_index = clf.coef_[0].argsort() # ascending  [0] is just squeeze from shape (1,n)\n",
    "clf.coef_.shape, clf.coef_[0].shape, sorted(clf.coef_[0])[:10], sorted(clf.coef_[0])[-11:-1],\n",
    "\n",
    "print('Smallest coefs:\\n{}\\n'.format(feature_names[sorted_coef_index[:10]]))\n",
    "print('Largest Coefs: \\n{}'.format(feature_names[sorted_coef_index[:-11:-1]]))\n",
    "# model.coef_[0][sorted_coef_index[0]] the smallest "
   ]
  },
  {
   "cell_type": "code",
   "execution_count": null,
   "id": "c8adde6d-2669-41e7-8e53-dfb2a5048ce5",
   "metadata": {},
   "outputs": [],
   "source": []
  }
 ],
 "metadata": {
  "kernelspec": {
   "display_name": "Python 3",
   "language": "python",
   "name": "python3"
  },
  "language_info": {
   "codemirror_mode": {
    "name": "ipython",
    "version": 3
   },
   "file_extension": ".py",
   "mimetype": "text/x-python",
   "name": "python",
   "nbconvert_exporter": "python",
   "pygments_lexer": "ipython3",
   "version": "3.8.8"
  }
 },
 "nbformat": 4,
 "nbformat_minor": 5
}
