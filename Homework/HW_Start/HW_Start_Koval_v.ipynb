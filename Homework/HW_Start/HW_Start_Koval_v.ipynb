{
 "cells": [
  {
   "cell_type": "code",
   "execution_count": 10,
   "id": "32b6fb3f-25a3-4973-9fd7-72aaa08e4dbf",
   "metadata": {},
   "outputs": [
    {
     "name": "stdout",
     "output_type": "stream",
     "text": [
      " ==== TASk1 - FIBONACCI ELEMENTS ====\n",
      "The value of 60th element of Fiboncci numbers is: [1548008755920]\n"
     ]
    }
   ],
   "source": [
    "#===========TASK1 FIBONACCI =======\n",
    "def my_fibonaci(x):\n",
    "    fib=[1, 1]         # Значеннч 1-го та 2-го елементу Фібоначчі\n",
    "    if x<3:\n",
    "        rezult=1\n",
    "    else:        \n",
    "        for i in range(2,x):\n",
    "            fib.append(fib[i-2]+fib[i-1])   # Значеннч n-го елементу Фібоначі\n",
    "        rezult=fib[i]\n",
    "    return rezult\n",
    "\n",
    "print(\" ==== TASk1 - FIBONACCI ELEMENTS ====\")\n",
    "print(f'The value of 60th element of Fiboncci numbers is: [{my_fibonaci(60)}]')\n"
   ]
  },
  {
   "cell_type": "code",
   "execution_count": 11,
   "id": "8440c978-35f8-4238-b12b-7d19675b2e08",
   "metadata": {},
   "outputs": [
    {
     "name": "stdout",
     "output_type": "stream",
     "text": [
      " ==== TASK2 - SOLVING THE SYSTEM OF 3 LINEAR EQUATIONS WITH 3 VARIABLES ====\n",
      "\n",
      "The A Matrix is: \n",
      " [[1 2 3]\n",
      " [0 1 2]\n",
      " [2 0 0]]\n",
      "\n",
      "The B Matrix is: \n",
      " [1 1 0]\n",
      "\n",
      "Solution is X=[ 0. -1.  1.]\n"
     ]
    }
   ],
   "source": [
    "#===========TASK2 Lin Algebra =======\n",
    "print(\" ==== TASK2 - SOLVING THE SYSTEM OF 3 LINEAR EQUATIONS WITH 3 VARIABLES ====\")\n",
    "import numpy as np\n",
    "A_matr=np.array([[1, 2, 3], [0, 1, 2], [2, 0, 0]])\n",
    "print(f'\\nThe A Matrix is: \\n {A_matr}')\n",
    "B_matr=np.array([1, 1, 0])\n",
    "print(f'\\nThe B Matrix is: \\n {B_matr}')\n",
    "#--Розв’язок рівнянь\n",
    "answers = np.linalg.solve(A_matr, B_matr)\n",
    "\n",
    "print(f\"\\nSolution is X={answers}\")"
   ]
  },
  {
   "cell_type": "code",
   "execution_count": null,
   "id": "32126eff-1961-428a-88d6-1a486fbfc4bb",
   "metadata": {},
   "outputs": [],
   "source": [
    "#===========TASK3 Lin Algebra =======\n",
    "print(\" ==== TASK3 -  ====\")"
   ]
  },
  {
   "cell_type": "code",
   "execution_count": 9,
   "id": "6430f86a-fbf1-4f0f-ac35-9f85bc0cfb7b",
   "metadata": {},
   "outputs": [
    {
     "name": "stdout",
     "output_type": "stream",
     "text": [
      " ==== TASK4 -  ====\n"
     ]
    }
   ],
   "source": [
    "#===========TASK3 Lin Algebra =======\n",
    "print(\" ==== TASK4 -  ====\")"
   ]
  },
  {
   "cell_type": "code",
   "execution_count": null,
   "id": "1aa7b097-c7e8-4e42-8442-cad418a0fd1e",
   "metadata": {},
   "outputs": [],
   "source": []
  }
 ],
 "metadata": {
  "kernelspec": {
   "display_name": "Python 3",
   "language": "python",
   "name": "python3"
  },
  "language_info": {
   "codemirror_mode": {
    "name": "ipython",
    "version": 3
   },
   "file_extension": ".py",
   "mimetype": "text/x-python",
   "name": "python",
   "nbconvert_exporter": "python",
   "pygments_lexer": "ipython3",
   "version": "3.8.5"
  }
 },
 "nbformat": 4,
 "nbformat_minor": 5
}
